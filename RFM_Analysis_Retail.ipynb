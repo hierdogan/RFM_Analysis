{
 "cells": [
  {
   "cell_type": "code",
   "execution_count": 467,
   "id": "e5ca24a3-32eb-4cf5-a14c-06b696c4f000",
   "metadata": {},
   "outputs": [
    {
     "data": {
      "text/html": [
       "<style>:root { --jp-notebook-max-width: 100% !important; }</style>"
      ],
      "text/plain": [
       "<IPython.core.display.HTML object>"
      ]
     },
     "metadata": {},
     "output_type": "display_data"
    }
   ],
   "source": [
    "# Jupyter Notebook'u tam sayfa yapmak için...\n",
    "from IPython.display import display, HTML\n",
    "display(HTML(\"<style>:root { --jp-notebook-max-width: 100% !important; }</style>\"))"
   ]
  },
  {
   "cell_type": "code",
   "execution_count": 468,
   "id": "5579be5a",
   "metadata": {
    "ExecuteTime": {
     "end_time": "2024-08-30T13:24:11.030958Z",
     "start_time": "2024-08-30T13:24:10.881657Z"
    },
    "id": "5579be5a"
   },
   "outputs": [],
   "source": [
    "###############################################################\n",
    "# Customer Segmentation with RFM\n",
    "###############################################################\n",
    "\n",
    "# Customer Segmentation with RFM in 6 Steps\n",
    "\n",
    "# 1. Business Problem\n",
    "# 2. Data Understanding\n",
    "# 3. Data Preparation\n",
    "# 4. Calculating RFM Metrics\n",
    "# 5. Calculating RFM Scores\n",
    "# 6. Naming & Analysing RFM Segments\n",
    "\n",
    "\n",
    "# Bir e-ticaret şirketi müşterilerini segmentlere ayırıp bu segmentlere göre\n",
    "# pazarlama stratejileri belirlemek istiyor.\n",
    "\n",
    "# Buna yönelik olarak müşterilerin davranışlarını tanımlayacağız ve\n",
    "# bu davranışlarda öbeklenmelere göre gruplar oluşturacağız.\n",
    "\n",
    "# Veri Seti Hikayesi\n",
    "#\n",
    "# https://archive.ics.uci.edu/ml/datasets/Online+Retail+II\n",
    "#\n",
    "# Online Retail II isimli veri seti İngiltere merkezli online bir satış mağazasının\n",
    "# 01/12/2009 - 09/12/2011 tarihleri arasındaki satışlarını içeriyor.\n",
    "\n",
    "# Değişkenler\n",
    "# InvoiceNo: Fatura numarası. Her işleme yani faturaya ait eşsiz numara.\n",
    "# Eğer bu kod C ile başlıyorsa işlemin iptal edildiğini ifade eder.\n",
    "# StockCode: Ürün kodu. Her bir ürün için eşsiz numara.\n",
    "# Description: Ürün ismi\n",
    "# Quantity: Ürün adedi. Faturalardaki ürünlerden kaçar tane satıldığını ifade etmektedir.\n",
    "# InvoiceDate: Fatura tarihi ve zamanı.\n",
    "# UnitPrice: Ürün fiyatı (Sterlin cinsinden)\n",
    "# CustomerID: Eşsiz müşteri numarası\n",
    "# Country: Ülke ismi. Müşterinin yaşadığı ülke.\n",
    "\n"
   ]
  },
  {
   "cell_type": "markdown",
   "id": "78c83aadc617da41",
   "metadata": {
    "collapsed": false,
    "jupyter": {
     "outputs_hidden": false
    }
   },
   "source": [
    "# Data Collection & Libraries"
   ]
  },
  {
   "cell_type": "code",
   "execution_count": 470,
   "id": "afc925b0",
   "metadata": {
    "ExecuteTime": {
     "end_time": "2024-08-30T13:24:11.461031Z",
     "start_time": "2024-08-30T13:24:10.908410Z"
    },
    "id": "afc925b0"
   },
   "outputs": [
    {
     "data": {
      "text/html": [
       "        <script type=\"text/javascript\">\n",
       "        window.PlotlyConfig = {MathJaxConfig: 'local'};\n",
       "        if (window.MathJax && window.MathJax.Hub && window.MathJax.Hub.Config) {window.MathJax.Hub.Config({SVG: {font: \"STIX-Web\"}});}\n",
       "        if (typeof require !== 'undefined') {\n",
       "        require.undef(\"plotly\");\n",
       "        requirejs.config({\n",
       "            paths: {\n",
       "                'plotly': ['https://cdn.plot.ly/plotly-2.32.0.min']\n",
       "            }\n",
       "        });\n",
       "        require(['plotly'], function(Plotly) {\n",
       "            window._Plotly = Plotly;\n",
       "        });\n",
       "        }\n",
       "        </script>\n",
       "        "
      ]
     },
     "metadata": {},
     "output_type": "display_data"
    }
   ],
   "source": [
    "\n",
    "import numpy as np\n",
    "import pandas as pd\n",
    "import seaborn as sns\n",
    "import matplotlib as plt\n",
    "import plotly.express as px\n",
    "import plotly as py\n",
    "import matplotlib.pyplot as plt\n",
    "import datetime as dt\n",
    "import warnings\n",
    "\n",
    "from collections import Counter\n",
    "from PIL import Image\n",
    "from pathlib import Path\n",
    "from IPython.display import HTML\n",
    "\n",
    "warnings.filterwarnings(\"ignore\")\n",
    "py.offline.init_notebook_mode(connected = True)\n",
    "\n",
    "\n",
    "pd.set_option('display.max_columns', None)\n",
    "pd.set_option('display.max_colwidth', None)\n",
    "pd.set_option('display.width', 1500)\n",
    "pd.set_option('display.float_format', lambda x: '%.3f' % x)"
   ]
  },
  {
   "cell_type": "code",
   "execution_count": 471,
   "id": "83ea7481",
   "metadata": {
    "ExecuteTime": {
     "end_time": "2024-08-30T13:24:44.792364Z",
     "start_time": "2024-08-30T13:24:10.912627Z"
    },
    "id": "83ea7481"
   },
   "outputs": [],
   "source": [
    "sh_2010 = pd.read_excel(\"online_retail_II.xlsx\", sheet_name=\"Year 2009-2010\")\n",
    "sh_2011 = pd.read_excel(\"online_retail_II.xlsx\", sheet_name=\"Year 2010-2011\")\n",
    "df_ = pd.concat([sh_2010, sh_2011], ignore_index=True)"
   ]
  },
  {
   "cell_type": "code",
   "execution_count": 472,
   "id": "65a28212-0fea-48ba-82af-0aa19a08be5a",
   "metadata": {},
   "outputs": [
    {
     "data": {
      "text/html": [
       "<div>\n",
       "<style scoped>\n",
       "    .dataframe tbody tr th:only-of-type {\n",
       "        vertical-align: middle;\n",
       "    }\n",
       "\n",
       "    .dataframe tbody tr th {\n",
       "        vertical-align: top;\n",
       "    }\n",
       "\n",
       "    .dataframe thead th {\n",
       "        text-align: right;\n",
       "    }\n",
       "</style>\n",
       "<table border=\"1\" class=\"dataframe\">\n",
       "  <thead>\n",
       "    <tr style=\"text-align: right;\">\n",
       "      <th></th>\n",
       "      <th>Invoice</th>\n",
       "      <th>StockCode</th>\n",
       "      <th>Description</th>\n",
       "      <th>Quantity</th>\n",
       "      <th>InvoiceDate</th>\n",
       "      <th>Price</th>\n",
       "      <th>Customer ID</th>\n",
       "      <th>Country</th>\n",
       "    </tr>\n",
       "  </thead>\n",
       "  <tbody>\n",
       "    <tr>\n",
       "      <th>0</th>\n",
       "      <td>489434</td>\n",
       "      <td>85048</td>\n",
       "      <td>15CM CHRISTMAS GLASS BALL 20 LIGHTS</td>\n",
       "      <td>12</td>\n",
       "      <td>2009-12-01 07:45:00</td>\n",
       "      <td>6.950</td>\n",
       "      <td>13085.000</td>\n",
       "      <td>United Kingdom</td>\n",
       "    </tr>\n",
       "    <tr>\n",
       "      <th>1</th>\n",
       "      <td>489434</td>\n",
       "      <td>79323P</td>\n",
       "      <td>PINK CHERRY LIGHTS</td>\n",
       "      <td>12</td>\n",
       "      <td>2009-12-01 07:45:00</td>\n",
       "      <td>6.750</td>\n",
       "      <td>13085.000</td>\n",
       "      <td>United Kingdom</td>\n",
       "    </tr>\n",
       "    <tr>\n",
       "      <th>2</th>\n",
       "      <td>489434</td>\n",
       "      <td>79323W</td>\n",
       "      <td>WHITE CHERRY LIGHTS</td>\n",
       "      <td>12</td>\n",
       "      <td>2009-12-01 07:45:00</td>\n",
       "      <td>6.750</td>\n",
       "      <td>13085.000</td>\n",
       "      <td>United Kingdom</td>\n",
       "    </tr>\n",
       "    <tr>\n",
       "      <th>3</th>\n",
       "      <td>489434</td>\n",
       "      <td>22041</td>\n",
       "      <td>RECORD FRAME 7\" SINGLE SIZE</td>\n",
       "      <td>48</td>\n",
       "      <td>2009-12-01 07:45:00</td>\n",
       "      <td>2.100</td>\n",
       "      <td>13085.000</td>\n",
       "      <td>United Kingdom</td>\n",
       "    </tr>\n",
       "    <tr>\n",
       "      <th>4</th>\n",
       "      <td>489434</td>\n",
       "      <td>21232</td>\n",
       "      <td>STRAWBERRY CERAMIC TRINKET BOX</td>\n",
       "      <td>24</td>\n",
       "      <td>2009-12-01 07:45:00</td>\n",
       "      <td>1.250</td>\n",
       "      <td>13085.000</td>\n",
       "      <td>United Kingdom</td>\n",
       "    </tr>\n",
       "  </tbody>\n",
       "</table>\n",
       "</div>"
      ],
      "text/plain": [
       "  Invoice StockCode                          Description  Quantity         InvoiceDate  Price  Customer ID         Country\n",
       "0  489434     85048  15CM CHRISTMAS GLASS BALL 20 LIGHTS        12 2009-12-01 07:45:00  6.950    13085.000  United Kingdom\n",
       "1  489434    79323P                   PINK CHERRY LIGHTS        12 2009-12-01 07:45:00  6.750    13085.000  United Kingdom\n",
       "2  489434    79323W                  WHITE CHERRY LIGHTS        12 2009-12-01 07:45:00  6.750    13085.000  United Kingdom\n",
       "3  489434     22041         RECORD FRAME 7\" SINGLE SIZE         48 2009-12-01 07:45:00  2.100    13085.000  United Kingdom\n",
       "4  489434     21232       STRAWBERRY CERAMIC TRINKET BOX        24 2009-12-01 07:45:00  1.250    13085.000  United Kingdom"
      ]
     },
     "execution_count": 472,
     "metadata": {},
     "output_type": "execute_result"
    }
   ],
   "source": [
    "df = df_.copy()\n",
    "df.head()"
   ]
  },
  {
   "cell_type": "code",
   "execution_count": 473,
   "id": "607d3c1c-5b02-40b5-b7aa-f0eeae65e64f",
   "metadata": {
    "ExecuteTime": {
     "end_time": "2024-08-30T13:24:44.869538Z",
     "start_time": "2024-08-30T13:24:44.860409Z"
    }
   },
   "outputs": [],
   "source": [
    "def check_df(dataframe, head):\n",
    "    print(\"##################### Shape #####################\")\n",
    "    print(dataframe.shape)\n",
    "    print(\"##################### Duplicated #####################\")\n",
    "    print(dataframe.duplicated().sum())\n",
    "    print(\"##################### Types #####################\")\n",
    "    print(dataframe.dtypes)\n",
    "    print(\"##################### N-Unique #####################\")\n",
    "    print(dataframe.nunique())\n",
    "    print(\"##################### NA #####################\")\n",
    "    print(dataframe.isnull().sum())\n",
    "    print(\"##################### Head #####################\")\n",
    "    print(dataframe.head(head))\n",
    "    print(\"##################### Tail #####################\")\n",
    "    print(dataframe.tail(head))\n",
    "    print(\"##################### Quantiles #####################\")\n",
    "    print(dataframe.describe([0.01, 0.05, 0.10, 0.25, 0.50, 0.75, 0.90, 0.95, 0.99]).T)"
   ]
  },
  {
   "cell_type": "code",
   "execution_count": 474,
   "id": "3c2913b0-04e5-412b-b939-7d58df6e22ca",
   "metadata": {
    "ExecuteTime": {
     "end_time": "2024-08-30T13:24:45.388017Z",
     "start_time": "2024-08-30T13:24:44.964559Z"
    }
   },
   "outputs": [
    {
     "name": "stdout",
     "output_type": "stream",
     "text": [
      "##################### Shape #####################\n",
      "(1067371, 8)\n",
      "##################### Duplicated #####################\n",
      "34335\n",
      "##################### Types #####################\n",
      "Invoice                object\n",
      "StockCode              object\n",
      "Description            object\n",
      "Quantity                int64\n",
      "InvoiceDate    datetime64[ns]\n",
      "Price                 float64\n",
      "Customer ID           float64\n",
      "Country                object\n",
      "dtype: object\n",
      "##################### N-Unique #####################\n",
      "Invoice        53628\n",
      "StockCode       5305\n",
      "Description     5698\n",
      "Quantity        1057\n",
      "InvoiceDate    47635\n",
      "Price           2807\n",
      "Customer ID     5942\n",
      "Country           43\n",
      "dtype: int64\n",
      "##################### NA #####################\n",
      "Invoice             0\n",
      "StockCode           0\n",
      "Description      4382\n",
      "Quantity            0\n",
      "InvoiceDate         0\n",
      "Price               0\n",
      "Customer ID    243007\n",
      "Country             0\n",
      "dtype: int64\n",
      "##################### Head #####################\n",
      "  Invoice StockCode                          Description  Quantity         InvoiceDate  Price  Customer ID         Country\n",
      "0  489434     85048  15CM CHRISTMAS GLASS BALL 20 LIGHTS        12 2009-12-01 07:45:00  6.950    13085.000  United Kingdom\n",
      "1  489434    79323P                   PINK CHERRY LIGHTS        12 2009-12-01 07:45:00  6.750    13085.000  United Kingdom\n",
      "2  489434    79323W                  WHITE CHERRY LIGHTS        12 2009-12-01 07:45:00  6.750    13085.000  United Kingdom\n",
      "3  489434     22041         RECORD FRAME 7\" SINGLE SIZE         48 2009-12-01 07:45:00  2.100    13085.000  United Kingdom\n",
      "4  489434     21232       STRAWBERRY CERAMIC TRINKET BOX        24 2009-12-01 07:45:00  1.250    13085.000  United Kingdom\n",
      "##################### Tail #####################\n",
      "        Invoice StockCode                      Description  Quantity         InvoiceDate  Price  Customer ID Country\n",
      "1067366  581587     22899     CHILDREN'S APRON DOLLY GIRL          6 2011-12-09 12:50:00  2.100    12680.000  France\n",
      "1067367  581587     23254    CHILDRENS CUTLERY DOLLY GIRL          4 2011-12-09 12:50:00  4.150    12680.000  France\n",
      "1067368  581587     23255  CHILDRENS CUTLERY CIRCUS PARADE         4 2011-12-09 12:50:00  4.150    12680.000  France\n",
      "1067369  581587     22138    BAKING SET 9 PIECE RETROSPOT          3 2011-12-09 12:50:00  4.950    12680.000  France\n",
      "1067370  581587      POST                          POSTAGE         1 2011-12-09 12:50:00 18.000    12680.000  France\n",
      "##################### Quantiles #####################\n",
      "                  count                           mean                  min                   1%                   5%                  10%                  25%                  50%                  75%                  90%                  95%                  99%                  max      std\n",
      "Quantity    1067371.000                          9.939           -80995.000               -3.000                1.000                1.000                1.000                3.000               10.000               24.000               30.000              100.000            80995.000  172.706\n",
      "InvoiceDate     1067371  2011-01-02 21:13:55.394028544  2009-12-01 07:45:00  2009-12-04 12:36:00  2010-01-12 17:15:00  2010-03-01 13:14:00  2010-07-09 09:46:00  2010-12-07 15:28:00  2011-07-22 10:23:00  2011-11-02 15:33:00  2011-11-22 10:21:00  2011-12-06 13:20:00  2011-12-09 12:50:00      NaN\n",
      "Price       1067371.000                          4.649           -53594.360                0.210                0.420                0.650                1.250                2.100                4.150                7.950                9.950               18.000            38970.000  123.553\n",
      "Customer ID  824364.000                      15324.639            12346.000            12422.000            12681.000            12971.000            13975.000            15255.000            16797.000            17713.000            17911.000            18207.000            18287.000 1697.464\n"
     ]
    }
   ],
   "source": [
    "check_df(df, 5)"
   ]
  },
  {
   "cell_type": "markdown",
   "id": "3966313cace7d3e2",
   "metadata": {
    "collapsed": false,
    "jupyter": {
     "outputs_hidden": false
    }
   },
   "source": [
    "# Basic Analysis (EDA)\n",
    "\n",
    "- Description\n",
    "- Customer\n",
    "- Invoice Content\n",
    "- Countries"
   ]
  },
  {
   "cell_type": "code",
   "execution_count": 476,
   "id": "8a790190-04ae-477c-bab1-19afe1ce738c",
   "metadata": {
    "ExecuteTime": {
     "end_time": "2024-08-30T13:24:45.428885Z",
     "start_time": "2024-08-30T13:24:45.397824Z"
    },
    "collapsed": false,
    "jupyter": {
     "outputs_hidden": false
    }
   },
   "outputs": [
    {
     "data": {
      "text/plain": [
       "5698"
      ]
     },
     "execution_count": 476,
     "metadata": {},
     "output_type": "execute_result"
    }
   ],
   "source": [
    "# What is the number of unique products?\n",
    "# Benzersiz ürün sayısı nedir?\n",
    "df[\"Description\"].nunique()"
   ]
  },
  {
   "cell_type": "code",
   "execution_count": 477,
   "id": "3ff25cd5-e816-4336-b115-abd7e879acd6",
   "metadata": {
    "ExecuteTime": {
     "end_time": "2024-08-30T13:24:45.473292Z",
     "start_time": "2024-08-30T13:24:45.430350Z"
    },
    "id": "ptpFNIXIApV9",
    "outputId": "a80a9ad8-c6dc-4831-9556-2f5d67bba16a"
   },
   "outputs": [
    {
     "data": {
      "text/plain": [
       "Description\n",
       "WHITE HANGING HEART T-LIGHT HOLDER    5918\n",
       "REGENCY CAKESTAND 3 TIER              4412\n",
       "JUMBO BAG RED RETROSPOT               3469\n",
       "ASSORTED COLOUR BIRD ORNAMENT         2958\n",
       "PARTY BUNTING                         2765\n",
       "Name: count, dtype: int64"
      ]
     },
     "execution_count": 477,
     "metadata": {},
     "output_type": "execute_result"
    }
   ],
   "source": [
    "# How many of which products do you have?\n",
    "# Hangi ürünlerden kaç tane var?\n",
    "df[\"Description\"].value_counts().head()"
   ]
  },
  {
   "cell_type": "code",
   "execution_count": 478,
   "id": "956a676a-42d1-4995-9ece-d6f463a4f15c",
   "metadata": {
    "ExecuteTime": {
     "end_time": "2024-08-30T13:24:45.553292Z",
     "start_time": "2024-08-30T13:24:45.470699Z"
    },
    "collapsed": false,
    "jupyter": {
     "outputs_hidden": false
    }
   },
   "outputs": [
    {
     "data": {
      "text/html": [
       "<div>\n",
       "<style scoped>\n",
       "    .dataframe tbody tr th:only-of-type {\n",
       "        vertical-align: middle;\n",
       "    }\n",
       "\n",
       "    .dataframe tbody tr th {\n",
       "        vertical-align: top;\n",
       "    }\n",
       "\n",
       "    .dataframe thead th {\n",
       "        text-align: right;\n",
       "    }\n",
       "</style>\n",
       "<table border=\"1\" class=\"dataframe\">\n",
       "  <thead>\n",
       "    <tr style=\"text-align: right;\">\n",
       "      <th></th>\n",
       "      <th>Quantity</th>\n",
       "    </tr>\n",
       "    <tr>\n",
       "      <th>Description</th>\n",
       "      <th></th>\n",
       "    </tr>\n",
       "  </thead>\n",
       "  <tbody>\n",
       "    <tr>\n",
       "      <th>WORLD WAR 2 GLIDERS ASSTD DESIGNS</th>\n",
       "      <td>108545</td>\n",
       "    </tr>\n",
       "    <tr>\n",
       "      <th>WHITE HANGING HEART T-LIGHT HOLDER</th>\n",
       "      <td>93050</td>\n",
       "    </tr>\n",
       "    <tr>\n",
       "      <th>ASSORTED COLOUR BIRD ORNAMENT</th>\n",
       "      <td>81306</td>\n",
       "    </tr>\n",
       "    <tr>\n",
       "      <th>JUMBO BAG RED RETROSPOT</th>\n",
       "      <td>78090</td>\n",
       "    </tr>\n",
       "    <tr>\n",
       "      <th>BROCADE RING PURSE</th>\n",
       "      <td>70700</td>\n",
       "    </tr>\n",
       "  </tbody>\n",
       "</table>\n",
       "</div>"
      ],
      "text/plain": [
       "                                    Quantity\n",
       "Description                                 \n",
       "WORLD WAR 2 GLIDERS ASSTD DESIGNS     108545\n",
       "WHITE HANGING HEART T-LIGHT HOLDER     93050\n",
       "ASSORTED COLOUR BIRD ORNAMENT          81306\n",
       "JUMBO BAG RED RETROSPOT                78090\n",
       "BROCADE RING PURSE                     70700"
      ]
     },
     "execution_count": 478,
     "metadata": {},
     "output_type": "execute_result"
    }
   ],
   "source": [
    "# Which is the most ordered product?\n",
    "# En çok sipariş edilen ürün hangisi?\n",
    "df.groupby(\"Description\").agg({\"Quantity\": \"sum\"}).sort_values(\"Quantity\", ascending=False).head()"
   ]
  },
  {
   "cell_type": "code",
   "execution_count": 479,
   "id": "8046d79e-2452-43b5-b5f9-dd68f8b1aad2",
   "metadata": {
    "ExecuteTime": {
     "end_time": "2024-08-30T13:24:45.554665Z",
     "start_time": "2024-08-30T13:24:45.497218Z"
    },
    "collapsed": false,
    "jupyter": {
     "outputs_hidden": false
    }
   },
   "outputs": [
    {
     "data": {
      "text/plain": [
       "53628"
      ]
     },
     "execution_count": 479,
     "metadata": {},
     "output_type": "execute_result"
    }
   ],
   "source": [
    "# How many invoices have been issued?\n",
    "# Toplam kac fatura kesilmiştir?\n",
    "df[\"Invoice\"].nunique()"
   ]
  },
  {
   "cell_type": "code",
   "execution_count": 480,
   "id": "b71cd56b-8676-4605-bc68-29ed3e7ca38d",
   "metadata": {
    "ExecuteTime": {
     "end_time": "2024-08-30T13:24:45.554792Z",
     "start_time": "2024-08-30T13:24:45.500269Z"
    },
    "collapsed": false,
    "jupyter": {
     "outputs_hidden": false
    }
   },
   "outputs": [
    {
     "data": {
      "text/plain": [
       "5942"
      ]
     },
     "execution_count": 480,
     "metadata": {},
     "output_type": "execute_result"
    }
   ],
   "source": [
    "# How many customers?\n",
    "# Kaç müşteri bulunuyor?\n",
    "df[\"Customer ID\"].nunique()"
   ]
  },
  {
   "cell_type": "code",
   "execution_count": 481,
   "id": "68dafbef-bbd7-4af6-974a-31bb79761b66",
   "metadata": {
    "ExecuteTime": {
     "end_time": "2024-08-30T13:24:45.706302Z",
     "start_time": "2024-08-30T13:24:45.507644Z"
    }
   },
   "outputs": [
    {
     "data": {
      "text/html": [
       "<div>\n",
       "<style scoped>\n",
       "    .dataframe tbody tr th:only-of-type {\n",
       "        vertical-align: middle;\n",
       "    }\n",
       "\n",
       "    .dataframe tbody tr th {\n",
       "        vertical-align: top;\n",
       "    }\n",
       "\n",
       "    .dataframe thead th {\n",
       "        text-align: right;\n",
       "    }\n",
       "</style>\n",
       "<table border=\"1\" class=\"dataframe\">\n",
       "  <thead>\n",
       "    <tr style=\"text-align: right;\">\n",
       "      <th></th>\n",
       "      <th>Invoice</th>\n",
       "      <th>StockCode</th>\n",
       "      <th>Description</th>\n",
       "      <th>Quantity</th>\n",
       "      <th>InvoiceDate</th>\n",
       "      <th>Price</th>\n",
       "      <th>Customer ID</th>\n",
       "      <th>Country</th>\n",
       "    </tr>\n",
       "  </thead>\n",
       "  <tbody>\n",
       "    <tr>\n",
       "      <th>748142</th>\n",
       "      <td>C556445</td>\n",
       "      <td>M</td>\n",
       "      <td>Manual</td>\n",
       "      <td>-1</td>\n",
       "      <td>2011-06-10 15:31:00</td>\n",
       "      <td>38970.000</td>\n",
       "      <td>15098.000</td>\n",
       "      <td>United Kingdom</td>\n",
       "    </tr>\n",
       "    <tr>\n",
       "      <th>241827</th>\n",
       "      <td>512771</td>\n",
       "      <td>M</td>\n",
       "      <td>Manual</td>\n",
       "      <td>1</td>\n",
       "      <td>2010-06-17 16:53:00</td>\n",
       "      <td>25111.090</td>\n",
       "      <td>NaN</td>\n",
       "      <td>United Kingdom</td>\n",
       "    </tr>\n",
       "    <tr>\n",
       "      <th>241824</th>\n",
       "      <td>C512770</td>\n",
       "      <td>M</td>\n",
       "      <td>Manual</td>\n",
       "      <td>-1</td>\n",
       "      <td>2010-06-17 16:52:00</td>\n",
       "      <td>25111.090</td>\n",
       "      <td>17399.000</td>\n",
       "      <td>United Kingdom</td>\n",
       "    </tr>\n",
       "    <tr>\n",
       "      <th>320581</th>\n",
       "      <td>C520667</td>\n",
       "      <td>BANK CHARGES</td>\n",
       "      <td>Bank Charges</td>\n",
       "      <td>-1</td>\n",
       "      <td>2010-08-27 13:42:00</td>\n",
       "      <td>18910.690</td>\n",
       "      <td>NaN</td>\n",
       "      <td>United Kingdom</td>\n",
       "    </tr>\n",
       "    <tr>\n",
       "      <th>1050063</th>\n",
       "      <td>C580605</td>\n",
       "      <td>AMAZONFEE</td>\n",
       "      <td>AMAZON FEE</td>\n",
       "      <td>-1</td>\n",
       "      <td>2011-12-05 11:36:00</td>\n",
       "      <td>17836.460</td>\n",
       "      <td>NaN</td>\n",
       "      <td>United Kingdom</td>\n",
       "    </tr>\n",
       "  </tbody>\n",
       "</table>\n",
       "</div>"
      ],
      "text/plain": [
       "         Invoice     StockCode   Description  Quantity         InvoiceDate     Price  Customer ID         Country\n",
       "748142   C556445             M        Manual        -1 2011-06-10 15:31:00 38970.000    15098.000  United Kingdom\n",
       "241827    512771             M        Manual         1 2010-06-17 16:53:00 25111.090          NaN  United Kingdom\n",
       "241824   C512770             M        Manual        -1 2010-06-17 16:52:00 25111.090    17399.000  United Kingdom\n",
       "320581   C520667  BANK CHARGES  Bank Charges        -1 2010-08-27 13:42:00 18910.690          NaN  United Kingdom\n",
       "1050063  C580605     AMAZONFEE    AMAZON FEE        -1 2011-12-05 11:36:00 17836.460          NaN  United Kingdom"
      ]
     },
     "execution_count": 481,
     "metadata": {},
     "output_type": "execute_result"
    }
   ],
   "source": [
    "# what are the most expensive products?\n",
    "# En pahalı ürünler hangileri?\n",
    "df.sort_values(\"Price\", ascending=False).head()"
   ]
  },
  {
   "cell_type": "code",
   "execution_count": 482,
   "id": "4f830f87-0668-4d92-919d-21dadb0a5b8f",
   "metadata": {
    "ExecuteTime": {
     "end_time": "2024-08-30T13:24:46.394918Z",
     "start_time": "2024-08-30T13:24:46.386035Z"
    },
    "collapsed": false,
    "jupyter": {
     "outputs_hidden": false
    }
   },
   "outputs": [
    {
     "data": {
      "text/plain": [
       "0         0.002\n",
       "1         0.002\n",
       "2         0.002\n",
       "3         0.002\n",
       "4         0.001\n",
       "           ... \n",
       "1067366   0.000\n",
       "1067367   0.000\n",
       "1067368   0.000\n",
       "1067369   0.000\n",
       "1067370   0.000\n",
       "Name: TotalPayment, Length: 1067371, dtype: float64"
      ]
     },
     "execution_count": 482,
     "metadata": {},
     "output_type": "execute_result"
    }
   ],
   "source": [
    "# Average revenue per invoice?\n",
    "# (it is necessary to create a new variable by multiplying two variables)\n",
    "# Fatura başına ortalama gelir?\n",
    "# (iki değişkeni çarparak yeni bir değişken oluşturmak gerekir)\n",
    "df[\"TotalPayment\"] = df[\"Quantity\"] * df[\"Price\"]\n",
    "df[\"TotalPayment\"]/df[\"Invoice\"].nunique()"
   ]
  },
  {
   "cell_type": "code",
   "execution_count": 483,
   "id": "d1836e58-8b8a-4dc6-938d-5942e087f6da",
   "metadata": {
    "ExecuteTime": {
     "end_time": "2024-08-30T13:24:45.706503Z",
     "start_time": "2024-08-30T13:24:45.650416Z"
    }
   },
   "outputs": [
    {
     "data": {
      "text/html": [
       "<div>\n",
       "<style scoped>\n",
       "    .dataframe tbody tr th:only-of-type {\n",
       "        vertical-align: middle;\n",
       "    }\n",
       "\n",
       "    .dataframe tbody tr th {\n",
       "        vertical-align: top;\n",
       "    }\n",
       "\n",
       "    .dataframe thead th {\n",
       "        text-align: right;\n",
       "    }\n",
       "</style>\n",
       "<table border=\"1\" class=\"dataframe\">\n",
       "  <thead>\n",
       "    <tr style=\"text-align: right;\">\n",
       "      <th></th>\n",
       "      <th>TotalPayment</th>\n",
       "    </tr>\n",
       "    <tr>\n",
       "      <th>Country</th>\n",
       "      <th></th>\n",
       "    </tr>\n",
       "  </thead>\n",
       "  <tbody>\n",
       "    <tr>\n",
       "      <th>United Kingdom</th>\n",
       "      <td>16382583.897</td>\n",
       "    </tr>\n",
       "    <tr>\n",
       "      <th>EIRE</th>\n",
       "      <td>615519.550</td>\n",
       "    </tr>\n",
       "    <tr>\n",
       "      <th>Netherlands</th>\n",
       "      <td>548524.950</td>\n",
       "    </tr>\n",
       "    <tr>\n",
       "      <th>Germany</th>\n",
       "      <td>417988.561</td>\n",
       "    </tr>\n",
       "    <tr>\n",
       "      <th>France</th>\n",
       "      <td>328191.800</td>\n",
       "    </tr>\n",
       "  </tbody>\n",
       "</table>\n",
       "</div>"
      ],
      "text/plain": [
       "                TotalPayment\n",
       "Country                     \n",
       "United Kingdom  16382583.897\n",
       "EIRE              615519.550\n",
       "Netherlands       548524.950\n",
       "Germany           417988.561\n",
       "France            328191.800"
      ]
     },
     "execution_count": 483,
     "metadata": {},
     "output_type": "execute_result"
    }
   ],
   "source": [
    "# How much income did countries generate?\n",
    "# Hangi ulke ne kadar kazandırdı?\n",
    "df.groupby(\"Country\").agg({\"TotalPayment\": \"sum\"}).sort_values(\"TotalPayment\", ascending=False).head()"
   ]
  },
  {
   "cell_type": "markdown",
   "id": "35e5ae37-0a3f-4c4d-b0c0-6e1588b9b851",
   "metadata": {
    "collapsed": false,
    "jupyter": {
     "outputs_hidden": false
    }
   },
   "source": [
    "# Data Preparation"
   ]
  },
  {
   "cell_type": "markdown",
   "id": "f5475a42b374262",
   "metadata": {
    "collapsed": false,
    "jupyter": {
     "outputs_hidden": false
    }
   },
   "source": [
    "### Duplicate Entries"
   ]
  },
  {
   "cell_type": "code",
   "execution_count": 486,
   "id": "acbc408ea312cfa9",
   "metadata": {
    "ExecuteTime": {
     "end_time": "2024-08-30T13:24:46.122115Z",
     "start_time": "2024-08-30T13:24:45.747710Z"
    },
    "collapsed": false,
    "jupyter": {
     "outputs_hidden": false
    }
   },
   "outputs": [
    {
     "name": "stdout",
     "output_type": "stream",
     "text": [
      "34335\n",
      "3.22\n"
     ]
    }
   ],
   "source": [
    "duplicate_rows = df.duplicated()\n",
    "print(duplicate_rows.sum())\n",
    "print(round((df.duplicated().sum()/df.shape[0])*100, 2))\n",
    "\n",
    "# df[duplicate_rows]\n",
    "# print('Duplicate entries: {}'.format(df.duplicated().sum()))\n",
    "# print('{}% rows are duplicate.'.format(round((df.duplicated().sum()/df.shape[0])*100),2))"
   ]
  },
  {
   "cell_type": "code",
   "execution_count": 487,
   "id": "31508b841e65bba9",
   "metadata": {
    "ExecuteTime": {
     "end_time": "2024-08-30T13:24:46.385259Z",
     "start_time": "2024-08-30T13:24:46.215666Z"
    },
    "collapsed": false,
    "jupyter": {
     "outputs_hidden": false
    }
   },
   "outputs": [],
   "source": [
    "# Drop duplicates\n",
    "df.drop_duplicates(inplace = True)"
   ]
  },
  {
   "cell_type": "code",
   "execution_count": 488,
   "id": "9234caa3-e26d-4382-a9ca-da968c829553",
   "metadata": {},
   "outputs": [
    {
     "data": {
      "text/plain": [
       "0"
      ]
     },
     "execution_count": 488,
     "metadata": {},
     "output_type": "execute_result"
    }
   ],
   "source": [
    "# Check again\n",
    "df.duplicated().sum()"
   ]
  },
  {
   "cell_type": "markdown",
   "id": "ee05841023ad7d74",
   "metadata": {
    "collapsed": false,
    "jupyter": {
     "outputs_hidden": false
    }
   },
   "source": [
    "### Convert some columns to string data type"
   ]
  },
  {
   "cell_type": "raw",
   "id": "5476a20a-e41c-4d51-9af0-46e1c759fb0f",
   "metadata": {
    "ExecuteTime": {
     "end_time": "2024-08-30T13:24:46.454874Z",
     "start_time": "2024-08-30T13:24:46.432978Z"
    },
    "collapsed": false,
    "jupyter": {
     "outputs_hidden": false
    }
   },
   "source": [
    "# df['Customer ID'] = df['Customer ID'].astype(str)\n",
    "# df['StockCode'] = df['StockCode'].astype(str)\n"
   ]
  },
  {
   "cell_type": "markdown",
   "id": "990b0caacd9fd523",
   "metadata": {
    "collapsed": false,
    "jupyter": {
     "outputs_hidden": false
    }
   },
   "source": [
    "### \"Cancel\" Invoices"
   ]
  },
  {
   "cell_type": "code",
   "execution_count": 491,
   "id": "216bd085-13ae-43c3-94c2-9c66b922c762",
   "metadata": {
    "ExecuteTime": {
     "end_time": "2024-08-30T13:24:47.062428Z",
     "start_time": "2024-08-30T13:24:46.455516Z"
    },
    "collapsed": false,
    "jupyter": {
     "outputs_hidden": false
    }
   },
   "outputs": [
    {
     "data": {
      "text/plain": [
       "(19110, 9)"
      ]
     },
     "execution_count": 491,
     "metadata": {},
     "output_type": "execute_result"
    }
   ],
   "source": [
    "# We clean return invoices and debt information from our data set.\n",
    "# İade faturalarını ve borç bilgilerini veri setimizden temizliyoruz.\n",
    "# C for Cancel, A for debts\n",
    "df[df[\"Invoice\"].str.contains(\"C|A\", na=False)].shape"
   ]
  },
  {
   "cell_type": "code",
   "execution_count": 492,
   "id": "41b50f7c-b01d-42d3-b3bd-f8ab9d4344e9",
   "metadata": {
    "ExecuteTime": {
     "end_time": "2024-08-30T13:24:47.632989Z",
     "start_time": "2024-08-30T13:24:47.072593Z"
    },
    "collapsed": false,
    "jupyter": {
     "outputs_hidden": false
    }
   },
   "outputs": [],
   "source": [
    "# Let's create the df again by subtracting the returns\n",
    "# Geri dönüşleri çıkararak df'yi yeniden oluşturalım\n",
    "df = df[~df[\"Invoice\"].str.contains(\"C|A\", na=False)]"
   ]
  },
  {
   "cell_type": "code",
   "execution_count": 493,
   "id": "a0709c8f-ac5d-4983-afe5-76e142da6217",
   "metadata": {
    "ExecuteTime": {
     "end_time": "2024-08-30T13:24:47.642741Z",
     "start_time": "2024-08-30T13:24:47.633292Z"
    },
    "collapsed": false,
    "jupyter": {
     "outputs_hidden": false
    }
   },
   "outputs": [
    {
     "data": {
      "text/plain": [
       "(1013926, 9)"
      ]
     },
     "execution_count": 493,
     "metadata": {},
     "output_type": "execute_result"
    }
   ],
   "source": [
    "df.shape"
   ]
  },
  {
   "cell_type": "markdown",
   "id": "55b5c96a5c3e8b36",
   "metadata": {
    "collapsed": false,
    "jupyter": {
     "outputs_hidden": false
    }
   },
   "source": [
    "### Dropping Null Values"
   ]
  },
  {
   "cell_type": "code",
   "execution_count": 495,
   "id": "cdadc9d7",
   "metadata": {
    "ExecuteTime": {
     "end_time": "2024-08-30T13:24:47.747536Z",
     "start_time": "2024-08-30T13:24:47.635344Z"
    },
    "collapsed": false,
    "jupyter": {
     "outputs_hidden": false
    }
   },
   "outputs": [],
   "source": [
    "# Since we cannot identify products and customers for which we do not have data, we drop rows with missing values from the data.\n",
    "# Verisine sahip olmadığımız ürünleri ve müşterileri tespit edemeyeceğimiz için kayıp değer olan satırları veriden düşürüyoruz.\n",
    "#df.isnull().sum()\n",
    "df.dropna(inplace=True)"
   ]
  },
  {
   "cell_type": "code",
   "execution_count": 496,
   "id": "08d49c72-48f9-4dac-aa78-51a550f43e62",
   "metadata": {
    "ExecuteTime": {
     "end_time": "2024-08-30T13:24:48.185231Z",
     "start_time": "2024-08-30T13:24:47.795497Z"
    },
    "scrolled": true
   },
   "outputs": [
    {
     "name": "stdout",
     "output_type": "stream",
     "text": [
      "##################### Shape #####################\n",
      "(779495, 9)\n",
      "##################### Duplicated #####################\n",
      "0\n",
      "##################### Types #####################\n",
      "Invoice                 object\n",
      "StockCode               object\n",
      "Description             object\n",
      "Quantity                 int64\n",
      "InvoiceDate     datetime64[ns]\n",
      "Price                  float64\n",
      "Customer ID            float64\n",
      "Country                 object\n",
      "TotalPayment           float64\n",
      "dtype: object\n",
      "##################### N-Unique #####################\n",
      "Invoice         36975\n",
      "StockCode        4631\n",
      "Description      5283\n",
      "Quantity          438\n",
      "InvoiceDate     34591\n",
      "Price             666\n",
      "Customer ID      5881\n",
      "Country            41\n",
      "TotalPayment     3920\n",
      "dtype: int64\n",
      "##################### NA #####################\n",
      "Invoice         0\n",
      "StockCode       0\n",
      "Description     0\n",
      "Quantity        0\n",
      "InvoiceDate     0\n",
      "Price           0\n",
      "Customer ID     0\n",
      "Country         0\n",
      "TotalPayment    0\n",
      "dtype: int64\n",
      "##################### Head #####################\n",
      "   Invoice StockCode                          Description  Quantity         InvoiceDate  Price  Customer ID         Country  TotalPayment\n",
      "0   489434     85048  15CM CHRISTMAS GLASS BALL 20 LIGHTS        12 2009-12-01 07:45:00  6.950    13085.000  United Kingdom        83.400\n",
      "1   489434    79323P                   PINK CHERRY LIGHTS        12 2009-12-01 07:45:00  6.750    13085.000  United Kingdom        81.000\n",
      "2   489434    79323W                  WHITE CHERRY LIGHTS        12 2009-12-01 07:45:00  6.750    13085.000  United Kingdom        81.000\n",
      "3   489434     22041         RECORD FRAME 7\" SINGLE SIZE         48 2009-12-01 07:45:00  2.100    13085.000  United Kingdom       100.800\n",
      "4   489434     21232       STRAWBERRY CERAMIC TRINKET BOX        24 2009-12-01 07:45:00  1.250    13085.000  United Kingdom        30.000\n",
      "5   489434     22064           PINK DOUGHNUT TRINKET POT         24 2009-12-01 07:45:00  1.650    13085.000  United Kingdom        39.600\n",
      "6   489434     21871                  SAVE THE PLANET MUG        24 2009-12-01 07:45:00  1.250    13085.000  United Kingdom        30.000\n",
      "7   489434     21523   FANCY FONT HOME SWEET HOME DOORMAT        10 2009-12-01 07:45:00  5.950    13085.000  United Kingdom        59.500\n",
      "8   489435     22350                            CAT BOWL         12 2009-12-01 07:46:00  2.550    13085.000  United Kingdom        30.600\n",
      "9   489435     22349       DOG BOWL , CHASING BALL DESIGN        12 2009-12-01 07:46:00  3.750    13085.000  United Kingdom        45.000\n",
      "10  489435     22195         HEART MEASURING SPOONS LARGE        24 2009-12-01 07:46:00  1.650    13085.000  United Kingdom        39.600\n",
      "11  489435     22353   LUNCHBOX WITH CUTLERY FAIRY CAKES         12 2009-12-01 07:46:00  2.550    13085.000  United Kingdom        30.600\n",
      "12  489436    48173C                DOOR MAT BLACK FLOCK         10 2009-12-01 09:06:00  5.950    13078.000  United Kingdom        59.500\n",
      "13  489436     21755             LOVE BUILDING BLOCK WORD        18 2009-12-01 09:06:00  5.450    13078.000  United Kingdom        98.100\n",
      "14  489436     21754             HOME BUILDING BLOCK WORD         3 2009-12-01 09:06:00  5.950    13078.000  United Kingdom        17.850\n",
      "##################### Tail #####################\n",
      "        Invoice StockCode                      Description  Quantity         InvoiceDate  Price  Customer ID Country  TotalPayment\n",
      "1067356  581587     22556   PLASTERS IN TIN CIRCUS PARADE         12 2011-12-09 12:50:00  1.650    12680.000  France        19.800\n",
      "1067357  581587     22555        PLASTERS IN TIN STRONGMAN        12 2011-12-09 12:50:00  1.650    12680.000  France        19.800\n",
      "1067358  581587     22728        ALARM CLOCK BAKELIKE PINK         4 2011-12-09 12:50:00  3.750    12680.000  France        15.000\n",
      "1067359  581587     22727        ALARM CLOCK BAKELIKE RED          4 2011-12-09 12:50:00  3.750    12680.000  France        15.000\n",
      "1067360  581587     22726       ALARM CLOCK BAKELIKE GREEN         4 2011-12-09 12:50:00  3.750    12680.000  France        15.000\n",
      "1067361  581587     22730       ALARM CLOCK BAKELIKE IVORY         4 2011-12-09 12:50:00  3.750    12680.000  France        15.000\n",
      "1067362  581587     22367  CHILDRENS APRON SPACEBOY DESIGN         8 2011-12-09 12:50:00  1.950    12680.000  France        15.600\n",
      "1067363  581587     22629              SPACEBOY LUNCH BOX         12 2011-12-09 12:50:00  1.950    12680.000  France        23.400\n",
      "1067364  581587     23256      CHILDRENS CUTLERY SPACEBOY          4 2011-12-09 12:50:00  4.150    12680.000  France        16.600\n",
      "1067365  581587     22613      PACK OF 20 SPACEBOY NAPKINS        12 2011-12-09 12:50:00  0.850    12680.000  France        10.200\n",
      "1067366  581587     22899     CHILDREN'S APRON DOLLY GIRL          6 2011-12-09 12:50:00  2.100    12680.000  France        12.600\n",
      "1067367  581587     23254    CHILDRENS CUTLERY DOLLY GIRL          4 2011-12-09 12:50:00  4.150    12680.000  France        16.600\n",
      "1067368  581587     23255  CHILDRENS CUTLERY CIRCUS PARADE         4 2011-12-09 12:50:00  4.150    12680.000  France        16.600\n",
      "1067369  581587     22138    BAKING SET 9 PIECE RETROSPOT          3 2011-12-09 12:50:00  4.950    12680.000  France        14.850\n",
      "1067370  581587      POST                          POSTAGE         1 2011-12-09 12:50:00 18.000    12680.000  France        18.000\n",
      "##################### Quantiles #####################\n",
      "                  count                           mean                  min                   1%                   5%                  10%                  25%                  50%                  75%                  90%                  95%                  99%                  max      std\n",
      "Quantity     779495.000                         13.507                1.000                1.000                1.000                1.000                2.000                6.000               12.000               24.000               36.000              144.000            80995.000  146.540\n",
      "InvoiceDate      779495  2011-01-03 01:46:36.061116416  2009-12-01 07:45:00  2009-12-04 13:41:00  2010-01-17 14:53:00  2010-03-03 14:13:00  2010-07-02 14:39:00  2010-12-02 14:09:00  2011-08-01 13:48:00  2011-11-02 12:26:00  2011-11-21 09:11:00  2011-12-05 17:36:00  2011-12-09 12:50:00      NaN\n",
      "Price        779495.000                          3.218                0.000                0.290                0.420                0.550                1.250                1.950                3.750                6.750                8.500               14.950            10953.500   29.675\n",
      "Customer ID  779495.000                      15320.263            12346.000            12418.000            12681.000            12975.000            13971.000            15246.000            16794.000            17706.000            17904.000            18210.000            18287.000 1695.723\n",
      "TotalPayment 779495.000                         22.290                0.000                0.580                1.250                2.100                4.950               12.480               19.800               35.700               67.500              203.520           168469.600  227.417\n"
     ]
    }
   ],
   "source": [
    "check_df(df, 15)"
   ]
  },
  {
   "cell_type": "code",
   "execution_count": 497,
   "id": "e4fdd723-3f23-4fa5-855e-08a2e5e42c98",
   "metadata": {},
   "outputs": [
    {
     "data": {
      "text/html": [
       "<div>\n",
       "<style scoped>\n",
       "    .dataframe tbody tr th:only-of-type {\n",
       "        vertical-align: middle;\n",
       "    }\n",
       "\n",
       "    .dataframe tbody tr th {\n",
       "        vertical-align: top;\n",
       "    }\n",
       "\n",
       "    .dataframe thead th {\n",
       "        text-align: right;\n",
       "    }\n",
       "</style>\n",
       "<table border=\"1\" class=\"dataframe\">\n",
       "  <thead>\n",
       "    <tr style=\"text-align: right;\">\n",
       "      <th></th>\n",
       "      <th>Invoice</th>\n",
       "      <th>StockCode</th>\n",
       "      <th>Description</th>\n",
       "      <th>Quantity</th>\n",
       "      <th>InvoiceDate</th>\n",
       "      <th>Price</th>\n",
       "      <th>Customer ID</th>\n",
       "      <th>Country</th>\n",
       "      <th>TotalPayment</th>\n",
       "    </tr>\n",
       "  </thead>\n",
       "  <tbody>\n",
       "  </tbody>\n",
       "</table>\n",
       "</div>"
      ],
      "text/plain": [
       "Empty DataFrame\n",
       "Columns: [Invoice, StockCode, Description, Quantity, InvoiceDate, Price, Customer ID, Country, TotalPayment]\n",
       "Index: []"
      ]
     },
     "execution_count": 497,
     "metadata": {},
     "output_type": "execute_result"
    }
   ],
   "source": [
    "df[df[\"Price\"] < 0]"
   ]
  },
  {
   "cell_type": "code",
   "execution_count": 498,
   "id": "867004f2-012d-485e-8470-a6932741bcfd",
   "metadata": {},
   "outputs": [
    {
     "data": {
      "text/plain": [
       "5881"
      ]
     },
     "execution_count": 498,
     "metadata": {},
     "output_type": "execute_result"
    }
   ],
   "source": [
    "df[\"Customer ID\"].nunique()"
   ]
  },
  {
   "cell_type": "code",
   "execution_count": 499,
   "id": "13ef5601-c7bf-4869-ae34-9b1b96ea00cd",
   "metadata": {},
   "outputs": [
    {
     "data": {
      "text/plain": [
       "0"
      ]
     },
     "execution_count": 499,
     "metadata": {},
     "output_type": "execute_result"
    }
   ],
   "source": [
    "df[\"Customer ID\"].isnull().sum()"
   ]
  },
  {
   "cell_type": "markdown",
   "id": "c2d965fa-45a7-45f6-b911-c397c327893a",
   "metadata": {},
   "source": [
    "# Calculating RFM Metrics\n",
    "\n",
    "- Recency = Analiz tarihi(Bugün) - Son satın alma (Today's date - Last purchase)\\\n",
    "Recency (yenilik, güncellik): Müşterinin son satın almasından bugüne kadar geçen süre.\n",
    "Diğer bir ifadesiyle “Müşterinin son temasından bugüne kadar geçen süre” dir.\n",
    "\n",
    "- Frequency: Alışveriş sıklığı, her bir müşterinin belirtilen zaman içerisinde kaç kez alışveriş yaptığı bilgisi.\\\n",
    "\n",
    "- Monetary: Her bir alışverişten kazanılan toplam parasal değer.\\\n",
    "\n",
    "- Tenure: Müşterinin ilk alışverişinden bugüne kadar geçen süre.\\\n",
    "\n",
    "- Basket Size : Monetary / Product count"
   ]
  },
  {
   "cell_type": "markdown",
   "id": "51effebc9f4dfb15",
   "metadata": {
    "collapsed": false,
    "jupyter": {
     "outputs_hidden": false
    }
   },
   "source": [
    "### Set Analysis Date"
   ]
  },
  {
   "cell_type": "code",
   "execution_count": 502,
   "id": "92e74e17-b239-41b0-8940-add8d89583dc",
   "metadata": {
    "ExecuteTime": {
     "end_time": "2024-08-30T13:24:48.185919Z",
     "start_time": "2024-08-30T13:24:48.177141Z"
    }
   },
   "outputs": [
    {
     "data": {
      "text/plain": [
       "Timestamp('2011-12-09 12:50:00')"
      ]
     },
     "execution_count": 502,
     "metadata": {},
     "output_type": "execute_result"
    }
   ],
   "source": [
    "df[\"InvoiceDate\"].max()\n",
    "# Veri setimizdeki en güncel alışveriş tarihi: Timestamp('2011-12-09 12:50:00')"
   ]
  },
  {
   "cell_type": "code",
   "execution_count": 503,
   "id": "304b2100-0ca9-497c-9d5b-45ea232589f9",
   "metadata": {
    "ExecuteTime": {
     "end_time": "2024-08-30T13:24:48.186359Z",
     "start_time": "2024-08-30T13:24:48.180532Z"
    }
   },
   "outputs": [
    {
     "data": {
      "text/plain": [
       "datetime.datetime(2011, 12, 11, 0, 0)"
      ]
     },
     "execution_count": 503,
     "metadata": {},
     "output_type": "execute_result"
    }
   ],
   "source": [
    "# Analysis Date (Todays Date)\n",
    "# Analiz tarihi(Bugün)\n",
    "today_date = dt.datetime(2011, 12, 11)\n",
    "today_date"
   ]
  },
  {
   "cell_type": "markdown",
   "id": "5b2cf196-7c93-4ca1-96e9-f4788b333dab",
   "metadata": {},
   "source": [
    "### Metrics"
   ]
  },
  {
   "cell_type": "code",
   "execution_count": 505,
   "id": "f7b98d84",
   "metadata": {
    "ExecuteTime": {
     "end_time": "2024-08-30T13:24:48.186437Z",
     "start_time": "2024-08-30T13:24:48.182744Z"
    },
    "id": "f7b98d84",
    "outputId": "94473adb-67c2-4fa9-9ef3-09987066b0bd"
   },
   "outputs": [],
   "source": [
    "# # Recency gösterimi\n",
    "# df.groupby('Customer ID').agg({'InvoiceDate': lambda date: (today_date - date.max()).days})\n",
    "\n",
    "# # Tenure hesaplaması\n",
    "# df.groupby('Customer ID').agg({'Tenure': lambda date: (today_date - date.min()).days})\n",
    "\n",
    "# # Monetary hesaplaması\n",
    "# df.groupby('Customer ID').agg({'Invoice': lambda Revenue: Revenue.sum()})\n",
    "\n",
    "# # Frekans gösterimi, her bir müşterinin alışveriş sayısı\n",
    "# df.groupby('Customer ID').agg({'Invoice': lambda Invoice: Invoice.nunique()})\n",
    "\n",
    "# Basket Size hesaplaması\n",
    "# rfm[\"BasketSize\"] = rfm[\"Monetary\"] / rfm[\"Frequency\"] "
   ]
  },
  {
   "cell_type": "code",
   "execution_count": 506,
   "id": "85af64c3ad8aabd0",
   "metadata": {
    "ExecuteTime": {
     "end_time": "2024-08-30T13:24:48.461473Z",
     "start_time": "2024-08-30T13:24:48.185847Z"
    },
    "collapsed": false,
    "jupyter": {
     "outputs_hidden": false
    }
   },
   "outputs": [],
   "source": [
    "# df.head()\n",
    "df[\"Tenure\"] = df[\"InvoiceDate\"]"
   ]
  },
  {
   "cell_type": "code",
   "execution_count": 507,
   "id": "59776f65",
   "metadata": {
    "ExecuteTime": {
     "end_time": "2024-08-30T13:24:48.801734Z",
     "start_time": "2024-08-30T13:24:48.188698Z"
    },
    "id": "59776f65",
    "outputId": "66c1413e-5eb6-481f-c027-2d5e15aa0e96"
   },
   "outputs": [
    {
     "data": {
      "text/html": [
       "<div>\n",
       "<style scoped>\n",
       "    .dataframe tbody tr th:only-of-type {\n",
       "        vertical-align: middle;\n",
       "    }\n",
       "\n",
       "    .dataframe tbody tr th {\n",
       "        vertical-align: top;\n",
       "    }\n",
       "\n",
       "    .dataframe thead th {\n",
       "        text-align: right;\n",
       "    }\n",
       "</style>\n",
       "<table border=\"1\" class=\"dataframe\">\n",
       "  <thead>\n",
       "    <tr style=\"text-align: right;\">\n",
       "      <th></th>\n",
       "      <th>Recency</th>\n",
       "      <th>Tenure</th>\n",
       "      <th>Frequency</th>\n",
       "      <th>Monetary</th>\n",
       "    </tr>\n",
       "    <tr>\n",
       "      <th>Customer ID</th>\n",
       "      <th></th>\n",
       "      <th></th>\n",
       "      <th></th>\n",
       "      <th></th>\n",
       "    </tr>\n",
       "  </thead>\n",
       "  <tbody>\n",
       "    <tr>\n",
       "      <th>12346.000</th>\n",
       "      <td>326</td>\n",
       "      <td>726</td>\n",
       "      <td>34</td>\n",
       "      <td>77556.460</td>\n",
       "    </tr>\n",
       "    <tr>\n",
       "      <th>12347.000</th>\n",
       "      <td>3</td>\n",
       "      <td>405</td>\n",
       "      <td>222</td>\n",
       "      <td>4921.530</td>\n",
       "    </tr>\n",
       "    <tr>\n",
       "      <th>12348.000</th>\n",
       "      <td>76</td>\n",
       "      <td>439</td>\n",
       "      <td>51</td>\n",
       "      <td>2019.400</td>\n",
       "    </tr>\n",
       "    <tr>\n",
       "      <th>12349.000</th>\n",
       "      <td>19</td>\n",
       "      <td>590</td>\n",
       "      <td>175</td>\n",
       "      <td>4428.690</td>\n",
       "    </tr>\n",
       "    <tr>\n",
       "      <th>12350.000</th>\n",
       "      <td>311</td>\n",
       "      <td>311</td>\n",
       "      <td>17</td>\n",
       "      <td>334.400</td>\n",
       "    </tr>\n",
       "  </tbody>\n",
       "</table>\n",
       "</div>"
      ],
      "text/plain": [
       "             Recency  Tenure  Frequency  Monetary\n",
       "Customer ID                                      \n",
       "12346.000        326     726         34 77556.460\n",
       "12347.000          3     405        222  4921.530\n",
       "12348.000         76     439         51  2019.400\n",
       "12349.000         19     590        175  4428.690\n",
       "12350.000        311     311         17   334.400"
      ]
     },
     "execution_count": 507,
     "metadata": {},
     "output_type": "execute_result"
    }
   ],
   "source": [
    "df.groupby('Customer ID').agg({'InvoiceDate': lambda date: (today_date - date.max()).days, \n",
    "                               'Tenure': lambda date: (today_date - date.min()).days,\n",
    "                               'Invoice': lambda num: len(num),\n",
    "                               'TotalPayment': lambda TotalPayment: TotalPayment.sum()\n",
    "                              }).rename(columns={'InvoiceDate': 'Recency',\n",
    "                                                 'Tenure': 'Tenure',\n",
    "                                                 'Invoice': 'Frequency',\n",
    "                                                 'TotalPayment': 'Monetary'\n",
    "                                                }).head()"
   ]
  },
  {
   "cell_type": "code",
   "execution_count": 508,
   "id": "66ba7c1b",
   "metadata": {
    "ExecuteTime": {
     "end_time": "2024-08-30T13:24:49.173456Z",
     "start_time": "2024-08-30T13:24:48.794612Z"
    },
    "id": "66ba7c1b"
   },
   "outputs": [],
   "source": [
    "# We turn RFM metrics into a dataframe.\n",
    "# Create new dataframe and change column headers\n",
    "rfm = df.groupby(\n",
    "    'Customer ID').agg({\n",
    "                        'InvoiceDate': lambda date: (today_date - date.max()).days,\n",
    "                        'Tenure': lambda date: (today_date - date.min()).days,\n",
    "                        'Invoice': lambda num: len(num),\n",
    "                        'TotalPayment': lambda TotalPayment: TotalPayment.sum()\n",
    "                        }).rename(columns={\n",
    "                                            'InvoiceDate': 'Recency',\n",
    "                                            'Tenure': 'Tenure',\n",
    "                                            'Invoice': 'Frequency',\n",
    "                                            'TotalPayment': 'Monetary'})\n",
    "\n",
    "\n",
    "\n",
    "\n",
    "\n",
    "\n",
    "# rename(columns={\n",
    "#     'InvoiceDate': 'Days Since Last Purchase',\n",
    "#     'Tenure': 'Customer Tenure',\n",
    "#     'Invoice': 'Number of Invoices',\n",
    "#     'TotalPrice': 'Total Spend'\n",
    "# })\n",
    "\n",
    "\n"
   ]
  },
  {
   "cell_type": "code",
   "execution_count": 509,
   "id": "508c06bb",
   "metadata": {
    "ExecuteTime": {
     "end_time": "2024-08-30T13:24:49.183593Z",
     "start_time": "2024-08-30T13:24:49.175009Z"
    },
    "id": "508c06bb",
    "outputId": "8f23820f-9603-4bc9-88b7-b030c15ac44c"
   },
   "outputs": [
    {
     "data": {
      "text/html": [
       "<div>\n",
       "<style scoped>\n",
       "    .dataframe tbody tr th:only-of-type {\n",
       "        vertical-align: middle;\n",
       "    }\n",
       "\n",
       "    .dataframe tbody tr th {\n",
       "        vertical-align: top;\n",
       "    }\n",
       "\n",
       "    .dataframe thead th {\n",
       "        text-align: right;\n",
       "    }\n",
       "</style>\n",
       "<table border=\"1\" class=\"dataframe\">\n",
       "  <thead>\n",
       "    <tr style=\"text-align: right;\">\n",
       "      <th></th>\n",
       "      <th>Recency</th>\n",
       "      <th>Tenure</th>\n",
       "      <th>Frequency</th>\n",
       "      <th>Monetary</th>\n",
       "    </tr>\n",
       "    <tr>\n",
       "      <th>Customer ID</th>\n",
       "      <th></th>\n",
       "      <th></th>\n",
       "      <th></th>\n",
       "      <th></th>\n",
       "    </tr>\n",
       "  </thead>\n",
       "  <tbody>\n",
       "    <tr>\n",
       "      <th>12346.000</th>\n",
       "      <td>326</td>\n",
       "      <td>726</td>\n",
       "      <td>34</td>\n",
       "      <td>77556.460</td>\n",
       "    </tr>\n",
       "    <tr>\n",
       "      <th>12347.000</th>\n",
       "      <td>3</td>\n",
       "      <td>405</td>\n",
       "      <td>222</td>\n",
       "      <td>4921.530</td>\n",
       "    </tr>\n",
       "    <tr>\n",
       "      <th>12348.000</th>\n",
       "      <td>76</td>\n",
       "      <td>439</td>\n",
       "      <td>51</td>\n",
       "      <td>2019.400</td>\n",
       "    </tr>\n",
       "    <tr>\n",
       "      <th>12349.000</th>\n",
       "      <td>19</td>\n",
       "      <td>590</td>\n",
       "      <td>175</td>\n",
       "      <td>4428.690</td>\n",
       "    </tr>\n",
       "    <tr>\n",
       "      <th>12350.000</th>\n",
       "      <td>311</td>\n",
       "      <td>311</td>\n",
       "      <td>17</td>\n",
       "      <td>334.400</td>\n",
       "    </tr>\n",
       "  </tbody>\n",
       "</table>\n",
       "</div>"
      ],
      "text/plain": [
       "             Recency  Tenure  Frequency  Monetary\n",
       "Customer ID                                      \n",
       "12346.000        326     726         34 77556.460\n",
       "12347.000          3     405        222  4921.530\n",
       "12348.000         76     439         51  2019.400\n",
       "12349.000         19     590        175  4428.690\n",
       "12350.000        311     311         17   334.400"
      ]
     },
     "execution_count": 509,
     "metadata": {},
     "output_type": "execute_result"
    }
   ],
   "source": [
    "rfm.head()"
   ]
  },
  {
   "cell_type": "code",
   "execution_count": 510,
   "id": "c8067212",
   "metadata": {
    "ExecuteTime": {
     "end_time": "2024-08-30T13:24:49.184007Z",
     "start_time": "2024-08-30T13:24:49.177235Z"
    },
    "id": "c8067212"
   },
   "outputs": [],
   "source": [
    "# Previously we dropped Cancel purchases from our data, as a precaution we keep negative values out of our data.\n",
    "# Daha önceki adımlarda Cancel alışverişleri verimizden düşürmüştük, fakat yine de iade vb durumlar sebebiyle oluşabilecek negatif değerleri hariç tutuyoruz.\n",
    "rfm = rfm[(rfm[\"Monetary\"]) > 0 & (rfm[\"Frequency\"] > 0)]"
   ]
  },
  {
   "cell_type": "code",
   "execution_count": 511,
   "id": "421023d0-9a2b-4dc7-ada7-034cb915c46a",
   "metadata": {
    "ExecuteTime": {
     "end_time": "2024-08-30T13:24:49.184068Z",
     "start_time": "2024-08-30T13:24:49.179347Z"
    },
    "collapsed": false,
    "jupyter": {
     "outputs_hidden": false
    }
   },
   "outputs": [],
   "source": [
    "# # Basket Size hesaplaması\n",
    "rfm[\"BasketSize\"] = rfm[\"Monetary\"] / rfm[\"Frequency\"] "
   ]
  },
  {
   "cell_type": "code",
   "execution_count": 512,
   "id": "22f958a0ce9daf98",
   "metadata": {
    "ExecuteTime": {
     "end_time": "2024-08-30T13:24:49.250494Z",
     "start_time": "2024-08-30T13:24:49.182384Z"
    },
    "collapsed": false,
    "jupyter": {
     "outputs_hidden": false
    }
   },
   "outputs": [
    {
     "data": {
      "text/html": [
       "<div>\n",
       "<style scoped>\n",
       "    .dataframe tbody tr th:only-of-type {\n",
       "        vertical-align: middle;\n",
       "    }\n",
       "\n",
       "    .dataframe tbody tr th {\n",
       "        vertical-align: top;\n",
       "    }\n",
       "\n",
       "    .dataframe thead th {\n",
       "        text-align: right;\n",
       "    }\n",
       "</style>\n",
       "<table border=\"1\" class=\"dataframe\">\n",
       "  <thead>\n",
       "    <tr style=\"text-align: right;\">\n",
       "      <th></th>\n",
       "      <th>Recency</th>\n",
       "      <th>Tenure</th>\n",
       "      <th>Frequency</th>\n",
       "      <th>Monetary</th>\n",
       "      <th>BasketSize</th>\n",
       "    </tr>\n",
       "    <tr>\n",
       "      <th>Customer ID</th>\n",
       "      <th></th>\n",
       "      <th></th>\n",
       "      <th></th>\n",
       "      <th></th>\n",
       "      <th></th>\n",
       "    </tr>\n",
       "  </thead>\n",
       "  <tbody>\n",
       "    <tr>\n",
       "      <th>12346.000</th>\n",
       "      <td>326</td>\n",
       "      <td>726</td>\n",
       "      <td>34</td>\n",
       "      <td>77556.460</td>\n",
       "      <td>2281.072</td>\n",
       "    </tr>\n",
       "    <tr>\n",
       "      <th>12347.000</th>\n",
       "      <td>3</td>\n",
       "      <td>405</td>\n",
       "      <td>222</td>\n",
       "      <td>4921.530</td>\n",
       "      <td>22.169</td>\n",
       "    </tr>\n",
       "    <tr>\n",
       "      <th>12348.000</th>\n",
       "      <td>76</td>\n",
       "      <td>439</td>\n",
       "      <td>51</td>\n",
       "      <td>2019.400</td>\n",
       "      <td>39.596</td>\n",
       "    </tr>\n",
       "    <tr>\n",
       "      <th>12349.000</th>\n",
       "      <td>19</td>\n",
       "      <td>590</td>\n",
       "      <td>175</td>\n",
       "      <td>4428.690</td>\n",
       "      <td>25.307</td>\n",
       "    </tr>\n",
       "    <tr>\n",
       "      <th>12350.000</th>\n",
       "      <td>311</td>\n",
       "      <td>311</td>\n",
       "      <td>17</td>\n",
       "      <td>334.400</td>\n",
       "      <td>19.671</td>\n",
       "    </tr>\n",
       "  </tbody>\n",
       "</table>\n",
       "</div>"
      ],
      "text/plain": [
       "             Recency  Tenure  Frequency  Monetary  BasketSize\n",
       "Customer ID                                                  \n",
       "12346.000        326     726         34 77556.460    2281.072\n",
       "12347.000          3     405        222  4921.530      22.169\n",
       "12348.000         76     439         51  2019.400      39.596\n",
       "12349.000         19     590        175  4428.690      25.307\n",
       "12350.000        311     311         17   334.400      19.671"
      ]
     },
     "execution_count": 512,
     "metadata": {},
     "output_type": "execute_result"
    }
   ],
   "source": [
    "rfm.head()"
   ]
  },
  {
   "cell_type": "markdown",
   "id": "a28a9829-a951-4bc3-b44d-7788f51b515a",
   "metadata": {
    "collapsed": false,
    "jupyter": {
     "outputs_hidden": false
    }
   },
   "source": [
    "## Calculating RFM Scores"
   ]
  },
  {
   "cell_type": "code",
   "execution_count": 514,
   "id": "c6a3dd75",
   "metadata": {
    "ExecuteTime": {
     "end_time": "2024-08-30T13:24:49.343205Z",
     "start_time": "2024-08-30T13:24:49.185406Z"
    },
    "id": "c6a3dd75"
   },
   "outputs": [],
   "source": [
    "rfm[\"RecencyScore\"] = pd.qcut(rfm['Recency'], 5, labels=[5, 4, 3, 2, 1])\n",
    "rfm[\"FrequencyScore\"] = pd.qcut(rfm['Frequency'].rank(method=\"first\"), 5, labels=[1, 2, 3, 4, 5])\n",
    "rfm[\"MonetaryScore\"] = pd.qcut(rfm['Monetary'], 5, labels=[1, 2, 3, 4, 5])\n",
    "rfm[\"TenureScore\"] = pd.qcut(rfm['Tenure'], 5, labels=[1, 2, 3, 4, 5])"
   ]
  },
  {
   "cell_type": "code",
   "execution_count": 515,
   "id": "ff00a17c4f4b0880",
   "metadata": {
    "ExecuteTime": {
     "end_time": "2024-08-30T13:24:49.343303Z",
     "start_time": "2024-08-30T13:24:49.190648Z"
    },
    "collapsed": false,
    "jupyter": {
     "outputs_hidden": false
    }
   },
   "outputs": [],
   "source": [
    "rfm[\"RFM_SCORE\"] = (rfm['RecencyScore'].astype(str) +\n",
    "                    rfm['FrequencyScore'].astype(str) +\n",
    "                    rfm['MonetaryScore'].astype(str))"
   ]
  },
  {
   "cell_type": "code",
   "execution_count": 516,
   "id": "c59a9da4",
   "metadata": {
    "ExecuteTime": {
     "end_time": "2024-08-30T13:24:49.356326Z",
     "start_time": "2024-08-30T13:24:49.194456Z"
    },
    "id": "c59a9da4"
   },
   "outputs": [],
   "source": [
    "# Numerical representations of segments\n",
    "# Segmentlerin sayısal temsilleri\n",
    "rfm[\"Segment\"] = (rfm['RecencyScore'].astype(str) + rfm['FrequencyScore'].astype(str))"
   ]
  },
  {
   "cell_type": "code",
   "execution_count": 517,
   "id": "b8ed5c419aeea01",
   "metadata": {
    "ExecuteTime": {
     "end_time": "2024-08-30T13:24:49.356636Z",
     "start_time": "2024-08-30T13:24:49.198765Z"
    },
    "collapsed": false,
    "jupyter": {
     "outputs_hidden": false
    }
   },
   "outputs": [
    {
     "data": {
      "text/html": [
       "<div>\n",
       "<style scoped>\n",
       "    .dataframe tbody tr th:only-of-type {\n",
       "        vertical-align: middle;\n",
       "    }\n",
       "\n",
       "    .dataframe tbody tr th {\n",
       "        vertical-align: top;\n",
       "    }\n",
       "\n",
       "    .dataframe thead th {\n",
       "        text-align: right;\n",
       "    }\n",
       "</style>\n",
       "<table border=\"1\" class=\"dataframe\">\n",
       "  <thead>\n",
       "    <tr style=\"text-align: right;\">\n",
       "      <th></th>\n",
       "      <th>Recency</th>\n",
       "      <th>Tenure</th>\n",
       "      <th>Frequency</th>\n",
       "      <th>Monetary</th>\n",
       "      <th>BasketSize</th>\n",
       "      <th>RecencyScore</th>\n",
       "      <th>FrequencyScore</th>\n",
       "      <th>MonetaryScore</th>\n",
       "      <th>TenureScore</th>\n",
       "      <th>RFM_SCORE</th>\n",
       "      <th>Segment</th>\n",
       "    </tr>\n",
       "    <tr>\n",
       "      <th>Customer ID</th>\n",
       "      <th></th>\n",
       "      <th></th>\n",
       "      <th></th>\n",
       "      <th></th>\n",
       "      <th></th>\n",
       "      <th></th>\n",
       "      <th></th>\n",
       "      <th></th>\n",
       "      <th></th>\n",
       "      <th></th>\n",
       "      <th></th>\n",
       "    </tr>\n",
       "  </thead>\n",
       "  <tbody>\n",
       "    <tr>\n",
       "      <th>12346.000</th>\n",
       "      <td>326</td>\n",
       "      <td>726</td>\n",
       "      <td>34</td>\n",
       "      <td>77556.460</td>\n",
       "      <td>2281.072</td>\n",
       "      <td>2</td>\n",
       "      <td>2</td>\n",
       "      <td>5</td>\n",
       "      <td>5</td>\n",
       "      <td>225</td>\n",
       "      <td>22</td>\n",
       "    </tr>\n",
       "    <tr>\n",
       "      <th>12347.000</th>\n",
       "      <td>3</td>\n",
       "      <td>405</td>\n",
       "      <td>222</td>\n",
       "      <td>4921.530</td>\n",
       "      <td>22.169</td>\n",
       "      <td>5</td>\n",
       "      <td>5</td>\n",
       "      <td>5</td>\n",
       "      <td>2</td>\n",
       "      <td>555</td>\n",
       "      <td>55</td>\n",
       "    </tr>\n",
       "    <tr>\n",
       "      <th>12348.000</th>\n",
       "      <td>76</td>\n",
       "      <td>439</td>\n",
       "      <td>51</td>\n",
       "      <td>2019.400</td>\n",
       "      <td>39.596</td>\n",
       "      <td>3</td>\n",
       "      <td>3</td>\n",
       "      <td>4</td>\n",
       "      <td>3</td>\n",
       "      <td>334</td>\n",
       "      <td>33</td>\n",
       "    </tr>\n",
       "    <tr>\n",
       "      <th>12349.000</th>\n",
       "      <td>19</td>\n",
       "      <td>590</td>\n",
       "      <td>175</td>\n",
       "      <td>4428.690</td>\n",
       "      <td>25.307</td>\n",
       "      <td>5</td>\n",
       "      <td>5</td>\n",
       "      <td>5</td>\n",
       "      <td>3</td>\n",
       "      <td>555</td>\n",
       "      <td>55</td>\n",
       "    </tr>\n",
       "    <tr>\n",
       "      <th>12350.000</th>\n",
       "      <td>311</td>\n",
       "      <td>311</td>\n",
       "      <td>17</td>\n",
       "      <td>334.400</td>\n",
       "      <td>19.671</td>\n",
       "      <td>2</td>\n",
       "      <td>2</td>\n",
       "      <td>2</td>\n",
       "      <td>2</td>\n",
       "      <td>222</td>\n",
       "      <td>22</td>\n",
       "    </tr>\n",
       "  </tbody>\n",
       "</table>\n",
       "</div>"
      ],
      "text/plain": [
       "             Recency  Tenure  Frequency  Monetary  BasketSize RecencyScore FrequencyScore MonetaryScore TenureScore RFM_SCORE Segment\n",
       "Customer ID                                                                                                                          \n",
       "12346.000        326     726         34 77556.460    2281.072            2              2             5           5       225      22\n",
       "12347.000          3     405        222  4921.530      22.169            5              5             5           2       555      55\n",
       "12348.000         76     439         51  2019.400      39.596            3              3             4           3       334      33\n",
       "12349.000         19     590        175  4428.690      25.307            5              5             5           3       555      55\n",
       "12350.000        311     311         17   334.400      19.671            2              2             2           2       222      22"
      ]
     },
     "execution_count": 517,
     "metadata": {},
     "output_type": "execute_result"
    }
   ],
   "source": [
    "rfm.head()"
   ]
  },
  {
   "cell_type": "code",
   "execution_count": 518,
   "id": "ffd07b4f",
   "metadata": {
    "ExecuteTime": {
     "end_time": "2024-08-30T13:24:49.356694Z",
     "start_time": "2024-08-30T13:24:49.201024Z"
    },
    "collapsed": false,
    "jupyter": {
     "outputs_hidden": false
    }
   },
   "outputs": [],
   "source": [
    "#rfm.Frequency.value_counts()"
   ]
  },
  {
   "cell_type": "code",
   "execution_count": 519,
   "id": "2c652081",
   "metadata": {
    "ExecuteTime": {
     "end_time": "2024-08-30T13:24:49.356823Z",
     "start_time": "2024-08-30T13:24:49.203523Z"
    },
    "id": "2c652081",
    "outputId": "5d6e29c7-1b70-459f-ffad-b05b8be89680"
   },
   "outputs": [],
   "source": [
    "#rfm[\"Segment\"].value_counts()"
   ]
  },
  {
   "cell_type": "markdown",
   "id": "cb6aeaa73adedd36",
   "metadata": {
    "collapsed": false,
    "jupyter": {
     "outputs_hidden": false
    }
   },
   "source": [
    "# Naming & Analysing RFM Segments"
   ]
  },
  {
   "cell_type": "code",
   "execution_count": 521,
   "id": "062202b7",
   "metadata": {
    "ExecuteTime": {
     "end_time": "2024-08-30T13:24:49.356874Z",
     "start_time": "2024-08-30T13:24:49.205329Z"
    },
    "id": "062202b7"
   },
   "outputs": [],
   "source": [
    "# RFM isimlendirmesi\n",
    "\n",
    "seg_map = {\n",
    "    r'[1-2][1-2]': 'Hibernating',\n",
    "    r'[1-2][3-4]': 'At_Risk',\n",
    "    r'[1-2]5': 'Cant_Loose',\n",
    "    r'3[1-2]': 'About_to_Sleep',\n",
    "    r'33': 'Need_Attention',\n",
    "    r'[3-4][4-5]': 'Loyal_Customers',\n",
    "    r'41': 'Promising',\n",
    "    r'51': 'New_Customers',\n",
    "    r'[4-5][2-3]': 'Potential_Loyalists',\n",
    "    r'5[4-5]': 'Champions'\n",
    "}\n",
    "\n",
    "\n",
    "\n",
    "# Hibernating\t11\n",
    "# Hibernating\t21\n",
    "# Hibernating\t12\n",
    "# Hibernating\t22\n",
    "\n",
    "# At Risk\t13\n",
    "# At Risk\t14\n",
    "# At Risk\t23\n",
    "# At Risk\t24\n",
    "\n",
    "# About to Sleep\t31\n",
    "# About to Sleep\t32\n",
    "\n",
    "# Need Attention\t33\n",
    "\n",
    "# Promising\t41\n",
    "\n",
    "# New Customers\t51\n",
    "\n",
    "# Potential Loyalists\t42\n",
    "# Potential Loyalists\t43\n",
    "# Potential Loyalists\t52\n",
    "# Potential Loyalists\t53\n",
    "\n",
    "# Can’t Lose Them\t15\n",
    "# Can’t Lose Them\t25\n",
    "\n",
    "# Loyal Customers\t34\n",
    "# Loyal Customers\t35\n",
    "# Loyal Customers\t44\n",
    "# Loyal Customers\t45\n",
    "\n",
    "# Champions\t54\n",
    "# Champions\t55\n"
   ]
  },
  {
   "cell_type": "markdown",
   "id": "9e32ecd6-0f93-4071-a5d4-909b33c8eec0",
   "metadata": {},
   "source": [
    "![rfm_table.png](rfm_table.png)"
   ]
  },
  {
   "cell_type": "code",
   "execution_count": 523,
   "id": "1accde505e83d2af",
   "metadata": {
    "ExecuteTime": {
     "end_time": "2024-08-30T13:24:49.357245Z",
     "start_time": "2024-08-30T13:24:49.213606Z"
    },
    "collapsed": false,
    "jupyter": {
     "outputs_hidden": false
    }
   },
   "outputs": [
    {
     "data": {
      "text/html": [
       "<div>\n",
       "<style scoped>\n",
       "    .dataframe tbody tr th:only-of-type {\n",
       "        vertical-align: middle;\n",
       "    }\n",
       "\n",
       "    .dataframe tbody tr th {\n",
       "        vertical-align: top;\n",
       "    }\n",
       "\n",
       "    .dataframe thead th {\n",
       "        text-align: right;\n",
       "    }\n",
       "</style>\n",
       "<table border=\"1\" class=\"dataframe\">\n",
       "  <thead>\n",
       "    <tr style=\"text-align: right;\">\n",
       "      <th></th>\n",
       "      <th>Recency</th>\n",
       "      <th>Tenure</th>\n",
       "      <th>Frequency</th>\n",
       "      <th>Monetary</th>\n",
       "      <th>BasketSize</th>\n",
       "      <th>RecencyScore</th>\n",
       "      <th>FrequencyScore</th>\n",
       "      <th>MonetaryScore</th>\n",
       "      <th>TenureScore</th>\n",
       "      <th>RFM_SCORE</th>\n",
       "      <th>Segment</th>\n",
       "      <th>Segment_Label</th>\n",
       "    </tr>\n",
       "    <tr>\n",
       "      <th>Customer ID</th>\n",
       "      <th></th>\n",
       "      <th></th>\n",
       "      <th></th>\n",
       "      <th></th>\n",
       "      <th></th>\n",
       "      <th></th>\n",
       "      <th></th>\n",
       "      <th></th>\n",
       "      <th></th>\n",
       "      <th></th>\n",
       "      <th></th>\n",
       "      <th></th>\n",
       "    </tr>\n",
       "  </thead>\n",
       "  <tbody>\n",
       "    <tr>\n",
       "      <th>12346.000</th>\n",
       "      <td>326</td>\n",
       "      <td>726</td>\n",
       "      <td>34</td>\n",
       "      <td>77556.460</td>\n",
       "      <td>2281.072</td>\n",
       "      <td>2</td>\n",
       "      <td>2</td>\n",
       "      <td>5</td>\n",
       "      <td>5</td>\n",
       "      <td>225</td>\n",
       "      <td>22</td>\n",
       "      <td>Hibernating</td>\n",
       "    </tr>\n",
       "    <tr>\n",
       "      <th>12347.000</th>\n",
       "      <td>3</td>\n",
       "      <td>405</td>\n",
       "      <td>222</td>\n",
       "      <td>4921.530</td>\n",
       "      <td>22.169</td>\n",
       "      <td>5</td>\n",
       "      <td>5</td>\n",
       "      <td>5</td>\n",
       "      <td>2</td>\n",
       "      <td>555</td>\n",
       "      <td>55</td>\n",
       "      <td>Champions</td>\n",
       "    </tr>\n",
       "    <tr>\n",
       "      <th>12348.000</th>\n",
       "      <td>76</td>\n",
       "      <td>439</td>\n",
       "      <td>51</td>\n",
       "      <td>2019.400</td>\n",
       "      <td>39.596</td>\n",
       "      <td>3</td>\n",
       "      <td>3</td>\n",
       "      <td>4</td>\n",
       "      <td>3</td>\n",
       "      <td>334</td>\n",
       "      <td>33</td>\n",
       "      <td>Need_Attention</td>\n",
       "    </tr>\n",
       "    <tr>\n",
       "      <th>12349.000</th>\n",
       "      <td>19</td>\n",
       "      <td>590</td>\n",
       "      <td>175</td>\n",
       "      <td>4428.690</td>\n",
       "      <td>25.307</td>\n",
       "      <td>5</td>\n",
       "      <td>5</td>\n",
       "      <td>5</td>\n",
       "      <td>3</td>\n",
       "      <td>555</td>\n",
       "      <td>55</td>\n",
       "      <td>Champions</td>\n",
       "    </tr>\n",
       "    <tr>\n",
       "      <th>12350.000</th>\n",
       "      <td>311</td>\n",
       "      <td>311</td>\n",
       "      <td>17</td>\n",
       "      <td>334.400</td>\n",
       "      <td>19.671</td>\n",
       "      <td>2</td>\n",
       "      <td>2</td>\n",
       "      <td>2</td>\n",
       "      <td>2</td>\n",
       "      <td>222</td>\n",
       "      <td>22</td>\n",
       "      <td>Hibernating</td>\n",
       "    </tr>\n",
       "    <tr>\n",
       "      <th>...</th>\n",
       "      <td>...</td>\n",
       "      <td>...</td>\n",
       "      <td>...</td>\n",
       "      <td>...</td>\n",
       "      <td>...</td>\n",
       "      <td>...</td>\n",
       "      <td>...</td>\n",
       "      <td>...</td>\n",
       "      <td>...</td>\n",
       "      <td>...</td>\n",
       "      <td>...</td>\n",
       "      <td>...</td>\n",
       "    </tr>\n",
       "    <tr>\n",
       "      <th>18283.000</th>\n",
       "      <td>4</td>\n",
       "      <td>659</td>\n",
       "      <td>938</td>\n",
       "      <td>2664.900</td>\n",
       "      <td>2.841</td>\n",
       "      <td>5</td>\n",
       "      <td>5</td>\n",
       "      <td>4</td>\n",
       "      <td>4</td>\n",
       "      <td>554</td>\n",
       "      <td>55</td>\n",
       "      <td>Champions</td>\n",
       "    </tr>\n",
       "    <tr>\n",
       "      <th>18284.000</th>\n",
       "      <td>432</td>\n",
       "      <td>432</td>\n",
       "      <td>28</td>\n",
       "      <td>461.680</td>\n",
       "      <td>16.489</td>\n",
       "      <td>1</td>\n",
       "      <td>2</td>\n",
       "      <td>2</td>\n",
       "      <td>2</td>\n",
       "      <td>122</td>\n",
       "      <td>12</td>\n",
       "      <td>Hibernating</td>\n",
       "    </tr>\n",
       "    <tr>\n",
       "      <th>18285.000</th>\n",
       "      <td>661</td>\n",
       "      <td>661</td>\n",
       "      <td>12</td>\n",
       "      <td>427.000</td>\n",
       "      <td>35.583</td>\n",
       "      <td>1</td>\n",
       "      <td>1</td>\n",
       "      <td>2</td>\n",
       "      <td>4</td>\n",
       "      <td>112</td>\n",
       "      <td>11</td>\n",
       "      <td>Hibernating</td>\n",
       "    </tr>\n",
       "    <tr>\n",
       "      <th>18286.000</th>\n",
       "      <td>477</td>\n",
       "      <td>724</td>\n",
       "      <td>67</td>\n",
       "      <td>1296.430</td>\n",
       "      <td>19.350</td>\n",
       "      <td>1</td>\n",
       "      <td>3</td>\n",
       "      <td>4</td>\n",
       "      <td>5</td>\n",
       "      <td>134</td>\n",
       "      <td>13</td>\n",
       "      <td>At_Risk</td>\n",
       "    </tr>\n",
       "    <tr>\n",
       "      <th>18287.000</th>\n",
       "      <td>43</td>\n",
       "      <td>572</td>\n",
       "      <td>155</td>\n",
       "      <td>4182.990</td>\n",
       "      <td>26.987</td>\n",
       "      <td>4</td>\n",
       "      <td>4</td>\n",
       "      <td>5</td>\n",
       "      <td>3</td>\n",
       "      <td>445</td>\n",
       "      <td>44</td>\n",
       "      <td>Loyal_Customers</td>\n",
       "    </tr>\n",
       "  </tbody>\n",
       "</table>\n",
       "<p>5878 rows × 12 columns</p>\n",
       "</div>"
      ],
      "text/plain": [
       "             Recency  Tenure  Frequency  Monetary  BasketSize RecencyScore FrequencyScore MonetaryScore TenureScore RFM_SCORE Segment    Segment_Label\n",
       "Customer ID                                                                                                                                           \n",
       "12346.000        326     726         34 77556.460    2281.072            2              2             5           5       225      22      Hibernating\n",
       "12347.000          3     405        222  4921.530      22.169            5              5             5           2       555      55        Champions\n",
       "12348.000         76     439         51  2019.400      39.596            3              3             4           3       334      33   Need_Attention\n",
       "12349.000         19     590        175  4428.690      25.307            5              5             5           3       555      55        Champions\n",
       "12350.000        311     311         17   334.400      19.671            2              2             2           2       222      22      Hibernating\n",
       "...              ...     ...        ...       ...         ...          ...            ...           ...         ...       ...     ...              ...\n",
       "18283.000          4     659        938  2664.900       2.841            5              5             4           4       554      55        Champions\n",
       "18284.000        432     432         28   461.680      16.489            1              2             2           2       122      12      Hibernating\n",
       "18285.000        661     661         12   427.000      35.583            1              1             2           4       112      11      Hibernating\n",
       "18286.000        477     724         67  1296.430      19.350            1              3             4           5       134      13          At_Risk\n",
       "18287.000         43     572        155  4182.990      26.987            4              4             5           3       445      44  Loyal_Customers\n",
       "\n",
       "[5878 rows x 12 columns]"
      ]
     },
     "execution_count": 523,
     "metadata": {},
     "output_type": "execute_result"
    }
   ],
   "source": [
    "#Segment labels\n",
    "#Segment etiketleri\n",
    "rfm['Segment_Label'] = rfm['Segment'].replace(seg_map, regex=True)\n",
    "rfm"
   ]
  },
  {
   "cell_type": "code",
   "execution_count": 524,
   "id": "e4c0bcaa",
   "metadata": {
    "ExecuteTime": {
     "end_time": "2024-08-30T13:24:49.357683Z",
     "start_time": "2024-08-30T13:24:49.238221Z"
    },
    "id": "e4c0bcaa",
    "outputId": "b0412041-9a97-4d05-da6a-84cc7a402748"
   },
   "outputs": [
    {
     "data": {
      "text/html": [
       "<div>\n",
       "<style scoped>\n",
       "    .dataframe tbody tr th:only-of-type {\n",
       "        vertical-align: middle;\n",
       "    }\n",
       "\n",
       "    .dataframe tbody tr th {\n",
       "        vertical-align: top;\n",
       "    }\n",
       "\n",
       "    .dataframe thead tr th {\n",
       "        text-align: left;\n",
       "    }\n",
       "\n",
       "    .dataframe thead tr:last-of-type th {\n",
       "        text-align: right;\n",
       "    }\n",
       "</style>\n",
       "<table border=\"1\" class=\"dataframe\">\n",
       "  <thead>\n",
       "    <tr>\n",
       "      <th></th>\n",
       "      <th colspan=\"2\" halign=\"left\">Recency</th>\n",
       "      <th colspan=\"2\" halign=\"left\">Frequency</th>\n",
       "      <th colspan=\"2\" halign=\"left\">Monetary</th>\n",
       "    </tr>\n",
       "    <tr>\n",
       "      <th></th>\n",
       "      <th>mean</th>\n",
       "      <th>median</th>\n",
       "      <th>mean</th>\n",
       "      <th>median</th>\n",
       "      <th>mean</th>\n",
       "      <th>median</th>\n",
       "    </tr>\n",
       "    <tr>\n",
       "      <th>Segment_Label</th>\n",
       "      <th></th>\n",
       "      <th></th>\n",
       "      <th></th>\n",
       "      <th></th>\n",
       "      <th></th>\n",
       "      <th></th>\n",
       "    </tr>\n",
       "  </thead>\n",
       "  <tbody>\n",
       "    <tr>\n",
       "      <th>About_to_Sleep</th>\n",
       "      <td>110.716</td>\n",
       "      <td>100.000</td>\n",
       "      <td>17.986</td>\n",
       "      <td>18.000</td>\n",
       "      <td>660.839</td>\n",
       "      <td>373.650</td>\n",
       "    </tr>\n",
       "    <tr>\n",
       "      <th>At_Risk</th>\n",
       "      <td>395.676</td>\n",
       "      <td>390.000</td>\n",
       "      <td>71.224</td>\n",
       "      <td>62.000</td>\n",
       "      <td>1274.689</td>\n",
       "      <td>855.500</td>\n",
       "    </tr>\n",
       "    <tr>\n",
       "      <th>Cant_Loose</th>\n",
       "      <td>345.176</td>\n",
       "      <td>333.500</td>\n",
       "      <td>309.139</td>\n",
       "      <td>233.000</td>\n",
       "      <td>4541.975</td>\n",
       "      <td>2889.395</td>\n",
       "    </tr>\n",
       "    <tr>\n",
       "      <th>Champions</th>\n",
       "      <td>9.279</td>\n",
       "      <td>9.000</td>\n",
       "      <td>431.310</td>\n",
       "      <td>241.000</td>\n",
       "      <td>10523.503</td>\n",
       "      <td>3882.790</td>\n",
       "    </tr>\n",
       "    <tr>\n",
       "      <th>Hibernating</th>\n",
       "      <td>452.955</td>\n",
       "      <td>432.000</td>\n",
       "      <td>15.874</td>\n",
       "      <td>15.000</td>\n",
       "      <td>511.872</td>\n",
       "      <td>271.750</td>\n",
       "    </tr>\n",
       "    <tr>\n",
       "      <th>Loyal_Customers</th>\n",
       "      <td>66.630</td>\n",
       "      <td>52.000</td>\n",
       "      <td>223.332</td>\n",
       "      <td>161.000</td>\n",
       "      <td>4071.943</td>\n",
       "      <td>2491.380</td>\n",
       "    </tr>\n",
       "    <tr>\n",
       "      <th>Need_Attention</th>\n",
       "      <td>107.992</td>\n",
       "      <td>96.000</td>\n",
       "      <td>53.910</td>\n",
       "      <td>53.000</td>\n",
       "      <td>1386.395</td>\n",
       "      <td>1000.275</td>\n",
       "    </tr>\n",
       "    <tr>\n",
       "      <th>New_Customers</th>\n",
       "      <td>11.462</td>\n",
       "      <td>11.000</td>\n",
       "      <td>8.603</td>\n",
       "      <td>9.000</td>\n",
       "      <td>2892.413</td>\n",
       "      <td>237.875</td>\n",
       "    </tr>\n",
       "    <tr>\n",
       "      <th>Potential_Loyalists</th>\n",
       "      <td>26.336</td>\n",
       "      <td>24.000</td>\n",
       "      <td>42.729</td>\n",
       "      <td>42.000</td>\n",
       "      <td>1157.096</td>\n",
       "      <td>749.100</td>\n",
       "    </tr>\n",
       "    <tr>\n",
       "      <th>Promising</th>\n",
       "      <td>38.050</td>\n",
       "      <td>38.000</td>\n",
       "      <td>9.210</td>\n",
       "      <td>9.000</td>\n",
       "      <td>387.805</td>\n",
       "      <td>205.250</td>\n",
       "    </tr>\n",
       "  </tbody>\n",
       "</table>\n",
       "</div>"
      ],
      "text/plain": [
       "                    Recency         Frequency          Monetary         \n",
       "                       mean  median      mean  median      mean   median\n",
       "Segment_Label                                                           \n",
       "About_to_Sleep      110.716 100.000    17.986  18.000   660.839  373.650\n",
       "At_Risk             395.676 390.000    71.224  62.000  1274.689  855.500\n",
       "Cant_Loose          345.176 333.500   309.139 233.000  4541.975 2889.395\n",
       "Champions             9.279   9.000   431.310 241.000 10523.503 3882.790\n",
       "Hibernating         452.955 432.000    15.874  15.000   511.872  271.750\n",
       "Loyal_Customers      66.630  52.000   223.332 161.000  4071.943 2491.380\n",
       "Need_Attention      107.992  96.000    53.910  53.000  1386.395 1000.275\n",
       "New_Customers        11.462  11.000     8.603   9.000  2892.413  237.875\n",
       "Potential_Loyalists  26.336  24.000    42.729  42.000  1157.096  749.100\n",
       "Promising            38.050  38.000     9.210   9.000   387.805  205.250"
      ]
     },
     "execution_count": 524,
     "metadata": {},
     "output_type": "execute_result"
    }
   ],
   "source": [
    "# Segment stats\n",
    "# Segment istatistikleri\n",
    "rfm.groupby(\"Segment_Label\").agg(\n",
    "    {\"Recency\":[\"mean\", \"median\"],\n",
    "     \"Frequency\":[\"mean\", \"median\"],\n",
    "     \"Monetary\":[\"mean\", \"median\"]})"
   ]
  },
  {
   "cell_type": "markdown",
   "id": "f8239431-5929-4249-8994-ea990fa7a933",
   "metadata": {},
   "source": [
    "### Visualize the segments"
   ]
  },
  {
   "cell_type": "code",
   "execution_count": 526,
   "id": "dc2cd119f6be6f0a",
   "metadata": {
    "ExecuteTime": {
     "end_time": "2024-08-30T13:24:50.560078Z",
     "start_time": "2024-08-30T13:24:49.247981Z"
    },
    "collapsed": false,
    "jupyter": {
     "outputs_hidden": false
    }
   },
   "outputs": [
    {
     "data": {
      "image/png": "[encoded data removed]",
      "text/plain": [
       "<Figure size 1500x1000 with 3 Axes>"
      ]
     },
     "metadata": {},
     "output_type": "display_data"
    }
   ],
   "source": [
    "plt.figure(figsize=(15,10))\n",
    "\n",
    "# Plot recency distribution\n",
    "plt.subplot(3, 1, 1);\n",
    "sns.set_theme(font_scale=1.2) # set theme for plots\n",
    "sns.histplot(x=rfm[\"Recency\"]);\n",
    "\n",
    "# Plot frequency distribution\n",
    "plt.subplot(3, 1, 2);\n",
    "sns.set_theme(font_scale=1.2) # set theme for plots\n",
    "sns.histplot(x=rfm[\"Frequency\"]);\n",
    "\n",
    "# Plot monetary value distribution\n",
    "plt.subplot(3, 1, 3);\n",
    "sns.set_theme(font_scale=1.2) # set theme for plots\n",
    "sns.histplot(x=rfm[\"Monetary\"]);\n",
    "\n",
    "\n",
    "# Show the plot\n",
    "plt.show()"
   ]
  },
  {
   "cell_type": "code",
   "execution_count": 527,
   "id": "d8ec88eb",
   "metadata": {
    "ExecuteTime": {
     "end_time": "2024-08-30T13:24:50.977487Z",
     "start_time": "2024-08-30T13:24:50.555636Z"
    },
    "id": "d8ec88eb"
   },
   "outputs": [
    {
     "data": {
      "image/png": "[encoded data removed]",
      "text/plain": [
       "<Figure size 1500x1000 with 3 Axes>"
      ]
     },
     "metadata": {},
     "output_type": "display_data"
    }
   ],
   "source": [
    "plt.figure(figsize=(15,10))\n",
    "\n",
    "# Plot recency distribution\n",
    "plt.subplot(3, 1, 1); sns.distplot(rfm['Recency'])\n",
    "\n",
    "# Plot frequency distribution\n",
    "plt.subplot(3, 1, 2); sns.distplot(rfm['Frequency'])\n",
    "\n",
    "# Plot monetary value distribution\n",
    "plt.subplot(3, 1, 3); sns.distplot(rfm['Monetary'])\n",
    "\n",
    "# Show the plot\n",
    "plt.show()"
   ]
  },
  {
   "cell_type": "code",
   "execution_count": 528,
   "id": "9cd1cb0eae0ff1e",
   "metadata": {
    "ExecuteTime": {
     "end_time": "2024-08-30T13:24:51.005052Z",
     "start_time": "2024-08-30T13:24:50.960777Z"
    },
    "collapsed": false,
    "jupyter": {
     "outputs_hidden": false
    }
   },
   "outputs": [
    {
     "data": {
      "text/html": [
       "<div>\n",
       "<style scoped>\n",
       "    .dataframe tbody tr th:only-of-type {\n",
       "        vertical-align: middle;\n",
       "    }\n",
       "\n",
       "    .dataframe tbody tr th {\n",
       "        vertical-align: top;\n",
       "    }\n",
       "\n",
       "    .dataframe thead tr th {\n",
       "        text-align: left;\n",
       "    }\n",
       "\n",
       "    .dataframe thead tr:last-of-type th {\n",
       "        text-align: right;\n",
       "    }\n",
       "</style>\n",
       "<table border=\"1\" class=\"dataframe\">\n",
       "  <thead>\n",
       "    <tr>\n",
       "      <th></th>\n",
       "      <th colspan=\"2\" halign=\"left\">Recency</th>\n",
       "      <th colspan=\"2\" halign=\"left\">Frequency</th>\n",
       "      <th colspan=\"2\" halign=\"left\">Monetary</th>\n",
       "    </tr>\n",
       "    <tr>\n",
       "      <th></th>\n",
       "      <th>mean</th>\n",
       "      <th>count</th>\n",
       "      <th>mean</th>\n",
       "      <th>count</th>\n",
       "      <th>mean</th>\n",
       "      <th>count</th>\n",
       "    </tr>\n",
       "    <tr>\n",
       "      <th>Segment</th>\n",
       "      <th></th>\n",
       "      <th></th>\n",
       "      <th></th>\n",
       "      <th></th>\n",
       "      <th></th>\n",
       "      <th></th>\n",
       "    </tr>\n",
       "  </thead>\n",
       "  <tbody>\n",
       "    <tr>\n",
       "      <th>11</th>\n",
       "      <td>569.484</td>\n",
       "      <td>469</td>\n",
       "      <td>7.925</td>\n",
       "      <td>469</td>\n",
       "      <td>358.860</td>\n",
       "      <td>469</td>\n",
       "    </tr>\n",
       "    <tr>\n",
       "      <th>12</th>\n",
       "      <td>546.046</td>\n",
       "      <td>349</td>\n",
       "      <td>24.519</td>\n",
       "      <td>349</td>\n",
       "      <td>501.064</td>\n",
       "      <td>349</td>\n",
       "    </tr>\n",
       "    <tr>\n",
       "      <th>13</th>\n",
       "      <td>529.927</td>\n",
       "      <td>233</td>\n",
       "      <td>51.296</td>\n",
       "      <td>233</td>\n",
       "      <td>1104.188</td>\n",
       "      <td>233</td>\n",
       "    </tr>\n",
       "    <tr>\n",
       "      <th>14</th>\n",
       "      <td>477.337</td>\n",
       "      <td>86</td>\n",
       "      <td>105.186</td>\n",
       "      <td>86</td>\n",
       "      <td>1579.785</td>\n",
       "      <td>86</td>\n",
       "    </tr>\n",
       "    <tr>\n",
       "      <th>15</th>\n",
       "      <td>484.806</td>\n",
       "      <td>31</td>\n",
       "      <td>277.484</td>\n",
       "      <td>31</td>\n",
       "      <td>3363.847</td>\n",
       "      <td>31</td>\n",
       "    </tr>\n",
       "    <tr>\n",
       "      <th>21</th>\n",
       "      <td>315.848</td>\n",
       "      <td>309</td>\n",
       "      <td>8.311</td>\n",
       "      <td>309</td>\n",
       "      <td>479.097</td>\n",
       "      <td>309</td>\n",
       "    </tr>\n",
       "    <tr>\n",
       "      <th>22</th>\n",
       "      <td>310.360</td>\n",
       "      <td>314</td>\n",
       "      <td>25.583</td>\n",
       "      <td>314</td>\n",
       "      <td>784.680</td>\n",
       "      <td>314</td>\n",
       "    </tr>\n",
       "    <tr>\n",
       "      <th>23</th>\n",
       "      <td>313.579</td>\n",
       "      <td>285</td>\n",
       "      <td>52.796</td>\n",
       "      <td>285</td>\n",
       "      <td>897.690</td>\n",
       "      <td>285</td>\n",
       "    </tr>\n",
       "    <tr>\n",
       "      <th>24</th>\n",
       "      <td>317.226</td>\n",
       "      <td>190</td>\n",
       "      <td>107.932</td>\n",
       "      <td>190</td>\n",
       "      <td>1911.180</td>\n",
       "      <td>190</td>\n",
       "    </tr>\n",
       "    <tr>\n",
       "      <th>25</th>\n",
       "      <td>288.961</td>\n",
       "      <td>77</td>\n",
       "      <td>321.883</td>\n",
       "      <td>77</td>\n",
       "      <td>5016.287</td>\n",
       "      <td>77</td>\n",
       "    </tr>\n",
       "    <tr>\n",
       "      <th>31</th>\n",
       "      <td>112.975</td>\n",
       "      <td>201</td>\n",
       "      <td>8.711</td>\n",
       "      <td>201</td>\n",
       "      <td>676.742</td>\n",
       "      <td>201</td>\n",
       "    </tr>\n",
       "    <tr>\n",
       "      <th>32</th>\n",
       "      <td>108.734</td>\n",
       "      <td>229</td>\n",
       "      <td>26.127</td>\n",
       "      <td>229</td>\n",
       "      <td>646.880</td>\n",
       "      <td>229</td>\n",
       "    </tr>\n",
       "    <tr>\n",
       "      <th>33</th>\n",
       "      <td>107.992</td>\n",
       "      <td>266</td>\n",
       "      <td>53.910</td>\n",
       "      <td>266</td>\n",
       "      <td>1386.395</td>\n",
       "      <td>266</td>\n",
       "    </tr>\n",
       "    <tr>\n",
       "      <th>34</th>\n",
       "      <td>110.186</td>\n",
       "      <td>301</td>\n",
       "      <td>112.688</td>\n",
       "      <td>301</td>\n",
       "      <td>2491.294</td>\n",
       "      <td>301</td>\n",
       "    </tr>\n",
       "    <tr>\n",
       "      <th>35</th>\n",
       "      <td>102.038</td>\n",
       "      <td>183</td>\n",
       "      <td>326.251</td>\n",
       "      <td>183</td>\n",
       "      <td>4701.492</td>\n",
       "      <td>183</td>\n",
       "    </tr>\n",
       "    <tr>\n",
       "      <th>41</th>\n",
       "      <td>38.050</td>\n",
       "      <td>119</td>\n",
       "      <td>9.210</td>\n",
       "      <td>119</td>\n",
       "      <td>387.805</td>\n",
       "      <td>119</td>\n",
       "    </tr>\n",
       "    <tr>\n",
       "      <th>42</th>\n",
       "      <td>38.512</td>\n",
       "      <td>170</td>\n",
       "      <td>26.753</td>\n",
       "      <td>170</td>\n",
       "      <td>828.801</td>\n",
       "      <td>170</td>\n",
       "    </tr>\n",
       "    <tr>\n",
       "      <th>43</th>\n",
       "      <td>38.519</td>\n",
       "      <td>208</td>\n",
       "      <td>54.188</td>\n",
       "      <td>208</td>\n",
       "      <td>1189.645</td>\n",
       "      <td>208</td>\n",
       "    </tr>\n",
       "    <tr>\n",
       "      <th>44</th>\n",
       "      <td>36.759</td>\n",
       "      <td>307</td>\n",
       "      <td>117.495</td>\n",
       "      <td>307</td>\n",
       "      <td>2231.129</td>\n",
       "      <td>307</td>\n",
       "    </tr>\n",
       "    <tr>\n",
       "      <th>45</th>\n",
       "      <td>35.619</td>\n",
       "      <td>336</td>\n",
       "      <td>363.098</td>\n",
       "      <td>336</td>\n",
       "      <td>6826.994</td>\n",
       "      <td>336</td>\n",
       "    </tr>\n",
       "    <tr>\n",
       "      <th>51</th>\n",
       "      <td>11.462</td>\n",
       "      <td>78</td>\n",
       "      <td>8.603</td>\n",
       "      <td>78</td>\n",
       "      <td>2892.413</td>\n",
       "      <td>78</td>\n",
       "    </tr>\n",
       "    <tr>\n",
       "      <th>52</th>\n",
       "      <td>10.912</td>\n",
       "      <td>113</td>\n",
       "      <td>26.301</td>\n",
       "      <td>113</td>\n",
       "      <td>794.225</td>\n",
       "      <td>113</td>\n",
       "    </tr>\n",
       "    <tr>\n",
       "      <th>53</th>\n",
       "      <td>10.788</td>\n",
       "      <td>184</td>\n",
       "      <td>54.625</td>\n",
       "      <td>184</td>\n",
       "      <td>1646.467</td>\n",
       "      <td>184</td>\n",
       "    </tr>\n",
       "    <tr>\n",
       "      <th>54</th>\n",
       "      <td>10.216</td>\n",
       "      <td>291</td>\n",
       "      <td>120.351</td>\n",
       "      <td>291</td>\n",
       "      <td>3089.105</td>\n",
       "      <td>291</td>\n",
       "    </tr>\n",
       "    <tr>\n",
       "      <th>55</th>\n",
       "      <td>8.781</td>\n",
       "      <td>549</td>\n",
       "      <td>596.135</td>\n",
       "      <td>549</td>\n",
       "      <td>14464.141</td>\n",
       "      <td>549</td>\n",
       "    </tr>\n",
       "  </tbody>\n",
       "</table>\n",
       "</div>"
      ],
      "text/plain": [
       "        Recency       Frequency        Monetary      \n",
       "           mean count      mean count      mean count\n",
       "Segment                                              \n",
       "11      569.484   469     7.925   469   358.860   469\n",
       "12      546.046   349    24.519   349   501.064   349\n",
       "13      529.927   233    51.296   233  1104.188   233\n",
       "14      477.337    86   105.186    86  1579.785    86\n",
       "15      484.806    31   277.484    31  3363.847    31\n",
       "21      315.848   309     8.311   309   479.097   309\n",
       "22      310.360   314    25.583   314   784.680   314\n",
       "23      313.579   285    52.796   285   897.690   285\n",
       "24      317.226   190   107.932   190  1911.180   190\n",
       "25      288.961    77   321.883    77  5016.287    77\n",
       "31      112.975   201     8.711   201   676.742   201\n",
       "32      108.734   229    26.127   229   646.880   229\n",
       "33      107.992   266    53.910   266  1386.395   266\n",
       "34      110.186   301   112.688   301  2491.294   301\n",
       "35      102.038   183   326.251   183  4701.492   183\n",
       "41       38.050   119     9.210   119   387.805   119\n",
       "42       38.512   170    26.753   170   828.801   170\n",
       "43       38.519   208    54.188   208  1189.645   208\n",
       "44       36.759   307   117.495   307  2231.129   307\n",
       "45       35.619   336   363.098   336  6826.994   336\n",
       "51       11.462    78     8.603    78  2892.413    78\n",
       "52       10.912   113    26.301   113   794.225   113\n",
       "53       10.788   184    54.625   184  1646.467   184\n",
       "54       10.216   291   120.351   291  3089.105   291\n",
       "55        8.781   549   596.135   549 14464.141   549"
      ]
     },
     "execution_count": 528,
     "metadata": {},
     "output_type": "execute_result"
    }
   ],
   "source": [
    "rfm[[\"Segment\", \"Recency\", \"Frequency\", \"Monetary\"]].groupby(\"Segment\").agg([\"mean\", \"count\"])"
   ]
  },
  {
   "cell_type": "code",
   "execution_count": 529,
   "id": "c3fe8a65-4997-40a0-90a1-f809f7aa75b0",
   "metadata": {},
   "outputs": [
    {
     "data": {
      "text/html": [
       "<div>\n",
       "<style scoped>\n",
       "    .dataframe tbody tr th:only-of-type {\n",
       "        vertical-align: middle;\n",
       "    }\n",
       "\n",
       "    .dataframe tbody tr th {\n",
       "        vertical-align: top;\n",
       "    }\n",
       "\n",
       "    .dataframe thead th {\n",
       "        text-align: right;\n",
       "    }\n",
       "</style>\n",
       "<table border=\"1\" class=\"dataframe\">\n",
       "  <thead>\n",
       "    <tr style=\"text-align: right;\">\n",
       "      <th></th>\n",
       "      <th>Count</th>\n",
       "      <th>Percentage</th>\n",
       "    </tr>\n",
       "    <tr>\n",
       "      <th>Segment_Label</th>\n",
       "      <th></th>\n",
       "      <th></th>\n",
       "    </tr>\n",
       "  </thead>\n",
       "  <tbody>\n",
       "    <tr>\n",
       "      <th>About_to_Sleep</th>\n",
       "      <td>430</td>\n",
       "      <td>7.315</td>\n",
       "    </tr>\n",
       "    <tr>\n",
       "      <th>At_Risk</th>\n",
       "      <td>794</td>\n",
       "      <td>13.508</td>\n",
       "    </tr>\n",
       "    <tr>\n",
       "      <th>Cant_Loose</th>\n",
       "      <td>108</td>\n",
       "      <td>1.837</td>\n",
       "    </tr>\n",
       "    <tr>\n",
       "      <th>Champions</th>\n",
       "      <td>840</td>\n",
       "      <td>14.291</td>\n",
       "    </tr>\n",
       "    <tr>\n",
       "      <th>Hibernating</th>\n",
       "      <td>1441</td>\n",
       "      <td>24.515</td>\n",
       "    </tr>\n",
       "    <tr>\n",
       "      <th>Loyal_Customers</th>\n",
       "      <td>1127</td>\n",
       "      <td>19.173</td>\n",
       "    </tr>\n",
       "    <tr>\n",
       "      <th>Need_Attention</th>\n",
       "      <td>266</td>\n",
       "      <td>4.525</td>\n",
       "    </tr>\n",
       "    <tr>\n",
       "      <th>New_Customers</th>\n",
       "      <td>78</td>\n",
       "      <td>1.327</td>\n",
       "    </tr>\n",
       "    <tr>\n",
       "      <th>Potential_Loyalists</th>\n",
       "      <td>675</td>\n",
       "      <td>11.483</td>\n",
       "    </tr>\n",
       "    <tr>\n",
       "      <th>Promising</th>\n",
       "      <td>119</td>\n",
       "      <td>2.024</td>\n",
       "    </tr>\n",
       "  </tbody>\n",
       "</table>\n",
       "</div>"
      ],
      "text/plain": [
       "                     Count  Percentage\n",
       "Segment_Label                         \n",
       "About_to_Sleep         430       7.315\n",
       "At_Risk                794      13.508\n",
       "Cant_Loose             108       1.837\n",
       "Champions              840      14.291\n",
       "Hibernating           1441      24.515\n",
       "Loyal_Customers       1127      19.173\n",
       "Need_Attention         266       4.525\n",
       "New_Customers           78       1.327\n",
       "Potential_Loyalists    675      11.483\n",
       "Promising              119       2.024"
      ]
     },
     "execution_count": 529,
     "metadata": {},
     "output_type": "execute_result"
    }
   ],
   "source": [
    "# Segment distribution\n",
    "# Segment dağılımı\n",
    "rfm.groupby(\"Segment_Label\").agg(\n",
    "    Count=(\"Segment_Label\", \"count\"),\n",
    "    Percentage=(\"Segment_Label\", lambda x: len(x) / len(rfm) * 100)\n",
    ")"
   ]
  },
  {
   "cell_type": "code",
   "execution_count": 530,
   "id": "527d21d0acc99657",
   "metadata": {
    "ExecuteTime": {
     "end_time": "2024-08-30T13:24:51.043942Z",
     "start_time": "2024-08-30T13:24:50.976311Z"
    },
    "collapsed": false,
    "jupyter": {
     "outputs_hidden": false
    }
   },
   "outputs": [],
   "source": [
    "rfm_filtered = rfm[rfm[\"Segment_Label\"] == \"Champions\"][[\"Segment_Label\", \"RFM_SCORE\"]]\n",
    "#rfm_filtered = rfm.loc[rfm[\"Segment_Label\"] == \"Champions\", [\"Segment_Label\", \"RFM_SCORE\"]]"
   ]
  },
  {
   "cell_type": "code",
   "execution_count": 531,
   "id": "fc6be2bbb74da251",
   "metadata": {
    "ExecuteTime": {
     "end_time": "2024-08-30T13:24:51.044767Z",
     "start_time": "2024-08-30T13:24:50.979798Z"
    },
    "collapsed": false,
    "jupyter": {
     "outputs_hidden": false
    }
   },
   "outputs": [
    {
     "data": {
      "text/html": [
       "<div>\n",
       "<style scoped>\n",
       "    .dataframe tbody tr th:only-of-type {\n",
       "        vertical-align: middle;\n",
       "    }\n",
       "\n",
       "    .dataframe tbody tr th {\n",
       "        vertical-align: top;\n",
       "    }\n",
       "\n",
       "    .dataframe thead th {\n",
       "        text-align: right;\n",
       "    }\n",
       "</style>\n",
       "<table border=\"1\" class=\"dataframe\">\n",
       "  <thead>\n",
       "    <tr style=\"text-align: right;\">\n",
       "      <th></th>\n",
       "      <th>Segment_Label</th>\n",
       "      <th>RFM_SCORE</th>\n",
       "    </tr>\n",
       "    <tr>\n",
       "      <th>Customer ID</th>\n",
       "      <th></th>\n",
       "      <th></th>\n",
       "    </tr>\n",
       "  </thead>\n",
       "  <tbody>\n",
       "    <tr>\n",
       "      <th>13428.000</th>\n",
       "      <td>Champions</td>\n",
       "      <td>542</td>\n",
       "    </tr>\n",
       "    <tr>\n",
       "      <th>13558.000</th>\n",
       "      <td>Champions</td>\n",
       "      <td>542</td>\n",
       "    </tr>\n",
       "    <tr>\n",
       "      <th>14052.000</th>\n",
       "      <td>Champions</td>\n",
       "      <td>542</td>\n",
       "    </tr>\n",
       "    <tr>\n",
       "      <th>14093.000</th>\n",
       "      <td>Champions</td>\n",
       "      <td>542</td>\n",
       "    </tr>\n",
       "    <tr>\n",
       "      <th>14954.000</th>\n",
       "      <td>Champions</td>\n",
       "      <td>542</td>\n",
       "    </tr>\n",
       "    <tr>\n",
       "      <th>...</th>\n",
       "      <td>...</td>\n",
       "      <td>...</td>\n",
       "    </tr>\n",
       "    <tr>\n",
       "      <th>18223.000</th>\n",
       "      <td>Champions</td>\n",
       "      <td>555</td>\n",
       "    </tr>\n",
       "    <tr>\n",
       "      <th>18225.000</th>\n",
       "      <td>Champions</td>\n",
       "      <td>555</td>\n",
       "    </tr>\n",
       "    <tr>\n",
       "      <th>18229.000</th>\n",
       "      <td>Champions</td>\n",
       "      <td>555</td>\n",
       "    </tr>\n",
       "    <tr>\n",
       "      <th>18245.000</th>\n",
       "      <td>Champions</td>\n",
       "      <td>555</td>\n",
       "    </tr>\n",
       "    <tr>\n",
       "      <th>18272.000</th>\n",
       "      <td>Champions</td>\n",
       "      <td>555</td>\n",
       "    </tr>\n",
       "  </tbody>\n",
       "</table>\n",
       "<p>840 rows × 2 columns</p>\n",
       "</div>"
      ],
      "text/plain": [
       "            Segment_Label RFM_SCORE\n",
       "Customer ID                        \n",
       "13428.000       Champions       542\n",
       "13558.000       Champions       542\n",
       "14052.000       Champions       542\n",
       "14093.000       Champions       542\n",
       "14954.000       Champions       542\n",
       "...                   ...       ...\n",
       "18223.000       Champions       555\n",
       "18225.000       Champions       555\n",
       "18229.000       Champions       555\n",
       "18245.000       Champions       555\n",
       "18272.000       Champions       555\n",
       "\n",
       "[840 rows x 2 columns]"
      ]
     },
     "execution_count": 531,
     "metadata": {},
     "output_type": "execute_result"
    }
   ],
   "source": [
    "rfm_filtered.sort_values([\"Segment_Label\", \"RFM_SCORE\"], ascending=True)"
   ]
  },
  {
   "cell_type": "code",
   "execution_count": 532,
   "id": "ce6cc1fe714f0ccc",
   "metadata": {
    "ExecuteTime": {
     "end_time": "2024-08-30T13:26:15.219146Z",
     "start_time": "2024-08-30T13:26:15.138845Z"
    },
    "collapsed": false,
    "jupyter": {
     "outputs_hidden": false
    }
   },
   "outputs": [
    {
     "data": {
      "text/plain": [
       "RFM_SCORE\n",
       "555   0.512\n",
       "544   0.164\n",
       "554   0.112\n",
       "545   0.089\n",
       "543   0.069\n",
       "553   0.030\n",
       "542   0.024\n",
       "Name: proportion, dtype: float64"
      ]
     },
     "execution_count": 532,
     "metadata": {},
     "output_type": "execute_result"
    }
   ],
   "source": [
    "rfm_filtered[\"RFM_SCORE\"].value_counts(1)"
   ]
  },
  {
   "cell_type": "code",
   "execution_count": 533,
   "id": "41c2c5b0-6a02-476b-a512-dc30d01cebca",
   "metadata": {},
   "outputs": [
    {
     "data": {
      "text/html": [
       "<div>\n",
       "<style scoped>\n",
       "    .dataframe tbody tr th:only-of-type {\n",
       "        vertical-align: middle;\n",
       "    }\n",
       "\n",
       "    .dataframe tbody tr th {\n",
       "        vertical-align: top;\n",
       "    }\n",
       "\n",
       "    .dataframe thead th {\n",
       "        text-align: right;\n",
       "    }\n",
       "</style>\n",
       "<table border=\"1\" class=\"dataframe\">\n",
       "  <thead>\n",
       "    <tr style=\"text-align: right;\">\n",
       "      <th></th>\n",
       "      <th>Count</th>\n",
       "      <th>Ratio</th>\n",
       "    </tr>\n",
       "    <tr>\n",
       "      <th>RFM_SCORE</th>\n",
       "      <th></th>\n",
       "      <th></th>\n",
       "    </tr>\n",
       "  </thead>\n",
       "  <tbody>\n",
       "    <tr>\n",
       "      <th>555</th>\n",
       "      <td>430</td>\n",
       "      <td>0.512</td>\n",
       "    </tr>\n",
       "    <tr>\n",
       "      <th>544</th>\n",
       "      <td>138</td>\n",
       "      <td>0.164</td>\n",
       "    </tr>\n",
       "    <tr>\n",
       "      <th>554</th>\n",
       "      <td>94</td>\n",
       "      <td>0.112</td>\n",
       "    </tr>\n",
       "    <tr>\n",
       "      <th>545</th>\n",
       "      <td>75</td>\n",
       "      <td>0.089</td>\n",
       "    </tr>\n",
       "    <tr>\n",
       "      <th>543</th>\n",
       "      <td>58</td>\n",
       "      <td>0.069</td>\n",
       "    </tr>\n",
       "    <tr>\n",
       "      <th>553</th>\n",
       "      <td>25</td>\n",
       "      <td>0.030</td>\n",
       "    </tr>\n",
       "    <tr>\n",
       "      <th>542</th>\n",
       "      <td>20</td>\n",
       "      <td>0.024</td>\n",
       "    </tr>\n",
       "  </tbody>\n",
       "</table>\n",
       "</div>"
      ],
      "text/plain": [
       "           Count  Ratio\n",
       "RFM_SCORE              \n",
       "555          430  0.512\n",
       "544          138  0.164\n",
       "554           94  0.112\n",
       "545           75  0.089\n",
       "543           58  0.069\n",
       "553           25  0.030\n",
       "542           20  0.024"
      ]
     },
     "execution_count": 533,
     "metadata": {},
     "output_type": "execute_result"
    }
   ],
   "source": [
    "counts = rfm_filtered[\"RFM_SCORE\"].value_counts(0)  # Kategori sayıları\n",
    "ratios = rfm_filtered[\"RFM_SCORE\"].value_counts(1)  # Kategori oranları\n",
    "\n",
    "# İkisini bir DataFrame'e dönüştürme\n",
    "result = pd.DataFrame({\"Count\": counts, \"Ratio\": ratios})\n",
    "result"
   ]
  },
  {
   "cell_type": "markdown",
   "id": "f79bd682ac085b57",
   "metadata": {
    "collapsed": false,
    "jupyter": {
     "outputs_hidden": false
    }
   },
   "source": [
    "# Cluster"
   ]
  },
  {
   "cell_type": "code",
   "execution_count": 535,
   "id": "5227e5a4-888e-4d87-8d36-df26b32d6a7d",
   "metadata": {},
   "outputs": [
    {
     "name": "stdout",
     "output_type": "stream",
     "text": [
      "Requirement already satisfied: yellowbrick in /opt/anaconda3/lib/python3.12/site-packages (1.5)\n",
      "Requirement already satisfied: matplotlib!=3.0.0,>=2.0.2 in /opt/anaconda3/lib/python3.12/site-packages (from yellowbrick) (3.8.4)\n",
      "Requirement already satisfied: scipy>=1.0.0 in /opt/anaconda3/lib/python3.12/site-packages (from yellowbrick) (1.13.1)\n",
      "Requirement already satisfied: scikit-learn>=1.0.0 in /opt/anaconda3/lib/python3.12/site-packages (from yellowbrick) (1.4.2)\n",
      "Requirement already satisfied: numpy>=1.16.0 in /opt/anaconda3/lib/python3.12/site-packages (from yellowbrick) (1.26.4)\n",
      "Requirement already satisfied: cycler>=0.10.0 in /opt/anaconda3/lib/python3.12/site-packages (from yellowbrick) (0.11.0)\n",
      "Requirement already satisfied: contourpy>=1.0.1 in /opt/anaconda3/lib/python3.12/site-packages (from matplotlib!=3.0.0,>=2.0.2->yellowbrick) (1.2.0)\n",
      "Requirement already satisfied: fonttools>=4.22.0 in /opt/anaconda3/lib/python3.12/site-packages (from matplotlib!=3.0.0,>=2.0.2->yellowbrick) (4.51.0)\n",
      "Requirement already satisfied: kiwisolver>=1.3.1 in /opt/anaconda3/lib/python3.12/site-packages (from matplotlib!=3.0.0,>=2.0.2->yellowbrick) (1.4.4)\n",
      "Requirement already satisfied: packaging>=20.0 in /opt/anaconda3/lib/python3.12/site-packages (from matplotlib!=3.0.0,>=2.0.2->yellowbrick) (23.2)\n",
      "Requirement already satisfied: pillow>=8 in /opt/anaconda3/lib/python3.12/site-packages (from matplotlib!=3.0.0,>=2.0.2->yellowbrick) (10.3.0)\n",
      "Requirement already satisfied: pyparsing>=2.3.1 in /opt/anaconda3/lib/python3.12/site-packages (from matplotlib!=3.0.0,>=2.0.2->yellowbrick) (3.0.9)\n",
      "Requirement already satisfied: python-dateutil>=2.7 in /opt/anaconda3/lib/python3.12/site-packages (from matplotlib!=3.0.0,>=2.0.2->yellowbrick) (2.9.0.post0)\n",
      "Requirement already satisfied: joblib>=1.2.0 in /opt/anaconda3/lib/python3.12/site-packages (from scikit-learn>=1.0.0->yellowbrick) (1.4.2)\n",
      "Requirement already satisfied: threadpoolctl>=2.0.0 in /opt/anaconda3/lib/python3.12/site-packages (from scikit-learn>=1.0.0->yellowbrick) (2.2.0)\n",
      "Requirement already satisfied: six>=1.5 in /opt/anaconda3/lib/python3.12/site-packages (from python-dateutil>=2.7->matplotlib!=3.0.0,>=2.0.2->yellowbrick) (1.16.0)\n"
     ]
    }
   ],
   "source": [
    "!pip install yellowbrick"
   ]
  },
  {
   "cell_type": "code",
   "execution_count": 536,
   "id": "d32559205c37c9f4",
   "metadata": {
    "ExecuteTime": {
     "end_time": "2024-08-30T18:48:30.204374Z",
     "start_time": "2024-08-30T18:48:30.101623Z"
    },
    "collapsed": false,
    "jupyter": {
     "outputs_hidden": false
    }
   },
   "outputs": [],
   "source": [
    "import pandas as pd\n",
    "import argparse\n",
    "import datetime as dt\n",
    "import matplotlib.pyplot as plt\n",
    "import seaborn as sns\n",
    "\n",
    "\n",
    "from sklearn.cluster import KMeans\n",
    "from sklearn.preprocessing import MinMaxScaler\n",
    "from yellowbrick.cluster import KElbowVisualizer\n",
    "from yellowbrick.cluster import SilhouetteVisualizer\n",
    "\n",
    "\n",
    "import warnings\n",
    "warnings.simplefilter(action='ignore', category=FutureWarning)\n",
    "#warnings.simplefilter(action=\"ignore\", category=SettingWithCopyWarning)"
   ]
  },
  {
   "cell_type": "code",
   "execution_count": 537,
   "id": "b85593eba647aadc",
   "metadata": {
    "ExecuteTime": {
     "end_time": "2024-08-30T13:27:26.816740Z",
     "start_time": "2024-08-30T13:27:26.736902Z"
    },
    "collapsed": false,
    "jupyter": {
     "outputs_hidden": false
    }
   },
   "outputs": [
    {
     "data": {
      "text/html": [
       "<div>\n",
       "<style scoped>\n",
       "    .dataframe tbody tr th:only-of-type {\n",
       "        vertical-align: middle;\n",
       "    }\n",
       "\n",
       "    .dataframe tbody tr th {\n",
       "        vertical-align: top;\n",
       "    }\n",
       "\n",
       "    .dataframe thead th {\n",
       "        text-align: right;\n",
       "    }\n",
       "</style>\n",
       "<table border=\"1\" class=\"dataframe\">\n",
       "  <thead>\n",
       "    <tr style=\"text-align: right;\">\n",
       "      <th></th>\n",
       "      <th>Recency</th>\n",
       "      <th>Tenure</th>\n",
       "      <th>Frequency</th>\n",
       "      <th>Monetary</th>\n",
       "      <th>BasketSize</th>\n",
       "      <th>RecencyScore</th>\n",
       "      <th>FrequencyScore</th>\n",
       "      <th>MonetaryScore</th>\n",
       "      <th>TenureScore</th>\n",
       "      <th>RFM_SCORE</th>\n",
       "      <th>Segment</th>\n",
       "      <th>Segment_Label</th>\n",
       "    </tr>\n",
       "    <tr>\n",
       "      <th>Customer ID</th>\n",
       "      <th></th>\n",
       "      <th></th>\n",
       "      <th></th>\n",
       "      <th></th>\n",
       "      <th></th>\n",
       "      <th></th>\n",
       "      <th></th>\n",
       "      <th></th>\n",
       "      <th></th>\n",
       "      <th></th>\n",
       "      <th></th>\n",
       "      <th></th>\n",
       "    </tr>\n",
       "  </thead>\n",
       "  <tbody>\n",
       "    <tr>\n",
       "      <th>12346.000</th>\n",
       "      <td>326</td>\n",
       "      <td>726</td>\n",
       "      <td>34</td>\n",
       "      <td>77556.460</td>\n",
       "      <td>2281.072</td>\n",
       "      <td>2</td>\n",
       "      <td>2</td>\n",
       "      <td>5</td>\n",
       "      <td>5</td>\n",
       "      <td>225</td>\n",
       "      <td>22</td>\n",
       "      <td>Hibernating</td>\n",
       "    </tr>\n",
       "    <tr>\n",
       "      <th>12347.000</th>\n",
       "      <td>3</td>\n",
       "      <td>405</td>\n",
       "      <td>222</td>\n",
       "      <td>4921.530</td>\n",
       "      <td>22.169</td>\n",
       "      <td>5</td>\n",
       "      <td>5</td>\n",
       "      <td>5</td>\n",
       "      <td>2</td>\n",
       "      <td>555</td>\n",
       "      <td>55</td>\n",
       "      <td>Champions</td>\n",
       "    </tr>\n",
       "    <tr>\n",
       "      <th>12348.000</th>\n",
       "      <td>76</td>\n",
       "      <td>439</td>\n",
       "      <td>51</td>\n",
       "      <td>2019.400</td>\n",
       "      <td>39.596</td>\n",
       "      <td>3</td>\n",
       "      <td>3</td>\n",
       "      <td>4</td>\n",
       "      <td>3</td>\n",
       "      <td>334</td>\n",
       "      <td>33</td>\n",
       "      <td>Need_Attention</td>\n",
       "    </tr>\n",
       "    <tr>\n",
       "      <th>12349.000</th>\n",
       "      <td>19</td>\n",
       "      <td>590</td>\n",
       "      <td>175</td>\n",
       "      <td>4428.690</td>\n",
       "      <td>25.307</td>\n",
       "      <td>5</td>\n",
       "      <td>5</td>\n",
       "      <td>5</td>\n",
       "      <td>3</td>\n",
       "      <td>555</td>\n",
       "      <td>55</td>\n",
       "      <td>Champions</td>\n",
       "    </tr>\n",
       "    <tr>\n",
       "      <th>12350.000</th>\n",
       "      <td>311</td>\n",
       "      <td>311</td>\n",
       "      <td>17</td>\n",
       "      <td>334.400</td>\n",
       "      <td>19.671</td>\n",
       "      <td>2</td>\n",
       "      <td>2</td>\n",
       "      <td>2</td>\n",
       "      <td>2</td>\n",
       "      <td>222</td>\n",
       "      <td>22</td>\n",
       "      <td>Hibernating</td>\n",
       "    </tr>\n",
       "  </tbody>\n",
       "</table>\n",
       "</div>"
      ],
      "text/plain": [
       "             Recency  Tenure  Frequency  Monetary  BasketSize RecencyScore FrequencyScore MonetaryScore TenureScore RFM_SCORE Segment   Segment_Label\n",
       "Customer ID                                                                                                                                          \n",
       "12346.000        326     726         34 77556.460    2281.072            2              2             5           5       225      22     Hibernating\n",
       "12347.000          3     405        222  4921.530      22.169            5              5             5           2       555      55       Champions\n",
       "12348.000         76     439         51  2019.400      39.596            3              3             4           3       334      33  Need_Attention\n",
       "12349.000         19     590        175  4428.690      25.307            5              5             5           3       555      55       Champions\n",
       "12350.000        311     311         17   334.400      19.671            2              2             2           2       222      22     Hibernating"
      ]
     },
     "execution_count": 537,
     "metadata": {},
     "output_type": "execute_result"
    }
   ],
   "source": [
    "rfm_backup = rfm.copy()\n",
    "rfm_backup.head()"
   ]
  },
  {
   "cell_type": "code",
   "execution_count": 538,
   "id": "e100f44cae053b45",
   "metadata": {
    "collapsed": false,
    "jupyter": {
     "outputs_hidden": false
    }
   },
   "outputs": [],
   "source": [
    "rfm = rfm_backup.copy()\n",
    "rfm = rfm.reset_index()"
   ]
  },
  {
   "cell_type": "code",
   "execution_count": 539,
   "id": "dbf7c072-e760-4281-b5db-e57843ce1a25",
   "metadata": {},
   "outputs": [
    {
     "data": {
      "text/html": [
       "<div>\n",
       "<style scoped>\n",
       "    .dataframe tbody tr th:only-of-type {\n",
       "        vertical-align: middle;\n",
       "    }\n",
       "\n",
       "    .dataframe tbody tr th {\n",
       "        vertical-align: top;\n",
       "    }\n",
       "\n",
       "    .dataframe thead th {\n",
       "        text-align: right;\n",
       "    }\n",
       "</style>\n",
       "<table border=\"1\" class=\"dataframe\">\n",
       "  <thead>\n",
       "    <tr style=\"text-align: right;\">\n",
       "      <th></th>\n",
       "      <th>Customer ID</th>\n",
       "      <th>Recency</th>\n",
       "      <th>Tenure</th>\n",
       "      <th>Frequency</th>\n",
       "      <th>Monetary</th>\n",
       "      <th>BasketSize</th>\n",
       "      <th>RecencyScore</th>\n",
       "      <th>FrequencyScore</th>\n",
       "      <th>MonetaryScore</th>\n",
       "      <th>TenureScore</th>\n",
       "      <th>RFM_SCORE</th>\n",
       "      <th>Segment</th>\n",
       "      <th>Segment_Label</th>\n",
       "    </tr>\n",
       "  </thead>\n",
       "  <tbody>\n",
       "    <tr>\n",
       "      <th>0</th>\n",
       "      <td>12346.000</td>\n",
       "      <td>326</td>\n",
       "      <td>726</td>\n",
       "      <td>34</td>\n",
       "      <td>77556.460</td>\n",
       "      <td>2281.072</td>\n",
       "      <td>2</td>\n",
       "      <td>2</td>\n",
       "      <td>5</td>\n",
       "      <td>5</td>\n",
       "      <td>225</td>\n",
       "      <td>22</td>\n",
       "      <td>Hibernating</td>\n",
       "    </tr>\n",
       "    <tr>\n",
       "      <th>1</th>\n",
       "      <td>12347.000</td>\n",
       "      <td>3</td>\n",
       "      <td>405</td>\n",
       "      <td>222</td>\n",
       "      <td>4921.530</td>\n",
       "      <td>22.169</td>\n",
       "      <td>5</td>\n",
       "      <td>5</td>\n",
       "      <td>5</td>\n",
       "      <td>2</td>\n",
       "      <td>555</td>\n",
       "      <td>55</td>\n",
       "      <td>Champions</td>\n",
       "    </tr>\n",
       "    <tr>\n",
       "      <th>2</th>\n",
       "      <td>12348.000</td>\n",
       "      <td>76</td>\n",
       "      <td>439</td>\n",
       "      <td>51</td>\n",
       "      <td>2019.400</td>\n",
       "      <td>39.596</td>\n",
       "      <td>3</td>\n",
       "      <td>3</td>\n",
       "      <td>4</td>\n",
       "      <td>3</td>\n",
       "      <td>334</td>\n",
       "      <td>33</td>\n",
       "      <td>Need_Attention</td>\n",
       "    </tr>\n",
       "    <tr>\n",
       "      <th>3</th>\n",
       "      <td>12349.000</td>\n",
       "      <td>19</td>\n",
       "      <td>590</td>\n",
       "      <td>175</td>\n",
       "      <td>4428.690</td>\n",
       "      <td>25.307</td>\n",
       "      <td>5</td>\n",
       "      <td>5</td>\n",
       "      <td>5</td>\n",
       "      <td>3</td>\n",
       "      <td>555</td>\n",
       "      <td>55</td>\n",
       "      <td>Champions</td>\n",
       "    </tr>\n",
       "    <tr>\n",
       "      <th>4</th>\n",
       "      <td>12350.000</td>\n",
       "      <td>311</td>\n",
       "      <td>311</td>\n",
       "      <td>17</td>\n",
       "      <td>334.400</td>\n",
       "      <td>19.671</td>\n",
       "      <td>2</td>\n",
       "      <td>2</td>\n",
       "      <td>2</td>\n",
       "      <td>2</td>\n",
       "      <td>222</td>\n",
       "      <td>22</td>\n",
       "      <td>Hibernating</td>\n",
       "    </tr>\n",
       "  </tbody>\n",
       "</table>\n",
       "</div>"
      ],
      "text/plain": [
       "   Customer ID  Recency  Tenure  Frequency  Monetary  BasketSize RecencyScore FrequencyScore MonetaryScore TenureScore RFM_SCORE Segment   Segment_Label\n",
       "0    12346.000      326     726         34 77556.460    2281.072            2              2             5           5       225      22     Hibernating\n",
       "1    12347.000        3     405        222  4921.530      22.169            5              5             5           2       555      55       Champions\n",
       "2    12348.000       76     439         51  2019.400      39.596            3              3             4           3       334      33  Need_Attention\n",
       "3    12349.000       19     590        175  4428.690      25.307            5              5             5           3       555      55       Champions\n",
       "4    12350.000      311     311         17   334.400      19.671            2              2             2           2       222      22     Hibernating"
      ]
     },
     "execution_count": 539,
     "metadata": {},
     "output_type": "execute_result"
    }
   ],
   "source": [
    "rfm.head()"
   ]
  },
  {
   "cell_type": "code",
   "execution_count": 540,
   "id": "d150bdbe-b138-4c55-a48a-7c4054905390",
   "metadata": {},
   "outputs": [],
   "source": [
    "# rfm_set = rfm.set_index(\"Customer ID\")\n",
    "# rfm_set.head()"
   ]
  },
  {
   "cell_type": "code",
   "execution_count": 541,
   "id": "9db3643661688f9b",
   "metadata": {
    "ExecuteTime": {
     "end_time": "2024-08-30T18:41:59.251437Z",
     "start_time": "2024-08-30T18:41:59.144797Z"
    },
    "collapsed": false,
    "jupyter": {
     "outputs_hidden": false
    }
   },
   "outputs": [
    {
     "data": {
      "text/html": [
       "<div>\n",
       "<style scoped>\n",
       "    .dataframe tbody tr th:only-of-type {\n",
       "        vertical-align: middle;\n",
       "    }\n",
       "\n",
       "    .dataframe tbody tr th {\n",
       "        vertical-align: top;\n",
       "    }\n",
       "\n",
       "    .dataframe thead th {\n",
       "        text-align: right;\n",
       "    }\n",
       "</style>\n",
       "<table border=\"1\" class=\"dataframe\">\n",
       "  <thead>\n",
       "    <tr style=\"text-align: right;\">\n",
       "      <th></th>\n",
       "      <th>RecencyScore</th>\n",
       "      <th>FrequencyScore</th>\n",
       "      <th>MonetaryScore</th>\n",
       "      <th>TenureScore</th>\n",
       "    </tr>\n",
       "  </thead>\n",
       "  <tbody>\n",
       "    <tr>\n",
       "      <th>0</th>\n",
       "      <td>2</td>\n",
       "      <td>2</td>\n",
       "      <td>5</td>\n",
       "      <td>5</td>\n",
       "    </tr>\n",
       "    <tr>\n",
       "      <th>1</th>\n",
       "      <td>5</td>\n",
       "      <td>5</td>\n",
       "      <td>5</td>\n",
       "      <td>2</td>\n",
       "    </tr>\n",
       "    <tr>\n",
       "      <th>2</th>\n",
       "      <td>3</td>\n",
       "      <td>3</td>\n",
       "      <td>4</td>\n",
       "      <td>3</td>\n",
       "    </tr>\n",
       "    <tr>\n",
       "      <th>3</th>\n",
       "      <td>5</td>\n",
       "      <td>5</td>\n",
       "      <td>5</td>\n",
       "      <td>3</td>\n",
       "    </tr>\n",
       "    <tr>\n",
       "      <th>4</th>\n",
       "      <td>2</td>\n",
       "      <td>2</td>\n",
       "      <td>2</td>\n",
       "      <td>2</td>\n",
       "    </tr>\n",
       "  </tbody>\n",
       "</table>\n",
       "</div>"
      ],
      "text/plain": [
       "  RecencyScore FrequencyScore MonetaryScore TenureScore\n",
       "0            2              2             5           5\n",
       "1            5              5             5           2\n",
       "2            3              3             4           3\n",
       "3            5              5             5           3\n",
       "4            2              2             2           2"
      ]
     },
     "execution_count": 541,
     "metadata": {},
     "output_type": "execute_result"
    }
   ],
   "source": [
    "segment_data = rfm[[\"RecencyScore\", \"FrequencyScore\", \"MonetaryScore\", \"TenureScore\"]]\n",
    "segment_data.head()"
   ]
  },
  {
   "cell_type": "code",
   "execution_count": 542,
   "id": "f9f7cd29f5cd3859",
   "metadata": {
    "ExecuteTime": {
     "end_time": "2024-08-30T17:14:39.509558Z",
     "start_time": "2024-08-30T17:14:39.417362Z"
    },
    "collapsed": false,
    "jupyter": {
     "outputs_hidden": false
    }
   },
   "outputs": [
    {
     "data": {
      "text/plain": [
       "RangeIndex(start=0, stop=5878, step=1)"
      ]
     },
     "execution_count": 542,
     "metadata": {},
     "output_type": "execute_result"
    }
   ],
   "source": [
    "segment_data.index"
   ]
  },
  {
   "cell_type": "code",
   "execution_count": 543,
   "id": "3a41e346314c666f",
   "metadata": {
    "ExecuteTime": {
     "start_time": "2024-08-30T18:42:05.563614Z"
    },
    "collapsed": false,
    "jupyter": {
     "outputs_hidden": false
    }
   },
   "outputs": [
    {
     "name": "stdout",
     "output_type": "stream",
     "text": [
      "<class 'pandas.core.frame.DataFrame'>\n",
      "RangeIndex: 5878 entries, 0 to 5877\n",
      "Data columns (total 4 columns):\n",
      " #   Column          Non-Null Count  Dtype   \n",
      "---  ------          --------------  -----   \n",
      " 0   RecencyScore    5878 non-null   category\n",
      " 1   FrequencyScore  5878 non-null   category\n",
      " 2   MonetaryScore   5878 non-null   category\n",
      " 3   TenureScore     5878 non-null   category\n",
      "dtypes: category(4)\n",
      "memory usage: 23.9 KB\n"
     ]
    }
   ],
   "source": [
    "segment_data.info()"
   ]
  },
  {
   "cell_type": "code",
   "execution_count": 544,
   "id": "f154993a-7197-425e-9c3a-ceb4673819ab",
   "metadata": {},
   "outputs": [],
   "source": [
    "# [segment_data[col].astype(int) for col in segment_data.columns if segment_data[col].dtype.name == \"category\"]\n",
    "\n",
    "segment_data = segment_data.apply(lambda col: col.astype(int) if col.dtype.name == \"category\" else col)"
   ]
  },
  {
   "cell_type": "code",
   "execution_count": 545,
   "id": "7d16691b9a8e919f",
   "metadata": {
    "ExecuteTime": {
     "end_time": "2024-08-30T18:43:17.918621Z",
     "start_time": "2024-08-30T18:43:17.809128Z"
    },
    "collapsed": false,
    "jupyter": {
     "outputs_hidden": false
    }
   },
   "outputs": [
    {
     "name": "stdout",
     "output_type": "stream",
     "text": [
      "<class 'pandas.core.frame.DataFrame'>\n",
      "RangeIndex: 5878 entries, 0 to 5877\n",
      "Data columns (total 4 columns):\n",
      " #   Column          Non-Null Count  Dtype\n",
      "---  ------          --------------  -----\n",
      " 0   RecencyScore    5878 non-null   int64\n",
      " 1   FrequencyScore  5878 non-null   int64\n",
      " 2   MonetaryScore   5878 non-null   int64\n",
      " 3   TenureScore     5878 non-null   int64\n",
      "dtypes: int64(4)\n",
      "memory usage: 183.8 KB\n"
     ]
    }
   ],
   "source": [
    "segment_data.info()"
   ]
  },
  {
   "cell_type": "markdown",
   "id": "e983d1d0-7b46-4b6b-84f1-b1f8f6a3053b",
   "metadata": {},
   "source": [
    "# Clustering Level"
   ]
  },
  {
   "cell_type": "code",
   "execution_count": 547,
   "id": "e179257ae68cfb21",
   "metadata": {
    "ExecuteTime": {
     "end_time": "2024-08-30T18:44:22.671338Z",
     "start_time": "2024-08-30T18:44:22.592651Z"
    },
    "collapsed": false,
    "jupyter": {
     "outputs_hidden": false
    }
   },
   "outputs": [],
   "source": [
    "K = range(2, 12)"
   ]
  },
  {
   "cell_type": "code",
   "execution_count": 548,
   "id": "8edc5fa65a96edd5",
   "metadata": {
    "ExecuteTime": {
     "end_time": "2024-08-30T13:32:05.726305Z",
     "start_time": "2024-08-30T13:32:05.677801Z"
    },
    "collapsed": false,
    "jupyter": {
     "outputs_hidden": false
    }
   },
   "outputs": [],
   "source": [
    "# for i in K:\n",
    "#     print(i)"
   ]
  },
  {
   "cell_type": "code",
   "execution_count": 549,
   "id": "b5c8c83b137d06cd",
   "metadata": {
    "ExecuteTime": {
     "end_time": "2024-08-30T18:45:12.614157Z",
     "start_time": "2024-08-30T18:45:11.928818Z"
    },
    "collapsed": false,
    "jupyter": {
     "outputs_hidden": false
    }
   },
   "outputs": [],
   "source": [
    "# 4 küme ile bir deneme yapıyoruz\n",
    "kmeans = KMeans(n_clusters=4).fit(segment_data)"
   ]
  },
  {
   "cell_type": "code",
   "execution_count": 550,
   "id": "d1ff0c959559a6c5",
   "metadata": {
    "ExecuteTime": {
     "end_time": "2024-08-30T18:45:57.467754Z",
     "start_time": "2024-08-30T18:45:57.386156Z"
    },
    "collapsed": false,
    "jupyter": {
     "outputs_hidden": false
    }
   },
   "outputs": [
    {
     "name": "stdout",
     "output_type": "stream",
     "text": [
      "16720.765143271266\n"
     ]
    }
   ],
   "source": [
    "print(kmeans.inertia_)"
   ]
  },
  {
   "cell_type": "code",
   "execution_count": 551,
   "id": "ee715683241bcc9f",
   "metadata": {
    "ExecuteTime": {
     "end_time": "2024-08-30T18:46:43.079824Z",
     "start_time": "2024-08-30T18:46:38.767734Z"
    },
    "collapsed": false,
    "jupyter": {
     "outputs_hidden": false
    }
   },
   "outputs": [
    {
     "name": "stdout",
     "output_type": "stream",
     "text": [
      "26775.094380159226\n",
      "20110.54627061705\n",
      "16721.650166157186\n",
      "13711.606096504865\n",
      "12694.539843317314\n",
      "11540.731535747105\n",
      "10484.703250107934\n",
      "10176.92134287225\n",
      "9420.387891393166\n",
      "8948.85966232677\n"
     ]
    },
    {
     "data": {
      "image/png": "[encoded data removed]",
      "text/plain": [
       "<Figure size 800x550 with 1 Axes>"
      ]
     },
     "metadata": {},
     "output_type": "display_data"
    }
   ],
   "source": [
    "#kmeans = KMeans()\n",
    "ssd = []\n",
    "K = range(2, 12)\n",
    "\n",
    "for k in K:\n",
    "    kmeans = KMeans(n_clusters=k).fit(segment_data)\n",
    "    print(kmeans.inertia_)\n",
    "    ssd.append(kmeans.inertia_)\n",
    "    \n",
    "    \n",
    "plt.plot(K, ssd, \"bx-\")\n",
    "plt.xlabel(\"Residuals Distance\")\n",
    "plt.title(\"Optimum Number of Clusters\")\n",
    "plt.show()    \n",
    "\n",
    "#Inertia measures how well a dataset was clustered by K-Means. \n",
    "#It is calculated by measuring the distance between each data point and its centroid, \n",
    "#squaring this distance, and summing these squares across one cluster. "
   ]
  },
  {
   "cell_type": "code",
   "execution_count": 552,
   "id": "589b569cdeef1746",
   "metadata": {
    "ExecuteTime": {
     "end_time": "2024-08-30T18:50:01.550397Z",
     "start_time": "2024-08-30T18:49:56.838810Z"
    },
    "collapsed": false,
    "jupyter": {
     "outputs_hidden": false
    }
   },
   "outputs": [
    {
     "data": {
      "image/png": "[encoded data removed]",
      "text/plain": [
       "<Figure size 800x550 with 2 Axes>"
      ]
     },
     "metadata": {},
     "output_type": "display_data"
    }
   ],
   "source": [
    "kmeans = KMeans(n_clusters=k, random_state=19).fit(segment_data)\n",
    "elbow = KElbowVisualizer(kmeans, k=(2, 20))\n",
    "elbow.fit(segment_data)\n",
    "elbow.show();"
   ]
  },
  {
   "cell_type": "code",
   "execution_count": 553,
   "id": "20ba419267251839",
   "metadata": {
    "ExecuteTime": {
     "end_time": "2024-08-30T18:50:47.592253Z",
     "start_time": "2024-08-30T18:50:46.893509Z"
    },
    "collapsed": false,
    "jupyter": {
     "outputs_hidden": false
    }
   },
   "outputs": [],
   "source": [
    "kmeans = KMeans(n_clusters=7).fit(segment_data)"
   ]
  },
  {
   "cell_type": "code",
   "execution_count": 554,
   "id": "96bb968f472646c0",
   "metadata": {
    "ExecuteTime": {
     "end_time": "2024-08-30T18:51:02.143052Z",
     "start_time": "2024-08-30T18:51:02.039242Z"
    },
    "collapsed": false,
    "jupyter": {
     "outputs_hidden": false
    }
   },
   "outputs": [
    {
     "data": {
      "text/plain": [
       "array([3, 5, 3, ..., 2, 3, 5], dtype=int32)"
      ]
     },
     "execution_count": 554,
     "metadata": {},
     "output_type": "execute_result"
    }
   ],
   "source": [
    "kmeans.labels_"
   ]
  },
  {
   "cell_type": "code",
   "execution_count": 555,
   "id": "9eb9e42357bdbbb8",
   "metadata": {
    "ExecuteTime": {
     "end_time": "2024-08-30T18:51:56.918058Z",
     "start_time": "2024-08-30T18:51:56.767829Z"
    },
    "collapsed": false,
    "jupyter": {
     "outputs_hidden": false
    }
   },
   "outputs": [
    {
     "data": {
      "text/html": [
       "<div>\n",
       "<style scoped>\n",
       "    .dataframe tbody tr th:only-of-type {\n",
       "        vertical-align: middle;\n",
       "    }\n",
       "\n",
       "    .dataframe tbody tr th {\n",
       "        vertical-align: top;\n",
       "    }\n",
       "\n",
       "    .dataframe thead th {\n",
       "        text-align: right;\n",
       "    }\n",
       "</style>\n",
       "<table border=\"1\" class=\"dataframe\">\n",
       "  <thead>\n",
       "    <tr style=\"text-align: right;\">\n",
       "      <th></th>\n",
       "      <th>RecencyScore</th>\n",
       "      <th>FrequencyScore</th>\n",
       "      <th>MonetaryScore</th>\n",
       "      <th>TenureScore</th>\n",
       "      <th>clusters</th>\n",
       "    </tr>\n",
       "  </thead>\n",
       "  <tbody>\n",
       "    <tr>\n",
       "      <th>0</th>\n",
       "      <td>2</td>\n",
       "      <td>2</td>\n",
       "      <td>5</td>\n",
       "      <td>5</td>\n",
       "      <td>3</td>\n",
       "    </tr>\n",
       "    <tr>\n",
       "      <th>1</th>\n",
       "      <td>5</td>\n",
       "      <td>5</td>\n",
       "      <td>5</td>\n",
       "      <td>2</td>\n",
       "      <td>5</td>\n",
       "    </tr>\n",
       "    <tr>\n",
       "      <th>2</th>\n",
       "      <td>3</td>\n",
       "      <td>3</td>\n",
       "      <td>4</td>\n",
       "      <td>3</td>\n",
       "      <td>3</td>\n",
       "    </tr>\n",
       "    <tr>\n",
       "      <th>3</th>\n",
       "      <td>5</td>\n",
       "      <td>5</td>\n",
       "      <td>5</td>\n",
       "      <td>3</td>\n",
       "      <td>5</td>\n",
       "    </tr>\n",
       "    <tr>\n",
       "      <th>4</th>\n",
       "      <td>2</td>\n",
       "      <td>2</td>\n",
       "      <td>2</td>\n",
       "      <td>2</td>\n",
       "      <td>6</td>\n",
       "    </tr>\n",
       "  </tbody>\n",
       "</table>\n",
       "</div>"
      ],
      "text/plain": [
       "   RecencyScore  FrequencyScore  MonetaryScore  TenureScore  clusters\n",
       "0             2               2              5            5         3\n",
       "1             5               5              5            2         5\n",
       "2             3               3              4            3         3\n",
       "3             5               5              5            3         5\n",
       "4             2               2              2            2         6"
      ]
     },
     "execution_count": 555,
     "metadata": {},
     "output_type": "execute_result"
    }
   ],
   "source": [
    "segment_data[\"clusters\"] = kmeans.labels_\n",
    "segment_data.head()"
   ]
  },
  {
   "cell_type": "code",
   "execution_count": 556,
   "id": "493c1cfbd735bb6e",
   "metadata": {
    "ExecuteTime": {
     "end_time": "2024-08-30T18:52:38.821887Z",
     "start_time": "2024-08-30T18:52:38.709831Z"
    },
    "collapsed": false,
    "jupyter": {
     "outputs_hidden": false
    }
   },
   "outputs": [
    {
     "data": {
      "text/plain": [
       "clusters\n",
       "0    995\n",
       "3    975\n",
       "1    850\n",
       "6    782\n",
       "4    779\n",
       "2    755\n",
       "5    742\n",
       "Name: count, dtype: int64"
      ]
     },
     "execution_count": 556,
     "metadata": {},
     "output_type": "execute_result"
    }
   ],
   "source": [
    "segment_data[\"clusters\"].value_counts()"
   ]
  },
  {
   "cell_type": "code",
   "execution_count": 557,
   "id": "494019ba1f109737",
   "metadata": {
    "ExecuteTime": {
     "end_time": "2024-08-30T18:55:32.801938Z",
     "start_time": "2024-08-30T18:55:32.642992Z"
    },
    "collapsed": false,
    "jupyter": {
     "outputs_hidden": false
    }
   },
   "outputs": [],
   "source": [
    "segmentation = rfm.join(segment_data[['clusters']])"
   ]
  },
  {
   "cell_type": "code",
   "execution_count": 558,
   "id": "197b6f73-97e7-4701-b792-b7da09ba7620",
   "metadata": {},
   "outputs": [
    {
     "data": {
      "text/html": [
       "<div>\n",
       "<style scoped>\n",
       "    .dataframe tbody tr th:only-of-type {\n",
       "        vertical-align: middle;\n",
       "    }\n",
       "\n",
       "    .dataframe tbody tr th {\n",
       "        vertical-align: top;\n",
       "    }\n",
       "\n",
       "    .dataframe thead th {\n",
       "        text-align: right;\n",
       "    }\n",
       "</style>\n",
       "<table border=\"1\" class=\"dataframe\">\n",
       "  <thead>\n",
       "    <tr style=\"text-align: right;\">\n",
       "      <th></th>\n",
       "      <th>Customer ID</th>\n",
       "      <th>Recency</th>\n",
       "      <th>Tenure</th>\n",
       "      <th>Frequency</th>\n",
       "      <th>Monetary</th>\n",
       "      <th>BasketSize</th>\n",
       "      <th>RecencyScore</th>\n",
       "      <th>FrequencyScore</th>\n",
       "      <th>MonetaryScore</th>\n",
       "      <th>TenureScore</th>\n",
       "      <th>RFM_SCORE</th>\n",
       "      <th>Segment</th>\n",
       "      <th>Segment_Label</th>\n",
       "      <th>clusters</th>\n",
       "    </tr>\n",
       "  </thead>\n",
       "  <tbody>\n",
       "    <tr>\n",
       "      <th>0</th>\n",
       "      <td>12346.000</td>\n",
       "      <td>326</td>\n",
       "      <td>726</td>\n",
       "      <td>34</td>\n",
       "      <td>77556.460</td>\n",
       "      <td>2281.072</td>\n",
       "      <td>2</td>\n",
       "      <td>2</td>\n",
       "      <td>5</td>\n",
       "      <td>5</td>\n",
       "      <td>225</td>\n",
       "      <td>22</td>\n",
       "      <td>Hibernating</td>\n",
       "      <td>3</td>\n",
       "    </tr>\n",
       "    <tr>\n",
       "      <th>1</th>\n",
       "      <td>12347.000</td>\n",
       "      <td>3</td>\n",
       "      <td>405</td>\n",
       "      <td>222</td>\n",
       "      <td>4921.530</td>\n",
       "      <td>22.169</td>\n",
       "      <td>5</td>\n",
       "      <td>5</td>\n",
       "      <td>5</td>\n",
       "      <td>2</td>\n",
       "      <td>555</td>\n",
       "      <td>55</td>\n",
       "      <td>Champions</td>\n",
       "      <td>5</td>\n",
       "    </tr>\n",
       "    <tr>\n",
       "      <th>2</th>\n",
       "      <td>12348.000</td>\n",
       "      <td>76</td>\n",
       "      <td>439</td>\n",
       "      <td>51</td>\n",
       "      <td>2019.400</td>\n",
       "      <td>39.596</td>\n",
       "      <td>3</td>\n",
       "      <td>3</td>\n",
       "      <td>4</td>\n",
       "      <td>3</td>\n",
       "      <td>334</td>\n",
       "      <td>33</td>\n",
       "      <td>Need_Attention</td>\n",
       "      <td>3</td>\n",
       "    </tr>\n",
       "    <tr>\n",
       "      <th>3</th>\n",
       "      <td>12349.000</td>\n",
       "      <td>19</td>\n",
       "      <td>590</td>\n",
       "      <td>175</td>\n",
       "      <td>4428.690</td>\n",
       "      <td>25.307</td>\n",
       "      <td>5</td>\n",
       "      <td>5</td>\n",
       "      <td>5</td>\n",
       "      <td>3</td>\n",
       "      <td>555</td>\n",
       "      <td>55</td>\n",
       "      <td>Champions</td>\n",
       "      <td>5</td>\n",
       "    </tr>\n",
       "    <tr>\n",
       "      <th>4</th>\n",
       "      <td>12350.000</td>\n",
       "      <td>311</td>\n",
       "      <td>311</td>\n",
       "      <td>17</td>\n",
       "      <td>334.400</td>\n",
       "      <td>19.671</td>\n",
       "      <td>2</td>\n",
       "      <td>2</td>\n",
       "      <td>2</td>\n",
       "      <td>2</td>\n",
       "      <td>222</td>\n",
       "      <td>22</td>\n",
       "      <td>Hibernating</td>\n",
       "      <td>6</td>\n",
       "    </tr>\n",
       "    <tr>\n",
       "      <th>5</th>\n",
       "      <td>12351.000</td>\n",
       "      <td>376</td>\n",
       "      <td>376</td>\n",
       "      <td>21</td>\n",
       "      <td>300.930</td>\n",
       "      <td>14.330</td>\n",
       "      <td>2</td>\n",
       "      <td>2</td>\n",
       "      <td>2</td>\n",
       "      <td>2</td>\n",
       "      <td>222</td>\n",
       "      <td>22</td>\n",
       "      <td>Hibernating</td>\n",
       "      <td>6</td>\n",
       "    </tr>\n",
       "    <tr>\n",
       "      <th>6</th>\n",
       "      <td>12352.000</td>\n",
       "      <td>37</td>\n",
       "      <td>393</td>\n",
       "      <td>103</td>\n",
       "      <td>2849.840</td>\n",
       "      <td>27.668</td>\n",
       "      <td>4</td>\n",
       "      <td>4</td>\n",
       "      <td>4</td>\n",
       "      <td>2</td>\n",
       "      <td>444</td>\n",
       "      <td>44</td>\n",
       "      <td>Loyal_Customers</td>\n",
       "      <td>5</td>\n",
       "    </tr>\n",
       "    <tr>\n",
       "      <th>7</th>\n",
       "      <td>12353.000</td>\n",
       "      <td>205</td>\n",
       "      <td>409</td>\n",
       "      <td>24</td>\n",
       "      <td>406.760</td>\n",
       "      <td>16.948</td>\n",
       "      <td>2</td>\n",
       "      <td>2</td>\n",
       "      <td>2</td>\n",
       "      <td>2</td>\n",
       "      <td>222</td>\n",
       "      <td>22</td>\n",
       "      <td>Hibernating</td>\n",
       "      <td>6</td>\n",
       "    </tr>\n",
       "    <tr>\n",
       "      <th>8</th>\n",
       "      <td>12354.000</td>\n",
       "      <td>233</td>\n",
       "      <td>233</td>\n",
       "      <td>58</td>\n",
       "      <td>1079.400</td>\n",
       "      <td>18.610</td>\n",
       "      <td>2</td>\n",
       "      <td>3</td>\n",
       "      <td>3</td>\n",
       "      <td>1</td>\n",
       "      <td>233</td>\n",
       "      <td>23</td>\n",
       "      <td>At_Risk</td>\n",
       "      <td>6</td>\n",
       "    </tr>\n",
       "    <tr>\n",
       "      <th>9</th>\n",
       "      <td>12355.000</td>\n",
       "      <td>215</td>\n",
       "      <td>568</td>\n",
       "      <td>35</td>\n",
       "      <td>947.610</td>\n",
       "      <td>27.075</td>\n",
       "      <td>2</td>\n",
       "      <td>2</td>\n",
       "      <td>3</td>\n",
       "      <td>3</td>\n",
       "      <td>223</td>\n",
       "      <td>22</td>\n",
       "      <td>Hibernating</td>\n",
       "      <td>6</td>\n",
       "    </tr>\n",
       "  </tbody>\n",
       "</table>\n",
       "</div>"
      ],
      "text/plain": [
       "   Customer ID  Recency  Tenure  Frequency  Monetary  BasketSize RecencyScore FrequencyScore MonetaryScore TenureScore RFM_SCORE Segment    Segment_Label  clusters\n",
       "0    12346.000      326     726         34 77556.460    2281.072            2              2             5           5       225      22      Hibernating         3\n",
       "1    12347.000        3     405        222  4921.530      22.169            5              5             5           2       555      55        Champions         5\n",
       "2    12348.000       76     439         51  2019.400      39.596            3              3             4           3       334      33   Need_Attention         3\n",
       "3    12349.000       19     590        175  4428.690      25.307            5              5             5           3       555      55        Champions         5\n",
       "4    12350.000      311     311         17   334.400      19.671            2              2             2           2       222      22      Hibernating         6\n",
       "5    12351.000      376     376         21   300.930      14.330            2              2             2           2       222      22      Hibernating         6\n",
       "6    12352.000       37     393        103  2849.840      27.668            4              4             4           2       444      44  Loyal_Customers         5\n",
       "7    12353.000      205     409         24   406.760      16.948            2              2             2           2       222      22      Hibernating         6\n",
       "8    12354.000      233     233         58  1079.400      18.610            2              3             3           1       233      23          At_Risk         6\n",
       "9    12355.000      215     568         35   947.610      27.075            2              2             3           3       223      22      Hibernating         6"
      ]
     },
     "execution_count": 558,
     "metadata": {},
     "output_type": "execute_result"
    }
   ],
   "source": [
    "segmentation.head(10)"
   ]
  },
  {
   "cell_type": "code",
   "execution_count": 559,
   "id": "1bb7fb27dc9e34df",
   "metadata": {
    "ExecuteTime": {
     "end_time": "2024-08-30T18:57:00.289640Z",
     "start_time": "2024-08-30T18:57:00.126555Z"
    },
    "collapsed": false,
    "jupyter": {
     "outputs_hidden": false
    }
   },
   "outputs": [
    {
     "data": {
      "text/html": [
       "<div>\n",
       "<style scoped>\n",
       "    .dataframe tbody tr th:only-of-type {\n",
       "        vertical-align: middle;\n",
       "    }\n",
       "\n",
       "    .dataframe tbody tr th {\n",
       "        vertical-align: top;\n",
       "    }\n",
       "\n",
       "    .dataframe thead tr th {\n",
       "        text-align: left;\n",
       "    }\n",
       "\n",
       "    .dataframe thead tr:last-of-type th {\n",
       "        text-align: right;\n",
       "    }\n",
       "</style>\n",
       "<table border=\"1\" class=\"dataframe\">\n",
       "  <thead>\n",
       "    <tr>\n",
       "      <th></th>\n",
       "      <th>Recency</th>\n",
       "      <th>Frequency</th>\n",
       "      <th>Monetary</th>\n",
       "      <th>Tenure</th>\n",
       "    </tr>\n",
       "    <tr>\n",
       "      <th></th>\n",
       "      <th>mean</th>\n",
       "      <th>mean</th>\n",
       "      <th>mean</th>\n",
       "      <th>mean</th>\n",
       "    </tr>\n",
       "    <tr>\n",
       "      <th>clusters</th>\n",
       "      <th></th>\n",
       "      <th></th>\n",
       "      <th></th>\n",
       "      <th></th>\n",
       "    </tr>\n",
       "  </thead>\n",
       "  <tbody>\n",
       "    <tr>\n",
       "      <th>0</th>\n",
       "      <td>30.734</td>\n",
       "      <td>416.795</td>\n",
       "      <td>10371.806</td>\n",
       "      <td>699.067</td>\n",
       "    </tr>\n",
       "    <tr>\n",
       "      <th>1</th>\n",
       "      <td>187.449</td>\n",
       "      <td>13.426</td>\n",
       "      <td>235.526</td>\n",
       "      <td>224.282</td>\n",
       "    </tr>\n",
       "    <tr>\n",
       "      <th>2</th>\n",
       "      <td>557.750</td>\n",
       "      <td>16.936</td>\n",
       "      <td>277.293</td>\n",
       "      <td>624.809</td>\n",
       "    </tr>\n",
       "    <tr>\n",
       "      <th>3</th>\n",
       "      <td>263.267</td>\n",
       "      <td>109.345</td>\n",
       "      <td>2315.448</td>\n",
       "      <td>649.015</td>\n",
       "    </tr>\n",
       "    <tr>\n",
       "      <th>4</th>\n",
       "      <td>41.864</td>\n",
       "      <td>49.484</td>\n",
       "      <td>1069.095</td>\n",
       "      <td>207.502</td>\n",
       "    </tr>\n",
       "    <tr>\n",
       "      <th>5</th>\n",
       "      <td>33.368</td>\n",
       "      <td>222.294</td>\n",
       "      <td>4033.141</td>\n",
       "      <td>381.274</td>\n",
       "    </tr>\n",
       "    <tr>\n",
       "      <th>6</th>\n",
       "      <td>334.404</td>\n",
       "      <td>38.978</td>\n",
       "      <td>719.087</td>\n",
       "      <td>458.183</td>\n",
       "    </tr>\n",
       "  </tbody>\n",
       "</table>\n",
       "</div>"
      ],
      "text/plain": [
       "         Recency Frequency  Monetary  Tenure\n",
       "            mean      mean      mean    mean\n",
       "clusters                                    \n",
       "0         30.734   416.795 10371.806 699.067\n",
       "1        187.449    13.426   235.526 224.282\n",
       "2        557.750    16.936   277.293 624.809\n",
       "3        263.267   109.345  2315.448 649.015\n",
       "4         41.864    49.484  1069.095 207.502\n",
       "5         33.368   222.294  4033.141 381.274\n",
       "6        334.404    38.978   719.087 458.183"
      ]
     },
     "execution_count": 559,
     "metadata": {},
     "output_type": "execute_result"
    }
   ],
   "source": [
    "segmentation.groupby(\"clusters\").agg({'Recency': ['mean'],'Frequency': ['mean'], 'Monetary': ['mean'], 'Tenure': ['mean'] }, ascending=True)"
   ]
  },
  {
   "cell_type": "code",
   "execution_count": 560,
   "id": "fe9838c277c68e07",
   "metadata": {
    "ExecuteTime": {
     "end_time": "2024-08-30T18:58:40.289242Z",
     "start_time": "2024-08-30T18:58:40.114605Z"
    },
    "collapsed": false,
    "jupyter": {
     "outputs_hidden": false
    }
   },
   "outputs": [],
   "source": [
    "segmentXclu = pd.crosstab(segmentation[\"Segment_Label\"],segmentation[\"clusters\"])"
   ]
  },
  {
   "cell_type": "code",
   "execution_count": 561,
   "id": "6f887932-993c-4815-bf29-f119abf4a36f",
   "metadata": {},
   "outputs": [
    {
     "data": {
      "text/html": [
       "<div>\n",
       "<style scoped>\n",
       "    .dataframe tbody tr th:only-of-type {\n",
       "        vertical-align: middle;\n",
       "    }\n",
       "\n",
       "    .dataframe tbody tr th {\n",
       "        vertical-align: top;\n",
       "    }\n",
       "\n",
       "    .dataframe thead th {\n",
       "        text-align: right;\n",
       "    }\n",
       "</style>\n",
       "<table border=\"1\" class=\"dataframe\">\n",
       "  <thead>\n",
       "    <tr style=\"text-align: right;\">\n",
       "      <th>clusters</th>\n",
       "      <th>0</th>\n",
       "      <th>1</th>\n",
       "      <th>2</th>\n",
       "      <th>3</th>\n",
       "      <th>4</th>\n",
       "      <th>5</th>\n",
       "      <th>6</th>\n",
       "    </tr>\n",
       "    <tr>\n",
       "      <th>Segment_Label</th>\n",
       "      <th></th>\n",
       "      <th></th>\n",
       "      <th></th>\n",
       "      <th></th>\n",
       "      <th></th>\n",
       "      <th></th>\n",
       "      <th></th>\n",
       "    </tr>\n",
       "  </thead>\n",
       "  <tbody>\n",
       "    <tr>\n",
       "      <th>About_to_Sleep</th>\n",
       "      <td>0</td>\n",
       "      <td>297</td>\n",
       "      <td>12</td>\n",
       "      <td>35</td>\n",
       "      <td>29</td>\n",
       "      <td>0</td>\n",
       "      <td>57</td>\n",
       "    </tr>\n",
       "    <tr>\n",
       "      <th>At_Risk</th>\n",
       "      <td>0</td>\n",
       "      <td>0</td>\n",
       "      <td>64</td>\n",
       "      <td>419</td>\n",
       "      <td>0</td>\n",
       "      <td>1</td>\n",
       "      <td>310</td>\n",
       "    </tr>\n",
       "    <tr>\n",
       "      <th>Cant_Loose</th>\n",
       "      <td>0</td>\n",
       "      <td>0</td>\n",
       "      <td>0</td>\n",
       "      <td>106</td>\n",
       "      <td>0</td>\n",
       "      <td>2</td>\n",
       "      <td>0</td>\n",
       "    </tr>\n",
       "    <tr>\n",
       "      <th>Champions</th>\n",
       "      <td>469</td>\n",
       "      <td>0</td>\n",
       "      <td>0</td>\n",
       "      <td>0</td>\n",
       "      <td>36</td>\n",
       "      <td>335</td>\n",
       "      <td>0</td>\n",
       "    </tr>\n",
       "    <tr>\n",
       "      <th>Hibernating</th>\n",
       "      <td>0</td>\n",
       "      <td>367</td>\n",
       "      <td>677</td>\n",
       "      <td>43</td>\n",
       "      <td>0</td>\n",
       "      <td>0</td>\n",
       "      <td>354</td>\n",
       "    </tr>\n",
       "    <tr>\n",
       "      <th>Loyal_Customers</th>\n",
       "      <td>478</td>\n",
       "      <td>0</td>\n",
       "      <td>0</td>\n",
       "      <td>216</td>\n",
       "      <td>69</td>\n",
       "      <td>356</td>\n",
       "      <td>8</td>\n",
       "    </tr>\n",
       "    <tr>\n",
       "      <th>Need_Attention</th>\n",
       "      <td>0</td>\n",
       "      <td>8</td>\n",
       "      <td>0</td>\n",
       "      <td>99</td>\n",
       "      <td>107</td>\n",
       "      <td>4</td>\n",
       "      <td>48</td>\n",
       "    </tr>\n",
       "    <tr>\n",
       "      <th>New_Customers</th>\n",
       "      <td>4</td>\n",
       "      <td>44</td>\n",
       "      <td>2</td>\n",
       "      <td>0</td>\n",
       "      <td>28</td>\n",
       "      <td>0</td>\n",
       "      <td>0</td>\n",
       "    </tr>\n",
       "    <tr>\n",
       "      <th>Potential_Loyalists</th>\n",
       "      <td>44</td>\n",
       "      <td>31</td>\n",
       "      <td>0</td>\n",
       "      <td>56</td>\n",
       "      <td>497</td>\n",
       "      <td>44</td>\n",
       "      <td>3</td>\n",
       "    </tr>\n",
       "    <tr>\n",
       "      <th>Promising</th>\n",
       "      <td>0</td>\n",
       "      <td>103</td>\n",
       "      <td>0</td>\n",
       "      <td>1</td>\n",
       "      <td>13</td>\n",
       "      <td>0</td>\n",
       "      <td>2</td>\n",
       "    </tr>\n",
       "  </tbody>\n",
       "</table>\n",
       "</div>"
      ],
      "text/plain": [
       "clusters               0    1    2    3    4    5    6\n",
       "Segment_Label                                         \n",
       "About_to_Sleep         0  297   12   35   29    0   57\n",
       "At_Risk                0    0   64  419    0    1  310\n",
       "Cant_Loose             0    0    0  106    0    2    0\n",
       "Champions            469    0    0    0   36  335    0\n",
       "Hibernating            0  367  677   43    0    0  354\n",
       "Loyal_Customers      478    0    0  216   69  356    8\n",
       "Need_Attention         0    8    0   99  107    4   48\n",
       "New_Customers          4   44    2    0   28    0    0\n",
       "Potential_Loyalists   44   31    0   56  497   44    3\n",
       "Promising              0  103    0    1   13    0    2"
      ]
     },
     "execution_count": 561,
     "metadata": {},
     "output_type": "execute_result"
    }
   ],
   "source": [
    "segmentXclu"
   ]
  },
  {
   "cell_type": "code",
   "execution_count": 562,
   "id": "dbd03468a4973a27",
   "metadata": {
    "ExecuteTime": {
     "end_time": "2024-08-30T19:01:10.677225Z",
     "start_time": "2024-08-30T19:01:10.531853Z"
    },
    "collapsed": false,
    "jupyter": {
     "outputs_hidden": false
    }
   },
   "outputs": [
    {
     "data": {
      "text/html": [
       "<div>\n",
       "<style scoped>\n",
       "    .dataframe tbody tr th:only-of-type {\n",
       "        vertical-align: middle;\n",
       "    }\n",
       "\n",
       "    .dataframe tbody tr th {\n",
       "        vertical-align: top;\n",
       "    }\n",
       "\n",
       "    .dataframe thead th {\n",
       "        text-align: right;\n",
       "    }\n",
       "</style>\n",
       "<table border=\"1\" class=\"dataframe\">\n",
       "  <thead>\n",
       "    <tr style=\"text-align: right;\">\n",
       "      <th></th>\n",
       "      <th>Customer ID</th>\n",
       "      <th>Recency</th>\n",
       "      <th>Tenure</th>\n",
       "      <th>Frequency</th>\n",
       "      <th>Monetary</th>\n",
       "      <th>BasketSize</th>\n",
       "      <th>RecencyScore</th>\n",
       "      <th>FrequencyScore</th>\n",
       "      <th>MonetaryScore</th>\n",
       "      <th>TenureScore</th>\n",
       "      <th>RFM_SCORE</th>\n",
       "      <th>Segment</th>\n",
       "      <th>Segment_Label</th>\n",
       "      <th>clusters</th>\n",
       "    </tr>\n",
       "  </thead>\n",
       "  <tbody>\n",
       "    <tr>\n",
       "      <th>12</th>\n",
       "      <td>12358.000</td>\n",
       "      <td>2</td>\n",
       "      <td>732</td>\n",
       "      <td>77</td>\n",
       "      <td>3887.070</td>\n",
       "      <td>50.481</td>\n",
       "      <td>5</td>\n",
       "      <td>4</td>\n",
       "      <td>5</td>\n",
       "      <td>5</td>\n",
       "      <td>545</td>\n",
       "      <td>54</td>\n",
       "      <td>Champions</td>\n",
       "      <td>0</td>\n",
       "    </tr>\n",
       "    <tr>\n",
       "      <th>13</th>\n",
       "      <td>12359.000</td>\n",
       "      <td>58</td>\n",
       "      <td>735</td>\n",
       "      <td>362</td>\n",
       "      <td>8873.390</td>\n",
       "      <td>24.512</td>\n",
       "      <td>4</td>\n",
       "      <td>5</td>\n",
       "      <td>5</td>\n",
       "      <td>5</td>\n",
       "      <td>455</td>\n",
       "      <td>45</td>\n",
       "      <td>Loyal_Customers</td>\n",
       "      <td>0</td>\n",
       "    </tr>\n",
       "    <tr>\n",
       "      <th>14</th>\n",
       "      <td>12360.000</td>\n",
       "      <td>53</td>\n",
       "      <td>656</td>\n",
       "      <td>217</td>\n",
       "      <td>4252.890</td>\n",
       "      <td>19.599</td>\n",
       "      <td>4</td>\n",
       "      <td>5</td>\n",
       "      <td>5</td>\n",
       "      <td>4</td>\n",
       "      <td>455</td>\n",
       "      <td>45</td>\n",
       "      <td>Loyal_Customers</td>\n",
       "      <td>0</td>\n",
       "    </tr>\n",
       "    <tr>\n",
       "      <th>16</th>\n",
       "      <td>12362.000</td>\n",
       "      <td>4</td>\n",
       "      <td>739</td>\n",
       "      <td>267</td>\n",
       "      <td>5356.230</td>\n",
       "      <td>20.061</td>\n",
       "      <td>5</td>\n",
       "      <td>5</td>\n",
       "      <td>5</td>\n",
       "      <td>5</td>\n",
       "      <td>555</td>\n",
       "      <td>55</td>\n",
       "      <td>Champions</td>\n",
       "      <td>0</td>\n",
       "    </tr>\n",
       "    <tr>\n",
       "      <th>24</th>\n",
       "      <td>12370.000</td>\n",
       "      <td>52</td>\n",
       "      <td>669</td>\n",
       "      <td>201</td>\n",
       "      <td>4316.560</td>\n",
       "      <td>21.475</td>\n",
       "      <td>4</td>\n",
       "      <td>5</td>\n",
       "      <td>5</td>\n",
       "      <td>4</td>\n",
       "      <td>455</td>\n",
       "      <td>45</td>\n",
       "      <td>Loyal_Customers</td>\n",
       "      <td>0</td>\n",
       "    </tr>\n",
       "  </tbody>\n",
       "</table>\n",
       "</div>"
      ],
      "text/plain": [
       "    Customer ID  Recency  Tenure  Frequency  Monetary  BasketSize RecencyScore FrequencyScore MonetaryScore TenureScore RFM_SCORE Segment    Segment_Label  clusters\n",
       "12    12358.000        2     732         77  3887.070      50.481            5              4             5           5       545      54        Champions         0\n",
       "13    12359.000       58     735        362  8873.390      24.512            4              5             5           5       455      45  Loyal_Customers         0\n",
       "14    12360.000       53     656        217  4252.890      19.599            4              5             5           4       455      45  Loyal_Customers         0\n",
       "16    12362.000        4     739        267  5356.230      20.061            5              5             5           5       555      55        Champions         0\n",
       "24    12370.000       52     669        201  4316.560      21.475            4              5             5           4       455      45  Loyal_Customers         0"
      ]
     },
     "execution_count": 562,
     "metadata": {},
     "output_type": "execute_result"
    }
   ],
   "source": [
    "zero_clu = segmentation[segmentation[\"clusters\"] == 0] \n",
    "zero_clu.head()"
   ]
  },
  {
   "cell_type": "code",
   "execution_count": 563,
   "id": "b3ef2b04991c45d5",
   "metadata": {
    "ExecuteTime": {
     "end_time": "2024-08-30T19:01:27.416957Z",
     "start_time": "2024-08-30T19:01:27.262884Z"
    },
    "collapsed": false,
    "jupyter": {
     "outputs_hidden": false
    }
   },
   "outputs": [
    {
     "data": {
      "text/html": [
       "<div>\n",
       "<style scoped>\n",
       "    .dataframe tbody tr th:only-of-type {\n",
       "        vertical-align: middle;\n",
       "    }\n",
       "\n",
       "    .dataframe tbody tr th {\n",
       "        vertical-align: top;\n",
       "    }\n",
       "\n",
       "    .dataframe thead th {\n",
       "        text-align: right;\n",
       "    }\n",
       "</style>\n",
       "<table border=\"1\" class=\"dataframe\">\n",
       "  <thead>\n",
       "    <tr style=\"text-align: right;\">\n",
       "      <th></th>\n",
       "      <th>count</th>\n",
       "      <th>mean</th>\n",
       "      <th>std</th>\n",
       "      <th>min</th>\n",
       "      <th>25%</th>\n",
       "      <th>50%</th>\n",
       "      <th>75%</th>\n",
       "      <th>max</th>\n",
       "    </tr>\n",
       "  </thead>\n",
       "  <tbody>\n",
       "    <tr>\n",
       "      <th>Customer ID</th>\n",
       "      <td>995.000</td>\n",
       "      <td>15322.808</td>\n",
       "      <td>1695.403</td>\n",
       "      <td>12358.000</td>\n",
       "      <td>13869.500</td>\n",
       "      <td>15291.000</td>\n",
       "      <td>16801.500</td>\n",
       "      <td>18283.000</td>\n",
       "    </tr>\n",
       "    <tr>\n",
       "      <th>Recency</th>\n",
       "      <td>995.000</td>\n",
       "      <td>30.734</td>\n",
       "      <td>32.798</td>\n",
       "      <td>1.000</td>\n",
       "      <td>9.000</td>\n",
       "      <td>20.000</td>\n",
       "      <td>41.000</td>\n",
       "      <td>188.000</td>\n",
       "    </tr>\n",
       "    <tr>\n",
       "      <th>Tenure</th>\n",
       "      <td>995.000</td>\n",
       "      <td>699.067</td>\n",
       "      <td>42.157</td>\n",
       "      <td>598.000</td>\n",
       "      <td>667.000</td>\n",
       "      <td>724.000</td>\n",
       "      <td>734.000</td>\n",
       "      <td>739.000</td>\n",
       "    </tr>\n",
       "    <tr>\n",
       "      <th>Frequency</th>\n",
       "      <td>995.000</td>\n",
       "      <td>416.795</td>\n",
       "      <td>710.196</td>\n",
       "      <td>6.000</td>\n",
       "      <td>156.500</td>\n",
       "      <td>264.000</td>\n",
       "      <td>456.500</td>\n",
       "      <td>12435.000</td>\n",
       "    </tr>\n",
       "    <tr>\n",
       "      <th>Monetary</th>\n",
       "      <td>995.000</td>\n",
       "      <td>10371.806</td>\n",
       "      <td>31790.765</td>\n",
       "      <td>462.120</td>\n",
       "      <td>2776.300</td>\n",
       "      <td>4732.030</td>\n",
       "      <td>8751.285</td>\n",
       "      <td>580987.040</td>\n",
       "    </tr>\n",
       "    <tr>\n",
       "      <th>BasketSize</th>\n",
       "      <td>995.000</td>\n",
       "      <td>31.476</td>\n",
       "      <td>72.780</td>\n",
       "      <td>2.841</td>\n",
       "      <td>11.330</td>\n",
       "      <td>18.436</td>\n",
       "      <td>26.096</td>\n",
       "      <td>1459.440</td>\n",
       "    </tr>\n",
       "    <tr>\n",
       "      <th>clusters</th>\n",
       "      <td>995.000</td>\n",
       "      <td>0.000</td>\n",
       "      <td>0.000</td>\n",
       "      <td>0.000</td>\n",
       "      <td>0.000</td>\n",
       "      <td>0.000</td>\n",
       "      <td>0.000</td>\n",
       "      <td>0.000</td>\n",
       "    </tr>\n",
       "  </tbody>\n",
       "</table>\n",
       "</div>"
      ],
      "text/plain": [
       "              count      mean       std       min       25%       50%       75%        max\n",
       "Customer ID 995.000 15322.808  1695.403 12358.000 13869.500 15291.000 16801.500  18283.000\n",
       "Recency     995.000    30.734    32.798     1.000     9.000    20.000    41.000    188.000\n",
       "Tenure      995.000   699.067    42.157   598.000   667.000   724.000   734.000    739.000\n",
       "Frequency   995.000   416.795   710.196     6.000   156.500   264.000   456.500  12435.000\n",
       "Monetary    995.000 10371.806 31790.765   462.120  2776.300  4732.030  8751.285 580987.040\n",
       "BasketSize  995.000    31.476    72.780     2.841    11.330    18.436    26.096   1459.440\n",
       "clusters    995.000     0.000     0.000     0.000     0.000     0.000     0.000      0.000"
      ]
     },
     "execution_count": 563,
     "metadata": {},
     "output_type": "execute_result"
    }
   ],
   "source": [
    "zero_clu.describe().T"
   ]
  },
  {
   "cell_type": "code",
   "execution_count": 564,
   "id": "dc11100b1224051b",
   "metadata": {
    "ExecuteTime": {
     "end_time": "2024-08-30T19:01:43.586253Z",
     "start_time": "2024-08-30T19:01:43.411360Z"
    },
    "collapsed": false,
    "jupyter": {
     "outputs_hidden": false
    }
   },
   "outputs": [
    {
     "data": {
      "text/html": [
       "<div>\n",
       "<style scoped>\n",
       "    .dataframe tbody tr th:only-of-type {\n",
       "        vertical-align: middle;\n",
       "    }\n",
       "\n",
       "    .dataframe tbody tr th {\n",
       "        vertical-align: top;\n",
       "    }\n",
       "\n",
       "    .dataframe thead tr th {\n",
       "        text-align: left;\n",
       "    }\n",
       "\n",
       "    .dataframe thead tr:last-of-type th {\n",
       "        text-align: right;\n",
       "    }\n",
       "</style>\n",
       "<table border=\"1\" class=\"dataframe\">\n",
       "  <thead>\n",
       "    <tr>\n",
       "      <th></th>\n",
       "      <th>FrequencyScore</th>\n",
       "    </tr>\n",
       "    <tr>\n",
       "      <th></th>\n",
       "      <th>mean</th>\n",
       "    </tr>\n",
       "    <tr>\n",
       "      <th>clusters</th>\n",
       "      <th></th>\n",
       "    </tr>\n",
       "  </thead>\n",
       "  <tbody>\n",
       "    <tr>\n",
       "      <th>0</th>\n",
       "      <td>4.643</td>\n",
       "    </tr>\n",
       "    <tr>\n",
       "      <th>1</th>\n",
       "      <td>1.302</td>\n",
       "    </tr>\n",
       "    <tr>\n",
       "      <th>2</th>\n",
       "      <td>1.499</td>\n",
       "    </tr>\n",
       "    <tr>\n",
       "      <th>3</th>\n",
       "      <td>3.584</td>\n",
       "    </tr>\n",
       "    <tr>\n",
       "      <th>4</th>\n",
       "      <td>2.705</td>\n",
       "    </tr>\n",
       "    <tr>\n",
       "      <th>5</th>\n",
       "      <td>4.389</td>\n",
       "    </tr>\n",
       "    <tr>\n",
       "      <th>6</th>\n",
       "      <td>2.451</td>\n",
       "    </tr>\n",
       "  </tbody>\n",
       "</table>\n",
       "</div>"
      ],
      "text/plain": [
       "         FrequencyScore\n",
       "                   mean\n",
       "clusters               \n",
       "0                 4.643\n",
       "1                 1.302\n",
       "2                 1.499\n",
       "3                 3.584\n",
       "4                 2.705\n",
       "5                 4.389\n",
       "6                 2.451"
      ]
     },
     "execution_count": 564,
     "metadata": {},
     "output_type": "execute_result"
    }
   ],
   "source": [
    "segment_data.groupby(\"clusters\").agg({'FrequencyScore': ['mean']}, ascending=True)"
   ]
  },
  {
   "cell_type": "markdown",
   "id": "6c8174d2cfc7349e",
   "metadata": {
    "collapsed": false,
    "jupyter": {
     "outputs_hidden": false
    }
   },
   "source": [
    "# Hierarchical - Clustering"
   ]
  },
  {
   "cell_type": "code",
   "execution_count": 566,
   "id": "9983959723f49cc8",
   "metadata": {
    "ExecuteTime": {
     "end_time": "2024-08-30T19:03:18.158281Z",
     "start_time": "2024-08-30T19:03:18.052166Z"
    },
    "collapsed": false,
    "jupyter": {
     "outputs_hidden": false
    }
   },
   "outputs": [],
   "source": [
    "from scipy.cluster.hierarchy import dendrogram, linkage\n",
    "from sklearn.cluster import AgglomerativeClustering"
   ]
  },
  {
   "cell_type": "code",
   "execution_count": 567,
   "id": "356409167b66258f",
   "metadata": {
    "ExecuteTime": {
     "end_time": "2024-08-30T19:03:41.737830Z",
     "start_time": "2024-08-30T19:03:41.592099Z"
    },
    "collapsed": false,
    "jupyter": {
     "outputs_hidden": false
    }
   },
   "outputs": [
    {
     "data": {
      "text/html": [
       "<div>\n",
       "<style scoped>\n",
       "    .dataframe tbody tr th:only-of-type {\n",
       "        vertical-align: middle;\n",
       "    }\n",
       "\n",
       "    .dataframe tbody tr th {\n",
       "        vertical-align: top;\n",
       "    }\n",
       "\n",
       "    .dataframe thead th {\n",
       "        text-align: right;\n",
       "    }\n",
       "</style>\n",
       "<table border=\"1\" class=\"dataframe\">\n",
       "  <thead>\n",
       "    <tr style=\"text-align: right;\">\n",
       "      <th></th>\n",
       "      <th>RecencyScore</th>\n",
       "      <th>FrequencyScore</th>\n",
       "      <th>TenureScore</th>\n",
       "    </tr>\n",
       "  </thead>\n",
       "  <tbody>\n",
       "    <tr>\n",
       "      <th>0</th>\n",
       "      <td>2</td>\n",
       "      <td>2</td>\n",
       "      <td>5</td>\n",
       "    </tr>\n",
       "    <tr>\n",
       "      <th>1</th>\n",
       "      <td>5</td>\n",
       "      <td>5</td>\n",
       "      <td>2</td>\n",
       "    </tr>\n",
       "    <tr>\n",
       "      <th>2</th>\n",
       "      <td>3</td>\n",
       "      <td>3</td>\n",
       "      <td>3</td>\n",
       "    </tr>\n",
       "    <tr>\n",
       "      <th>3</th>\n",
       "      <td>5</td>\n",
       "      <td>5</td>\n",
       "      <td>3</td>\n",
       "    </tr>\n",
       "    <tr>\n",
       "      <th>4</th>\n",
       "      <td>2</td>\n",
       "      <td>2</td>\n",
       "      <td>2</td>\n",
       "    </tr>\n",
       "  </tbody>\n",
       "</table>\n",
       "</div>"
      ],
      "text/plain": [
       "   RecencyScore  FrequencyScore  TenureScore\n",
       "0             2               2            5\n",
       "1             5               5            2\n",
       "2             3               3            3\n",
       "3             5               5            3\n",
       "4             2               2            2"
      ]
     },
     "execution_count": 567,
     "metadata": {},
     "output_type": "execute_result"
    }
   ],
   "source": [
    "segment_data1 = segment_data.drop(['clusters','MonetaryScore'], axis=1)\n",
    "segment_data1.head()"
   ]
  },
  {
   "cell_type": "code",
   "execution_count": 568,
   "id": "88926ed358eb686b",
   "metadata": {
    "ExecuteTime": {
     "end_time": "2024-08-30T19:06:55.304912Z",
     "start_time": "2024-08-30T19:06:21.961108Z"
    },
    "collapsed": false,
    "jupyter": {
     "outputs_hidden": false
    }
   },
   "outputs": [
    {
     "data": {
      "image/png": "[encoded data removed]",
      "text/plain": [
       "<Figure size 800x550 with 1 Axes>"
      ]
     },
     "metadata": {},
     "output_type": "display_data"
    }
   ],
   "source": [
    "linkage_method = linkage(segment_data1, method ='ward', metric='euclidean')\n",
    "Dendrogram = dendrogram(linkage_method);"
   ]
  },
  {
   "cell_type": "code",
   "execution_count": 569,
   "id": "8d6525de-2cee-4255-b4cb-58cad2e20692",
   "metadata": {},
   "outputs": [
    {
     "data": {
      "image/png": "[encoded data removed]",
      "text/plain": [
       "<Figure size 2000x1200 with 1 Axes>"
      ]
     },
     "metadata": {},
     "output_type": "display_data"
    }
   ],
   "source": [
    "# 3. Dendrogram Grafiği\n",
    "plt.figure(figsize=(20, 12))  # Grafik boyutunu ayarlayın\n",
    "dendrogram(\n",
    "    linkage_method,\n",
    "    orientation='top',  # Yukarıdan aşağıya bir dendrogram\n",
    "    labels=segment_data1.index.tolist(),  # Örneklerin indekslerini etiket olarak kullan\n",
    "    distance_sort='descending',  # Mesafeleri azalan sırayla düzenle\n",
    "    show_leaf_counts=True  # Yaprakların sayısını göster\n",
    ")\n",
    "\n",
    "# 4. Grafik Ayarları\n",
    "plt.title('Dendrogram (Hiyerarşik Kümeleme)')\n",
    "plt.xlabel('Örnek İndeksi')\n",
    "plt.ylabel('Öklidyen Mesafesi')\n",
    "plt.grid(axis='y', linestyle='--', alpha=0.7)\n",
    "\n",
    "# 5. Göster\n",
    "plt.tight_layout()\n",
    "plt.show()"
   ]
  },
  {
   "cell_type": "code",
   "execution_count": 570,
   "id": "ce0713ab706fa1db",
   "metadata": {
    "ExecuteTime": {
     "end_time": "2024-08-30T21:12:14.401159Z",
     "start_time": "2024-08-30T21:12:14.319300Z"
    },
    "collapsed": false,
    "jupyter": {
     "outputs_hidden": false
    }
   },
   "outputs": [],
   "source": [
    "cluster_ea = AgglomerativeClustering(n_clusters=7, linkage='ward', metric='euclidean')"
   ]
  },
  {
   "cell_type": "code",
   "execution_count": 571,
   "id": "8f86c07b-2996-44a0-86e6-38137759f14e",
   "metadata": {},
   "outputs": [
    {
     "data": {
      "text/html": [
       "<style>#sk-container-id-3 {\n",
       "  /* Definition of color scheme common for light and dark mode */\n",
       "  --sklearn-color-text: black;\n",
       "  --sklearn-color-line: gray;\n",
       "  /* Definition of color scheme for unfitted estimators */\n",
       "  --sklearn-color-unfitted-level-0: #fff5e6;\n",
       "  --sklearn-color-unfitted-level-1: #f6e4d2;\n",
       "  --sklearn-color-unfitted-level-2: #ffe0b3;\n",
       "  --sklearn-color-unfitted-level-3: chocolate;\n",
       "  /* Definition of color scheme for fitted estimators */\n",
       "  --sklearn-color-fitted-level-0: #f0f8ff;\n",
       "  --sklearn-color-fitted-level-1: #d4ebff;\n",
       "  --sklearn-color-fitted-level-2: #b3dbfd;\n",
       "  --sklearn-color-fitted-level-3: cornflowerblue;\n",
       "\n",
       "  /* Specific color for light theme */\n",
       "  --sklearn-color-text-on-default-background: var(--sg-text-color, var(--theme-code-foreground, var(--jp-content-font-color1, black)));\n",
       "  --sklearn-color-background: var(--sg-background-color, var(--theme-background, var(--jp-layout-color0, white)));\n",
       "  --sklearn-color-border-box: var(--sg-text-color, var(--theme-code-foreground, var(--jp-content-font-color1, black)));\n",
       "  --sklearn-color-icon: #696969;\n",
       "\n",
       "  @media (prefers-color-scheme: dark) {\n",
       "    /* Redefinition of color scheme for dark theme */\n",
       "    --sklearn-color-text-on-default-background: var(--sg-text-color, var(--theme-code-foreground, var(--jp-content-font-color1, white)));\n",
       "    --sklearn-color-background: var(--sg-background-color, var(--theme-background, var(--jp-layout-color0, #111)));\n",
       "    --sklearn-color-border-box: var(--sg-text-color, var(--theme-code-foreground, var(--jp-content-font-color1, white)));\n",
       "    --sklearn-color-icon: #878787;\n",
       "  }\n",
       "}\n",
       "\n",
       "#sk-container-id-3 {\n",
       "  color: var(--sklearn-color-text);\n",
       "}\n",
       "\n",
       "#sk-container-id-3 pre {\n",
       "  padding: 0;\n",
       "}\n",
       "\n",
       "#sk-container-id-3 input.sk-hidden--visually {\n",
       "  border: 0;\n",
       "  clip: rect(1px 1px 1px 1px);\n",
       "  clip: rect(1px, 1px, 1px, 1px);\n",
       "  height: 1px;\n",
       "  margin: -1px;\n",
       "  overflow: hidden;\n",
       "  padding: 0;\n",
       "  position: absolute;\n",
       "  width: 1px;\n",
       "}\n",
       "\n",
       "#sk-container-id-3 div.sk-dashed-wrapped {\n",
       "  border: 1px dashed var(--sklearn-color-line);\n",
       "  margin: 0 0.4em 0.5em 0.4em;\n",
       "  box-sizing: border-box;\n",
       "  padding-bottom: 0.4em;\n",
       "  background-color: var(--sklearn-color-background);\n",
       "}\n",
       "\n",
       "#sk-container-id-3 div.sk-container {\n",
       "  /* jupyter's `normalize.less` sets `[hidden] { display: none; }`\n",
       "     but bootstrap.min.css set `[hidden] { display: none !important; }`\n",
       "     so we also need the `!important` here to be able to override the\n",
       "     default hidden behavior on the sphinx rendered scikit-learn.org.\n",
       "     See: https://github.com/scikit-learn/scikit-learn/issues/21755 */\n",
       "  display: inline-block !important;\n",
       "  position: relative;\n",
       "}\n",
       "\n",
       "#sk-container-id-3 div.sk-text-repr-fallback {\n",
       "  display: none;\n",
       "}\n",
       "\n",
       "div.sk-parallel-item,\n",
       "div.sk-serial,\n",
       "div.sk-item {\n",
       "  /* draw centered vertical line to link estimators */\n",
       "  background-image: linear-gradient(var(--sklearn-color-text-on-default-background), var(--sklearn-color-text-on-default-background));\n",
       "  background-size: 2px 100%;\n",
       "  background-repeat: no-repeat;\n",
       "  background-position: center center;\n",
       "}\n",
       "\n",
       "/* Parallel-specific style estimator block */\n",
       "\n",
       "#sk-container-id-3 div.sk-parallel-item::after {\n",
       "  content: \"\";\n",
       "  width: 100%;\n",
       "  border-bottom: 2px solid var(--sklearn-color-text-on-default-background);\n",
       "  flex-grow: 1;\n",
       "}\n",
       "\n",
       "#sk-container-id-3 div.sk-parallel {\n",
       "  display: flex;\n",
       "  align-items: stretch;\n",
       "  justify-content: center;\n",
       "  background-color: var(--sklearn-color-background);\n",
       "  position: relative;\n",
       "}\n",
       "\n",
       "#sk-container-id-3 div.sk-parallel-item {\n",
       "  display: flex;\n",
       "  flex-direction: column;\n",
       "}\n",
       "\n",
       "#sk-container-id-3 div.sk-parallel-item:first-child::after {\n",
       "  align-self: flex-end;\n",
       "  width: 50%;\n",
       "}\n",
       "\n",
       "#sk-container-id-3 div.sk-parallel-item:last-child::after {\n",
       "  align-self: flex-start;\n",
       "  width: 50%;\n",
       "}\n",
       "\n",
       "#sk-container-id-3 div.sk-parallel-item:only-child::after {\n",
       "  width: 0;\n",
       "}\n",
       "\n",
       "/* Serial-specific style estimator block */\n",
       "\n",
       "#sk-container-id-3 div.sk-serial {\n",
       "  display: flex;\n",
       "  flex-direction: column;\n",
       "  align-items: center;\n",
       "  background-color: var(--sklearn-color-background);\n",
       "  padding-right: 1em;\n",
       "  padding-left: 1em;\n",
       "}\n",
       "\n",
       "\n",
       "/* Toggleable style: style used for estimator/Pipeline/ColumnTransformer box that is\n",
       "clickable and can be expanded/collapsed.\n",
       "- Pipeline and ColumnTransformer use this feature and define the default style\n",
       "- Estimators will overwrite some part of the style using the `sk-estimator` class\n",
       "*/\n",
       "\n",
       "/* Pipeline and ColumnTransformer style (default) */\n",
       "\n",
       "#sk-container-id-3 div.sk-toggleable {\n",
       "  /* Default theme specific background. It is overwritten whether we have a\n",
       "  specific estimator or a Pipeline/ColumnTransformer */\n",
       "  background-color: var(--sklearn-color-background);\n",
       "}\n",
       "\n",
       "/* Toggleable label */\n",
       "#sk-container-id-3 label.sk-toggleable__label {\n",
       "  cursor: pointer;\n",
       "  display: block;\n",
       "  width: 100%;\n",
       "  margin-bottom: 0;\n",
       "  padding: 0.5em;\n",
       "  box-sizing: border-box;\n",
       "  text-align: center;\n",
       "}\n",
       "\n",
       "#sk-container-id-3 label.sk-toggleable__label-arrow:before {\n",
       "  /* Arrow on the left of the label */\n",
       "  content: \"▸\";\n",
       "  float: left;\n",
       "  margin-right: 0.25em;\n",
       "  color: var(--sklearn-color-icon);\n",
       "}\n",
       "\n",
       "#sk-container-id-3 label.sk-toggleable__label-arrow:hover:before {\n",
       "  color: var(--sklearn-color-text);\n",
       "}\n",
       "\n",
       "/* Toggleable content - dropdown */\n",
       "\n",
       "#sk-container-id-3 div.sk-toggleable__content {\n",
       "  max-height: 0;\n",
       "  max-width: 0;\n",
       "  overflow: hidden;\n",
       "  text-align: left;\n",
       "  /* unfitted */\n",
       "  background-color: var(--sklearn-color-unfitted-level-0);\n",
       "}\n",
       "\n",
       "#sk-container-id-3 div.sk-toggleable__content.fitted {\n",
       "  /* fitted */\n",
       "  background-color: var(--sklearn-color-fitted-level-0);\n",
       "}\n",
       "\n",
       "#sk-container-id-3 div.sk-toggleable__content pre {\n",
       "  margin: 0.2em;\n",
       "  border-radius: 0.25em;\n",
       "  color: var(--sklearn-color-text);\n",
       "  /* unfitted */\n",
       "  background-color: var(--sklearn-color-unfitted-level-0);\n",
       "}\n",
       "\n",
       "#sk-container-id-3 div.sk-toggleable__content.fitted pre {\n",
       "  /* unfitted */\n",
       "  background-color: var(--sklearn-color-fitted-level-0);\n",
       "}\n",
       "\n",
       "#sk-container-id-3 input.sk-toggleable__control:checked~div.sk-toggleable__content {\n",
       "  /* Expand drop-down */\n",
       "  max-height: 200px;\n",
       "  max-width: 100%;\n",
       "  overflow: auto;\n",
       "}\n",
       "\n",
       "#sk-container-id-3 input.sk-toggleable__control:checked~label.sk-toggleable__label-arrow:before {\n",
       "  content: \"▾\";\n",
       "}\n",
       "\n",
       "/* Pipeline/ColumnTransformer-specific style */\n",
       "\n",
       "#sk-container-id-3 div.sk-label input.sk-toggleable__control:checked~label.sk-toggleable__label {\n",
       "  color: var(--sklearn-color-text);\n",
       "  background-color: var(--sklearn-color-unfitted-level-2);\n",
       "}\n",
       "\n",
       "#sk-container-id-3 div.sk-label.fitted input.sk-toggleable__control:checked~label.sk-toggleable__label {\n",
       "  background-color: var(--sklearn-color-fitted-level-2);\n",
       "}\n",
       "\n",
       "/* Estimator-specific style */\n",
       "\n",
       "/* Colorize estimator box */\n",
       "#sk-container-id-3 div.sk-estimator input.sk-toggleable__control:checked~label.sk-toggleable__label {\n",
       "  /* unfitted */\n",
       "  background-color: var(--sklearn-color-unfitted-level-2);\n",
       "}\n",
       "\n",
       "#sk-container-id-3 div.sk-estimator.fitted input.sk-toggleable__control:checked~label.sk-toggleable__label {\n",
       "  /* fitted */\n",
       "  background-color: var(--sklearn-color-fitted-level-2);\n",
       "}\n",
       "\n",
       "#sk-container-id-3 div.sk-label label.sk-toggleable__label,\n",
       "#sk-container-id-3 div.sk-label label {\n",
       "  /* The background is the default theme color */\n",
       "  color: var(--sklearn-color-text-on-default-background);\n",
       "}\n",
       "\n",
       "/* On hover, darken the color of the background */\n",
       "#sk-container-id-3 div.sk-label:hover label.sk-toggleable__label {\n",
       "  color: var(--sklearn-color-text);\n",
       "  background-color: var(--sklearn-color-unfitted-level-2);\n",
       "}\n",
       "\n",
       "/* Label box, darken color on hover, fitted */\n",
       "#sk-container-id-3 div.sk-label.fitted:hover label.sk-toggleable__label.fitted {\n",
       "  color: var(--sklearn-color-text);\n",
       "  background-color: var(--sklearn-color-fitted-level-2);\n",
       "}\n",
       "\n",
       "/* Estimator label */\n",
       "\n",
       "#sk-container-id-3 div.sk-label label {\n",
       "  font-family: monospace;\n",
       "  font-weight: bold;\n",
       "  display: inline-block;\n",
       "  line-height: 1.2em;\n",
       "}\n",
       "\n",
       "#sk-container-id-3 div.sk-label-container {\n",
       "  text-align: center;\n",
       "}\n",
       "\n",
       "/* Estimator-specific */\n",
       "#sk-container-id-3 div.sk-estimator {\n",
       "  font-family: monospace;\n",
       "  border: 1px dotted var(--sklearn-color-border-box);\n",
       "  border-radius: 0.25em;\n",
       "  box-sizing: border-box;\n",
       "  margin-bottom: 0.5em;\n",
       "  /* unfitted */\n",
       "  background-color: var(--sklearn-color-unfitted-level-0);\n",
       "}\n",
       "\n",
       "#sk-container-id-3 div.sk-estimator.fitted {\n",
       "  /* fitted */\n",
       "  background-color: var(--sklearn-color-fitted-level-0);\n",
       "}\n",
       "\n",
       "/* on hover */\n",
       "#sk-container-id-3 div.sk-estimator:hover {\n",
       "  /* unfitted */\n",
       "  background-color: var(--sklearn-color-unfitted-level-2);\n",
       "}\n",
       "\n",
       "#sk-container-id-3 div.sk-estimator.fitted:hover {\n",
       "  /* fitted */\n",
       "  background-color: var(--sklearn-color-fitted-level-2);\n",
       "}\n",
       "\n",
       "/* Specification for estimator info (e.g. \"i\" and \"?\") */\n",
       "\n",
       "/* Common style for \"i\" and \"?\" */\n",
       "\n",
       ".sk-estimator-doc-link,\n",
       "a:link.sk-estimator-doc-link,\n",
       "a:visited.sk-estimator-doc-link {\n",
       "  float: right;\n",
       "  font-size: smaller;\n",
       "  line-height: 1em;\n",
       "  font-family: monospace;\n",
       "  background-color: var(--sklearn-color-background);\n",
       "  border-radius: 1em;\n",
       "  height: 1em;\n",
       "  width: 1em;\n",
       "  text-decoration: none !important;\n",
       "  margin-left: 1ex;\n",
       "  /* unfitted */\n",
       "  border: var(--sklearn-color-unfitted-level-1) 1pt solid;\n",
       "  color: var(--sklearn-color-unfitted-level-1);\n",
       "}\n",
       "\n",
       ".sk-estimator-doc-link.fitted,\n",
       "a:link.sk-estimator-doc-link.fitted,\n",
       "a:visited.sk-estimator-doc-link.fitted {\n",
       "  /* fitted */\n",
       "  border: var(--sklearn-color-fitted-level-1) 1pt solid;\n",
       "  color: var(--sklearn-color-fitted-level-1);\n",
       "}\n",
       "\n",
       "/* On hover */\n",
       "div.sk-estimator:hover .sk-estimator-doc-link:hover,\n",
       ".sk-estimator-doc-link:hover,\n",
       "div.sk-label-container:hover .sk-estimator-doc-link:hover,\n",
       ".sk-estimator-doc-link:hover {\n",
       "  /* unfitted */\n",
       "  background-color: var(--sklearn-color-unfitted-level-3);\n",
       "  color: var(--sklearn-color-background);\n",
       "  text-decoration: none;\n",
       "}\n",
       "\n",
       "div.sk-estimator.fitted:hover .sk-estimator-doc-link.fitted:hover,\n",
       ".sk-estimator-doc-link.fitted:hover,\n",
       "div.sk-label-container:hover .sk-estimator-doc-link.fitted:hover,\n",
       ".sk-estimator-doc-link.fitted:hover {\n",
       "  /* fitted */\n",
       "  background-color: var(--sklearn-color-fitted-level-3);\n",
       "  color: var(--sklearn-color-background);\n",
       "  text-decoration: none;\n",
       "}\n",
       "\n",
       "/* Span, style for the box shown on hovering the info icon */\n",
       ".sk-estimator-doc-link span {\n",
       "  display: none;\n",
       "  z-index: 9999;\n",
       "  position: relative;\n",
       "  font-weight: normal;\n",
       "  right: .2ex;\n",
       "  padding: .5ex;\n",
       "  margin: .5ex;\n",
       "  width: min-content;\n",
       "  min-width: 20ex;\n",
       "  max-width: 50ex;\n",
       "  color: var(--sklearn-color-text);\n",
       "  box-shadow: 2pt 2pt 4pt #999;\n",
       "  /* unfitted */\n",
       "  background: var(--sklearn-color-unfitted-level-0);\n",
       "  border: .5pt solid var(--sklearn-color-unfitted-level-3);\n",
       "}\n",
       "\n",
       ".sk-estimator-doc-link.fitted span {\n",
       "  /* fitted */\n",
       "  background: var(--sklearn-color-fitted-level-0);\n",
       "  border: var(--sklearn-color-fitted-level-3);\n",
       "}\n",
       "\n",
       ".sk-estimator-doc-link:hover span {\n",
       "  display: block;\n",
       "}\n",
       "\n",
       "/* \"?\"-specific style due to the `<a>` HTML tag */\n",
       "\n",
       "#sk-container-id-3 a.estimator_doc_link {\n",
       "  float: right;\n",
       "  font-size: 1rem;\n",
       "  line-height: 1em;\n",
       "  font-family: monospace;\n",
       "  background-color: var(--sklearn-color-background);\n",
       "  border-radius: 1rem;\n",
       "  height: 1rem;\n",
       "  width: 1rem;\n",
       "  text-decoration: none;\n",
       "  /* unfitted */\n",
       "  color: var(--sklearn-color-unfitted-level-1);\n",
       "  border: var(--sklearn-color-unfitted-level-1) 1pt solid;\n",
       "}\n",
       "\n",
       "#sk-container-id-3 a.estimator_doc_link.fitted {\n",
       "  /* fitted */\n",
       "  border: var(--sklearn-color-fitted-level-1) 1pt solid;\n",
       "  color: var(--sklearn-color-fitted-level-1);\n",
       "}\n",
       "\n",
       "/* On hover */\n",
       "#sk-container-id-3 a.estimator_doc_link:hover {\n",
       "  /* unfitted */\n",
       "  background-color: var(--sklearn-color-unfitted-level-3);\n",
       "  color: var(--sklearn-color-background);\n",
       "  text-decoration: none;\n",
       "}\n",
       "\n",
       "#sk-container-id-3 a.estimator_doc_link.fitted:hover {\n",
       "  /* fitted */\n",
       "  background-color: var(--sklearn-color-fitted-level-3);\n",
       "}\n",
       "</style><div id=\"sk-container-id-3\" class=\"sk-top-container\"><div class=\"sk-text-repr-fallback\"><pre>AgglomerativeClustering(n_clusters=7)</pre><b>In a Jupyter environment, please rerun this cell to show the HTML representation or trust the notebook. <br />On GitHub, the HTML representation is unable to render, please try loading this page with nbviewer.org.</b></div><div class=\"sk-container\" hidden><div class=\"sk-item\"><div class=\"sk-estimator  sk-toggleable\"><input class=\"sk-toggleable__control sk-hidden--visually\" id=\"sk-estimator-id-3\" type=\"checkbox\" checked><label for=\"sk-estimator-id-3\" class=\"sk-toggleable__label  sk-toggleable__label-arrow \">&nbsp;&nbsp;AgglomerativeClustering<a class=\"sk-estimator-doc-link \" rel=\"noreferrer\" target=\"_blank\" href=\"https://scikit-learn.org/1.4/modules/generated/sklearn.cluster.AgglomerativeClustering.html\">?<span>Documentation for AgglomerativeClustering</span></a><span class=\"sk-estimator-doc-link \">i<span>Not fitted</span></span></label><div class=\"sk-toggleable__content \"><pre>AgglomerativeClustering(n_clusters=7)</pre></div> </div></div></div></div>"
      ],
      "text/plain": [
       "AgglomerativeClustering(n_clusters=7)"
      ]
     },
     "execution_count": 571,
     "metadata": {},
     "output_type": "execute_result"
    }
   ],
   "source": [
    "cluster_ea"
   ]
  },
  {
   "cell_type": "code",
   "execution_count": 572,
   "id": "51b0361da0b683f2",
   "metadata": {
    "ExecuteTime": {
     "end_time": "2024-08-30T21:12:26.158170Z",
     "start_time": "2024-08-30T21:12:25.956199Z"
    },
    "collapsed": false,
    "jupyter": {
     "outputs_hidden": false
    }
   },
   "outputs": [],
   "source": [
    "cluster_labels = cluster_ea.fit_predict(segment_data1)"
   ]
  },
  {
   "cell_type": "code",
   "execution_count": 573,
   "id": "d392ba73c6c59691",
   "metadata": {
    "ExecuteTime": {
     "end_time": "2024-08-30T21:12:57.658232Z",
     "start_time": "2024-08-30T21:12:57.605584Z"
    },
    "collapsed": false,
    "jupyter": {
     "outputs_hidden": false
    }
   },
   "outputs": [],
   "source": [
    "segment_data1[\"clusters_hy\"] = cluster_labels"
   ]
  },
  {
   "cell_type": "code",
   "execution_count": 574,
   "id": "8e54edaad190b7e9",
   "metadata": {
    "ExecuteTime": {
     "end_time": "2024-08-30T21:13:17.056200Z",
     "start_time": "2024-08-30T21:13:16.967770Z"
    },
    "collapsed": false,
    "jupyter": {
     "outputs_hidden": false
    }
   },
   "outputs": [
    {
     "data": {
      "text/html": [
       "<div>\n",
       "<style scoped>\n",
       "    .dataframe tbody tr th:only-of-type {\n",
       "        vertical-align: middle;\n",
       "    }\n",
       "\n",
       "    .dataframe tbody tr th {\n",
       "        vertical-align: top;\n",
       "    }\n",
       "\n",
       "    .dataframe thead th {\n",
       "        text-align: right;\n",
       "    }\n",
       "</style>\n",
       "<table border=\"1\" class=\"dataframe\">\n",
       "  <thead>\n",
       "    <tr style=\"text-align: right;\">\n",
       "      <th></th>\n",
       "      <th>RecencyScore</th>\n",
       "      <th>FrequencyScore</th>\n",
       "      <th>TenureScore</th>\n",
       "      <th>clusters_hy</th>\n",
       "    </tr>\n",
       "  </thead>\n",
       "  <tbody>\n",
       "    <tr>\n",
       "      <th>0</th>\n",
       "      <td>2</td>\n",
       "      <td>2</td>\n",
       "      <td>5</td>\n",
       "      <td>0</td>\n",
       "    </tr>\n",
       "    <tr>\n",
       "      <th>1</th>\n",
       "      <td>5</td>\n",
       "      <td>5</td>\n",
       "      <td>2</td>\n",
       "      <td>4</td>\n",
       "    </tr>\n",
       "    <tr>\n",
       "      <th>2</th>\n",
       "      <td>3</td>\n",
       "      <td>3</td>\n",
       "      <td>3</td>\n",
       "      <td>0</td>\n",
       "    </tr>\n",
       "    <tr>\n",
       "      <th>3</th>\n",
       "      <td>5</td>\n",
       "      <td>5</td>\n",
       "      <td>3</td>\n",
       "      <td>1</td>\n",
       "    </tr>\n",
       "    <tr>\n",
       "      <th>4</th>\n",
       "      <td>2</td>\n",
       "      <td>2</td>\n",
       "      <td>2</td>\n",
       "      <td>3</td>\n",
       "    </tr>\n",
       "    <tr>\n",
       "      <th>...</th>\n",
       "      <td>...</td>\n",
       "      <td>...</td>\n",
       "      <td>...</td>\n",
       "      <td>...</td>\n",
       "    </tr>\n",
       "    <tr>\n",
       "      <th>5873</th>\n",
       "      <td>5</td>\n",
       "      <td>5</td>\n",
       "      <td>4</td>\n",
       "      <td>1</td>\n",
       "    </tr>\n",
       "    <tr>\n",
       "      <th>5874</th>\n",
       "      <td>1</td>\n",
       "      <td>2</td>\n",
       "      <td>2</td>\n",
       "      <td>3</td>\n",
       "    </tr>\n",
       "    <tr>\n",
       "      <th>5875</th>\n",
       "      <td>1</td>\n",
       "      <td>1</td>\n",
       "      <td>4</td>\n",
       "      <td>5</td>\n",
       "    </tr>\n",
       "    <tr>\n",
       "      <th>5876</th>\n",
       "      <td>1</td>\n",
       "      <td>3</td>\n",
       "      <td>5</td>\n",
       "      <td>5</td>\n",
       "    </tr>\n",
       "    <tr>\n",
       "      <th>5877</th>\n",
       "      <td>4</td>\n",
       "      <td>4</td>\n",
       "      <td>3</td>\n",
       "      <td>1</td>\n",
       "    </tr>\n",
       "  </tbody>\n",
       "</table>\n",
       "<p>5878 rows × 4 columns</p>\n",
       "</div>"
      ],
      "text/plain": [
       "      RecencyScore  FrequencyScore  TenureScore  clusters_hy\n",
       "0                2               2            5            0\n",
       "1                5               5            2            4\n",
       "2                3               3            3            0\n",
       "3                5               5            3            1\n",
       "4                2               2            2            3\n",
       "...            ...             ...          ...          ...\n",
       "5873             5               5            4            1\n",
       "5874             1               2            2            3\n",
       "5875             1               1            4            5\n",
       "5876             1               3            5            5\n",
       "5877             4               4            3            1\n",
       "\n",
       "[5878 rows x 4 columns]"
      ]
     },
     "execution_count": 574,
     "metadata": {},
     "output_type": "execute_result"
    }
   ],
   "source": [
    "segment_data1"
   ]
  },
  {
   "cell_type": "code",
   "execution_count": 575,
   "id": "7af592f1-fbee-4015-8c7a-8d3dafde29ea",
   "metadata": {},
   "outputs": [],
   "source": [
    "seg_merged = segmentation.join(segment_data1[['clusters_hy']])"
   ]
  },
  {
   "cell_type": "code",
   "execution_count": 576,
   "id": "1b53a8296d71dd39",
   "metadata": {
    "ExecuteTime": {
     "end_time": "2024-08-30T21:14:24.809404Z",
     "start_time": "2024-08-30T21:14:24.719046Z"
    },
    "collapsed": false,
    "jupyter": {
     "outputs_hidden": false
    }
   },
   "outputs": [
    {
     "data": {
      "text/html": [
       "<div>\n",
       "<style scoped>\n",
       "    .dataframe tbody tr th:only-of-type {\n",
       "        vertical-align: middle;\n",
       "    }\n",
       "\n",
       "    .dataframe tbody tr th {\n",
       "        vertical-align: top;\n",
       "    }\n",
       "\n",
       "    .dataframe thead th {\n",
       "        text-align: right;\n",
       "    }\n",
       "</style>\n",
       "<table border=\"1\" class=\"dataframe\">\n",
       "  <thead>\n",
       "    <tr style=\"text-align: right;\">\n",
       "      <th></th>\n",
       "      <th>Customer ID</th>\n",
       "      <th>Recency</th>\n",
       "      <th>Tenure</th>\n",
       "      <th>Frequency</th>\n",
       "      <th>Monetary</th>\n",
       "      <th>BasketSize</th>\n",
       "      <th>RecencyScore</th>\n",
       "      <th>FrequencyScore</th>\n",
       "      <th>MonetaryScore</th>\n",
       "      <th>TenureScore</th>\n",
       "      <th>RFM_SCORE</th>\n",
       "      <th>Segment</th>\n",
       "      <th>Segment_Label</th>\n",
       "      <th>clusters</th>\n",
       "      <th>clusters_hy</th>\n",
       "    </tr>\n",
       "  </thead>\n",
       "  <tbody>\n",
       "    <tr>\n",
       "      <th>0</th>\n",
       "      <td>12346.000</td>\n",
       "      <td>326</td>\n",
       "      <td>726</td>\n",
       "      <td>34</td>\n",
       "      <td>77556.460</td>\n",
       "      <td>2281.072</td>\n",
       "      <td>2</td>\n",
       "      <td>2</td>\n",
       "      <td>5</td>\n",
       "      <td>5</td>\n",
       "      <td>225</td>\n",
       "      <td>22</td>\n",
       "      <td>Hibernating</td>\n",
       "      <td>3</td>\n",
       "      <td>0</td>\n",
       "    </tr>\n",
       "    <tr>\n",
       "      <th>1</th>\n",
       "      <td>12347.000</td>\n",
       "      <td>3</td>\n",
       "      <td>405</td>\n",
       "      <td>222</td>\n",
       "      <td>4921.530</td>\n",
       "      <td>22.169</td>\n",
       "      <td>5</td>\n",
       "      <td>5</td>\n",
       "      <td>5</td>\n",
       "      <td>2</td>\n",
       "      <td>555</td>\n",
       "      <td>55</td>\n",
       "      <td>Champions</td>\n",
       "      <td>5</td>\n",
       "      <td>4</td>\n",
       "    </tr>\n",
       "    <tr>\n",
       "      <th>2</th>\n",
       "      <td>12348.000</td>\n",
       "      <td>76</td>\n",
       "      <td>439</td>\n",
       "      <td>51</td>\n",
       "      <td>2019.400</td>\n",
       "      <td>39.596</td>\n",
       "      <td>3</td>\n",
       "      <td>3</td>\n",
       "      <td>4</td>\n",
       "      <td>3</td>\n",
       "      <td>334</td>\n",
       "      <td>33</td>\n",
       "      <td>Need_Attention</td>\n",
       "      <td>3</td>\n",
       "      <td>0</td>\n",
       "    </tr>\n",
       "    <tr>\n",
       "      <th>3</th>\n",
       "      <td>12349.000</td>\n",
       "      <td>19</td>\n",
       "      <td>590</td>\n",
       "      <td>175</td>\n",
       "      <td>4428.690</td>\n",
       "      <td>25.307</td>\n",
       "      <td>5</td>\n",
       "      <td>5</td>\n",
       "      <td>5</td>\n",
       "      <td>3</td>\n",
       "      <td>555</td>\n",
       "      <td>55</td>\n",
       "      <td>Champions</td>\n",
       "      <td>5</td>\n",
       "      <td>1</td>\n",
       "    </tr>\n",
       "    <tr>\n",
       "      <th>4</th>\n",
       "      <td>12350.000</td>\n",
       "      <td>311</td>\n",
       "      <td>311</td>\n",
       "      <td>17</td>\n",
       "      <td>334.400</td>\n",
       "      <td>19.671</td>\n",
       "      <td>2</td>\n",
       "      <td>2</td>\n",
       "      <td>2</td>\n",
       "      <td>2</td>\n",
       "      <td>222</td>\n",
       "      <td>22</td>\n",
       "      <td>Hibernating</td>\n",
       "      <td>6</td>\n",
       "      <td>3</td>\n",
       "    </tr>\n",
       "    <tr>\n",
       "      <th>5</th>\n",
       "      <td>12351.000</td>\n",
       "      <td>376</td>\n",
       "      <td>376</td>\n",
       "      <td>21</td>\n",
       "      <td>300.930</td>\n",
       "      <td>14.330</td>\n",
       "      <td>2</td>\n",
       "      <td>2</td>\n",
       "      <td>2</td>\n",
       "      <td>2</td>\n",
       "      <td>222</td>\n",
       "      <td>22</td>\n",
       "      <td>Hibernating</td>\n",
       "      <td>6</td>\n",
       "      <td>3</td>\n",
       "    </tr>\n",
       "    <tr>\n",
       "      <th>6</th>\n",
       "      <td>12352.000</td>\n",
       "      <td>37</td>\n",
       "      <td>393</td>\n",
       "      <td>103</td>\n",
       "      <td>2849.840</td>\n",
       "      <td>27.668</td>\n",
       "      <td>4</td>\n",
       "      <td>4</td>\n",
       "      <td>4</td>\n",
       "      <td>2</td>\n",
       "      <td>444</td>\n",
       "      <td>44</td>\n",
       "      <td>Loyal_Customers</td>\n",
       "      <td>5</td>\n",
       "      <td>4</td>\n",
       "    </tr>\n",
       "    <tr>\n",
       "      <th>7</th>\n",
       "      <td>12353.000</td>\n",
       "      <td>205</td>\n",
       "      <td>409</td>\n",
       "      <td>24</td>\n",
       "      <td>406.760</td>\n",
       "      <td>16.948</td>\n",
       "      <td>2</td>\n",
       "      <td>2</td>\n",
       "      <td>2</td>\n",
       "      <td>2</td>\n",
       "      <td>222</td>\n",
       "      <td>22</td>\n",
       "      <td>Hibernating</td>\n",
       "      <td>6</td>\n",
       "      <td>3</td>\n",
       "    </tr>\n",
       "    <tr>\n",
       "      <th>8</th>\n",
       "      <td>12354.000</td>\n",
       "      <td>233</td>\n",
       "      <td>233</td>\n",
       "      <td>58</td>\n",
       "      <td>1079.400</td>\n",
       "      <td>18.610</td>\n",
       "      <td>2</td>\n",
       "      <td>3</td>\n",
       "      <td>3</td>\n",
       "      <td>1</td>\n",
       "      <td>233</td>\n",
       "      <td>23</td>\n",
       "      <td>At_Risk</td>\n",
       "      <td>6</td>\n",
       "      <td>3</td>\n",
       "    </tr>\n",
       "    <tr>\n",
       "      <th>9</th>\n",
       "      <td>12355.000</td>\n",
       "      <td>215</td>\n",
       "      <td>568</td>\n",
       "      <td>35</td>\n",
       "      <td>947.610</td>\n",
       "      <td>27.075</td>\n",
       "      <td>2</td>\n",
       "      <td>2</td>\n",
       "      <td>3</td>\n",
       "      <td>3</td>\n",
       "      <td>223</td>\n",
       "      <td>22</td>\n",
       "      <td>Hibernating</td>\n",
       "      <td>6</td>\n",
       "      <td>3</td>\n",
       "    </tr>\n",
       "  </tbody>\n",
       "</table>\n",
       "</div>"
      ],
      "text/plain": [
       "   Customer ID  Recency  Tenure  Frequency  Monetary  BasketSize RecencyScore FrequencyScore MonetaryScore TenureScore RFM_SCORE Segment    Segment_Label  clusters  clusters_hy\n",
       "0    12346.000      326     726         34 77556.460    2281.072            2              2             5           5       225      22      Hibernating         3            0\n",
       "1    12347.000        3     405        222  4921.530      22.169            5              5             5           2       555      55        Champions         5            4\n",
       "2    12348.000       76     439         51  2019.400      39.596            3              3             4           3       334      33   Need_Attention         3            0\n",
       "3    12349.000       19     590        175  4428.690      25.307            5              5             5           3       555      55        Champions         5            1\n",
       "4    12350.000      311     311         17   334.400      19.671            2              2             2           2       222      22      Hibernating         6            3\n",
       "5    12351.000      376     376         21   300.930      14.330            2              2             2           2       222      22      Hibernating         6            3\n",
       "6    12352.000       37     393        103  2849.840      27.668            4              4             4           2       444      44  Loyal_Customers         5            4\n",
       "7    12353.000      205     409         24   406.760      16.948            2              2             2           2       222      22      Hibernating         6            3\n",
       "8    12354.000      233     233         58  1079.400      18.610            2              3             3           1       233      23          At_Risk         6            3\n",
       "9    12355.000      215     568         35   947.610      27.075            2              2             3           3       223      22      Hibernating         6            3"
      ]
     },
     "execution_count": 576,
     "metadata": {},
     "output_type": "execute_result"
    }
   ],
   "source": [
    "seg_merged.head(10)"
   ]
  },
  {
   "cell_type": "code",
   "execution_count": 577,
   "id": "879a70ac6a223fe4",
   "metadata": {
    "ExecuteTime": {
     "end_time": "2024-08-30T21:14:55.445207Z",
     "start_time": "2024-08-30T21:14:55.354008Z"
    },
    "collapsed": false,
    "jupyter": {
     "outputs_hidden": false
    }
   },
   "outputs": [
    {
     "data": {
      "text/html": [
       "<div>\n",
       "<style scoped>\n",
       "    .dataframe tbody tr th:only-of-type {\n",
       "        vertical-align: middle;\n",
       "    }\n",
       "\n",
       "    .dataframe tbody tr th {\n",
       "        vertical-align: top;\n",
       "    }\n",
       "\n",
       "    .dataframe thead th {\n",
       "        text-align: right;\n",
       "    }\n",
       "</style>\n",
       "<table border=\"1\" class=\"dataframe\">\n",
       "  <thead>\n",
       "    <tr style=\"text-align: right;\">\n",
       "      <th>clusters</th>\n",
       "      <th>0</th>\n",
       "      <th>1</th>\n",
       "      <th>2</th>\n",
       "      <th>3</th>\n",
       "      <th>4</th>\n",
       "      <th>5</th>\n",
       "      <th>6</th>\n",
       "    </tr>\n",
       "    <tr>\n",
       "      <th>clusters_hy</th>\n",
       "      <th></th>\n",
       "      <th></th>\n",
       "      <th></th>\n",
       "      <th></th>\n",
       "      <th></th>\n",
       "      <th></th>\n",
       "      <th></th>\n",
       "    </tr>\n",
       "  </thead>\n",
       "  <tbody>\n",
       "    <tr>\n",
       "      <th>0</th>\n",
       "      <td>48</td>\n",
       "      <td>26</td>\n",
       "      <td>66</td>\n",
       "      <td>561</td>\n",
       "      <td>70</td>\n",
       "      <td>24</td>\n",
       "      <td>188</td>\n",
       "    </tr>\n",
       "    <tr>\n",
       "      <th>1</th>\n",
       "      <td>947</td>\n",
       "      <td>0</td>\n",
       "      <td>0</td>\n",
       "      <td>216</td>\n",
       "      <td>5</td>\n",
       "      <td>278</td>\n",
       "      <td>7</td>\n",
       "    </tr>\n",
       "    <tr>\n",
       "      <th>2</th>\n",
       "      <td>0</td>\n",
       "      <td>449</td>\n",
       "      <td>0</td>\n",
       "      <td>0</td>\n",
       "      <td>497</td>\n",
       "      <td>20</td>\n",
       "      <td>9</td>\n",
       "    </tr>\n",
       "    <tr>\n",
       "      <th>3</th>\n",
       "      <td>0</td>\n",
       "      <td>367</td>\n",
       "      <td>255</td>\n",
       "      <td>3</td>\n",
       "      <td>0</td>\n",
       "      <td>1</td>\n",
       "      <td>348</td>\n",
       "    </tr>\n",
       "    <tr>\n",
       "      <th>4</th>\n",
       "      <td>0</td>\n",
       "      <td>0</td>\n",
       "      <td>0</td>\n",
       "      <td>0</td>\n",
       "      <td>73</td>\n",
       "      <td>365</td>\n",
       "      <td>0</td>\n",
       "    </tr>\n",
       "    <tr>\n",
       "      <th>5</th>\n",
       "      <td>0</td>\n",
       "      <td>0</td>\n",
       "      <td>434</td>\n",
       "      <td>95</td>\n",
       "      <td>0</td>\n",
       "      <td>0</td>\n",
       "      <td>0</td>\n",
       "    </tr>\n",
       "    <tr>\n",
       "      <th>6</th>\n",
       "      <td>0</td>\n",
       "      <td>8</td>\n",
       "      <td>0</td>\n",
       "      <td>100</td>\n",
       "      <td>134</td>\n",
       "      <td>54</td>\n",
       "      <td>230</td>\n",
       "    </tr>\n",
       "  </tbody>\n",
       "</table>\n",
       "</div>"
      ],
      "text/plain": [
       "clusters       0    1    2    3    4    5    6\n",
       "clusters_hy                                   \n",
       "0             48   26   66  561   70   24  188\n",
       "1            947    0    0  216    5  278    7\n",
       "2              0  449    0    0  497   20    9\n",
       "3              0  367  255    3    0    1  348\n",
       "4              0    0    0    0   73  365    0\n",
       "5              0    0  434   95    0    0    0\n",
       "6              0    8    0  100  134   54  230"
      ]
     },
     "execution_count": 577,
     "metadata": {},
     "output_type": "execute_result"
    }
   ],
   "source": [
    "clu_compare = pd.crosstab(seg_merged[\"clusters_hy\"],seg_merged[\"clusters\"])\n",
    "clu_compare"
   ]
  },
  {
   "cell_type": "code",
   "execution_count": null,
   "id": "16bda8a969d1cdf9",
   "metadata": {
    "collapsed": false,
    "jupyter": {
     "outputs_hidden": false
    }
   },
   "outputs": [],
   "source": []
  }
 ],
 "metadata": {
  "colab": {
   "provenance": []
  },
  "kernelspec": {
   "display_name": "Python 3 (ipykernel)",
   "language": "python",
   "name": "python3"
  },
  "language_info": {
   "codemirror_mode": {
    "name": "ipython",
    "version": 3
   },
   "file_extension": ".py",
   "mimetype": "text/x-python",
   "name": "python",
   "nbconvert_exporter": "python",
   "pygments_lexer": "ipython3",
   "version": "3.12.4"
  }
 },
 "nbformat": 4,
 "nbformat_minor": 5
}
